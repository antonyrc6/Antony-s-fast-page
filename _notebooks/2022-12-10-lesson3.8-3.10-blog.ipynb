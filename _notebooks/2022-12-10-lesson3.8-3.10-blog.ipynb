{
 "cells": [
  {
   "attachments": {},
   "cell_type": "markdown",
   "metadata": {},
   "source": [
    "# Lesson 3.8 3.10 blog\n",
    "- title: Lesson 3.8 & 3.10 blog\n",
    "- toc: true\n",
    "- categories: [notebook]\n",
    "- tags: [blog]\n",
    "- comments: true"
   ]
  },
  {
   "attachments": {},
   "cell_type": "markdown",
   "metadata": {},
   "source": [
    "### Vocabulary\n",
    "- Iteration: a repeating part of an algorithm, repeats a certain time until the condition is met.\n",
    "- Iteration Statement: change the sequence of control by repeating a statement until condition met.\n",
    "- Repeating Until: if the condition is evaluate true, \n"
   ]
  }
 ],
 "metadata": {
  "kernelspec": {
   "display_name": "base",
   "language": "python",
   "name": "python3"
  },
  "language_info": {
   "name": "python",
   "version": "3.9.12 (main, Apr  5 2022, 06:56:58) \n[GCC 7.5.0]"
  },
  "orig_nbformat": 4,
  "vscode": {
   "interpreter": {
    "hash": "40fb0cd5d44f051881184c5210ed52312dabb6d62ace68d9106c589b91788473"
   }
  }
 },
 "nbformat": 4,
 "nbformat_minor": 2
}
