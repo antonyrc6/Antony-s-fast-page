{
 "cells": [
  {
   "attachments": {},
   "cell_type": "markdown",
   "metadata": {},
   "source": [
    "# Lesson 3.9 3.11 hack\n",
    "\n",
    "- title: Lesson 3.9 3.11 hack\n",
    "- toc: true\n",
    "- categories: [notebook]\n",
    "- tags: [hack]\n",
    "- comments: true"
   ]
  },
  {
   "attachments": {},
   "cell_type": "markdown",
   "metadata": {},
   "source": [
    "### Hack 1\n",
    "\n",
    "- why is it important to know that algorithms that look different can do the same thing and that algorithms that look the same might have different results?\n",
    "- It is important to know that algorithms looks different is because there will be a difference can make it wrong, even they looks the same.\n",
    "- for the converted conditional to boolean conversion"
   ]
  },
  {
   "cell_type": "code",
   "execution_count": 4,
   "metadata": {},
   "outputs": [
    {
     "name": "stdout",
     "output_type": "stream",
     "text": [
      "Eat it\n"
     ]
    }
   ],
   "source": [
    "isSolid = False\n",
    "isSoft = True\n",
    "\n",
    "if isSolid == True:\n",
    "    print(\"Don't Eat it\")\n",
    "else:\n",
    "    if isLiquid == True:\n",
    "        print(\"Eat it\")\n",
    "    else:\n",
    "        print(\"Don't eat it\")"
   ]
  },
  {
   "cell_type": "code",
   "execution_count": 3,
   "metadata": {},
   "outputs": [
    {
     "name": "stdout",
     "output_type": "stream",
     "text": [
      "Eat it\n"
     ]
    }
   ],
   "source": [
    "isSolid = False\n",
    "isSoft = True\n",
    "\n",
    "eatTime = not(isSolid) and isSoft\n",
    "if eatTime == False:\n",
    "    print(\"Don't eat it\")\n",
    "if eatTime == True:\n",
    "    print(\"Eat it\")"
   ]
  },
  {
   "attachments": {},
   "cell_type": "markdown",
   "metadata": {},
   "source": [
    "### Hack 2\n",
    "Develop your own complex algorithm using a flowchart and natural language, then code it!\n",
    "\n",
    "Requirements:\n",
    "\n",
    "Includes both a flowchart AND natural language\n",
    "Working code of the same algorithm\n",
    "Incorporates selection AND/OR iteration\n",
    "Make it creative!\n",
    "1. Input what show user is looking for\n",
    "2. check if show is in show dictionary\n",
    "3. If it is in dictionary, move onto step 4. If not, print \"not available\"\n",
    "4. check if the show has a rating of 3 or higher\n",
    "5. If it does, print \"recommended\"; if it doesn't print \"not recommended\""
   ]
  },
  {
   "cell_type": "code",
   "execution_count": 2,
   "metadata": {},
   "outputs": [
    {
     "name": "stdout",
     "output_type": "stream",
     "text": [
      "7 is not available\n"
     ]
    }
   ],
   "source": [
    "itemdictionary = {\n",
    "    'item1':2,  \n",
    "    'item3':3, \n",
    "    'item4':5,\n",
    "    'item5':1\n",
    "}\n",
    "show = input(\"What item are you looking for?\")\n",
    "if show in showdictionary.keys():\n",
    "    print(show + \" is available\")\n",
    "    if showdictionary[show] >= 2:\n",
    "         print(\"recommended\")\n",
    "    else:\n",
    "        print(\"not recommended\")\n",
    "else:\n",
    "    print(show + \" is not available\")"
   ]
  },
  {
   "attachments": {},
   "cell_type": "markdown",
   "metadata": {},
   "source": [
    "### Hack 3\n",
    "1. Make a flow chart for the algorithm number guessing game.\n",
    "2. Make a function that gets the user guess.\n",
    "3. Modify the existing search function to give more encouraging feedback."
   ]
  },
  {
   "cell_type": "code",
   "execution_count": 8,
   "metadata": {},
   "outputs": [
    {
     "name": "stdout",
     "output_type": "stream",
     "text": [
      "Think a number between 0 and 100.\n",
      "You guessed 8.\n",
      "You guessed too high\n",
      "Guess a number between 0 and 8.\n",
      "You guessed 5.\n",
      "You guessed too low\n",
      "Guess a number between 5 and 8.\n",
      "You guessed 6.\n",
      "You guessed too low\n",
      "Guess a number between 6 and 8.\n",
      "You guessed 7.\n",
      "You guessed the number in 4 guesses!\n"
     ]
    }
   ],
   "source": [
    "import random\n",
    "\n",
    "num_guesses = 0\n",
    "user_input = -1\n",
    "upper_bound = 10\n",
    "lower_bound = 0\n",
    "\n",
    "number = random.randint(0,10)\n",
    "\n",
    "print(\"Think a number between 0 and 100.\")\n",
    "\n",
    "def guess():\n",
    "    num = input(\"Choose a number!\")\n",
    "    return num \n",
    "\n",
    "def search(number, guess):\n",
    "    global lower_bound, upper_bound\n",
    "    if int(guess) < int(number):\n",
    "        print(\"You guessed too low\") \n",
    "        lower_bound = guess\n",
    "        return lower_bound, upper_bound\n",
    "    elif int(guess) > int(number):\n",
    "        print(\"You guessed too high\")\n",
    "        upper_bound = guess\n",
    "        return lower_bound, upper_bound\n",
    "    else:\n",
    "        upper_bound, lower_bound = guess, guess\n",
    "        return lower_bound, upper_bound \n",
    "\n",
    "while user_input != number:\n",
    "    user_input = guess()\n",
    "    num_guesses += 1\n",
    "    print(f\"You guessed {user_input}.\")\n",
    "    lower_bound, upper_bound = search(number, user_input)\n",
    "    if int(upper_bound) == int(number):\n",
    "        break\n",
    "    else:\n",
    "        print(f\"Guess a number between {lower_bound} and {upper_bound}.\")\n",
    "\n",
    "print(f\"You guessed the number in {num_guesses} guesses!\")"
   ]
  },
  {
   "attachments": {},
   "cell_type": "markdown",
   "metadata": {},
   "source": [
    "### Hack 4\n",
    "1. calculate the middle index and create a binary tree for each of these lists\n",
    "    - 12, 14, 43, 57, 79, 80, 99\n",
    "    - 92, 43, 74, 66, 30, 12, 1\n",
    "    - 7, 13, 96, 111, 33, 84, 60\n",
    "2. Using one of the sets of numbers from the question above, what would be the second number looked at in a binary search if the number is more than the middle number?\n",
    "- It's 80, 74, and 96\n",
    "3. Which of the following lists can NOT a binary search be used in order to find a targeted value?\n",
    "\n",
    "    a. [\"amy\", \"beverly\", \"christian\", \"devin\"]\n",
    "\n",
    "    b. [-1, 2, 6, 9, 19]\n",
    "\n",
    "    c. [3, 2, 8, 12, 99]\n",
    "    \n",
    "    d. [\"xylophone\", \"snowman\", \"snake\", \"doorbell\", \"author\"]\n",
    "\n",
    "    C\n",
    "    "
   ]
  },
  {
   "cell_type": "code",
   "execution_count": 14,
   "metadata": {},
   "outputs": [
    {
     "name": "stdout",
     "output_type": "stream",
     "text": [
      "middle is 57\n"
     ]
    }
   ],
   "source": [
    "index = [12, 14, 43, 57, 79, 80, 99]\n",
    "index.sort()\n",
    "mid = int(len(index) / 2) \n",
    "print(\"middle is\",index[mid])"
   ]
  },
  {
   "cell_type": "code",
   "execution_count": 12,
   "metadata": {},
   "outputs": [
    {
     "name": "stdout",
     "output_type": "stream",
     "text": [
      "middle is 43\n"
     ]
    }
   ],
   "source": [
    "index =[1, 12, 30, 43, 66, 74, 92]\n",
    "index.sort()\n",
    "mid = int(len(index) / 2) \n",
    "print(\"middle is\",index[mid])"
   ]
  },
  {
   "cell_type": "code",
   "execution_count": 13,
   "metadata": {},
   "outputs": [
    {
     "name": "stdout",
     "output_type": "stream",
     "text": [
      "middle is 60\n"
     ]
    }
   ],
   "source": [
    "index = [7, 13, 33, 60, 84, 96, 111]\n",
    "index.sort()\n",
    "mid = int(len(index) / 2) \n",
    "print(\"middle is\",index[mid])"
   ]
  }
 ],
 "metadata": {
  "kernelspec": {
   "display_name": "base",
   "language": "python",
   "name": "python3"
  },
  "language_info": {
   "codemirror_mode": {
    "name": "ipython",
    "version": 3
   },
   "file_extension": ".py",
   "mimetype": "text/x-python",
   "name": "python",
   "nbconvert_exporter": "python",
   "pygments_lexer": "ipython3",
   "version": "3.9.12"
  },
  "orig_nbformat": 4,
  "vscode": {
   "interpreter": {
    "hash": "40fb0cd5d44f051881184c5210ed52312dabb6d62ace68d9106c589b91788473"
   }
  }
 },
 "nbformat": 4,
 "nbformat_minor": 2
}
