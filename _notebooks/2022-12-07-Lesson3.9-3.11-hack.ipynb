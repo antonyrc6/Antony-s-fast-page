{
 "cells": [
  {
   "attachments": {},
   "cell_type": "markdown",
   "metadata": {},
   "source": [
    "# Lesson 3.9 3.11 hack\n",
    "\n",
    "- title: Lesson 3.9 3.11 hack\n",
    "- toc: true\n",
    "- categories: [notebook]\n",
    "- tags: [hack]\n",
    "- comments: true"
   ]
  },
  {
   "attachments": {},
   "cell_type": "markdown",
   "metadata": {},
   "source": [
    "### Hack 1\n",
    "\n",
    "- why is it important to know that algorithms that look different can do the same thing and that algorithms that look the same might have different results?\n",
    "- It is important to know that algorithms looks different is because there will be a difference can make it wrong, even they looks the same.\n",
    "- for the converted conditional to boolean conversion"
   ]
  },
  {
   "cell_type": "code",
   "execution_count": 4,
   "metadata": {},
   "outputs": [
    {
     "name": "stdout",
     "output_type": "stream",
     "text": [
      "Eat it\n"
     ]
    }
   ],
   "source": [
    "isSolid = False\n",
    "isSoft = True\n",
    "\n",
    "if isSolid == True:\n",
    "    print(\"Don't Eat it\")\n",
    "else:\n",
    "    if isLiquid == True:\n",
    "        print(\"Eat it\")\n",
    "    else:\n",
    "        print(\"Don't eat it\")"
   ]
  },
  {
   "cell_type": "code",
   "execution_count": 3,
   "metadata": {},
   "outputs": [
    {
     "name": "stdout",
     "output_type": "stream",
     "text": [
      "Eat it\n"
     ]
    }
   ],
   "source": [
    "isSolid = False\n",
    "isSoft = True\n",
    "\n",
    "eatTime = not(isSolid) and isSoft\n",
    "if eatTime == False:\n",
    "    print(\"Don't eat it\")\n",
    "if eatTime == True:\n",
    "    print(\"Eat it\")"
   ]
  },
  {
   "attachments": {},
   "cell_type": "markdown",
   "metadata": {},
   "source": [
    "### Hack 2\n",
    "Develop your own complex algorithm using a flowchart and natural language, then code it!\n",
    "\n",
    "Requirements:\n",
    "\n",
    "Includes both a flowchart AND natural language\n",
    "Working code of the same algorithm\n",
    "Incorporates selection AND/OR iteration\n",
    "Make it creative!\n",
    "1. Input what show user is looking for\n",
    "2. check if show is in show dictionary\n",
    "3. If it is in dictionary, move onto step 4. If not, print \"not available\"\n",
    "4. check if the show has a rating of 3 or higher\n",
    "5. If it does, print \"recommended\"; if it doesn't print \"not recommended\""
   ]
  },
  {
   "cell_type": "code",
   "execution_count": 2,
   "metadata": {},
   "outputs": [
    {
     "name": "stdout",
     "output_type": "stream",
     "text": [
      "7 is not available\n"
     ]
    }
   ],
   "source": [
    "itemdictionary = {\n",
    "    'item1':2,  \n",
    "    'item3':3, \n",
    "    'item4':5,\n",
    "    'item5':1\n",
    "}\n",
    "show = input(\"What item are you looking for?\")\n",
    "if show in showdictionary.keys():\n",
    "    print(show + \" is available\")\n",
    "    if showdictionary[show] >= 2:\n",
    "         print(\"recommended\")\n",
    "    else:\n",
    "        print(\"not recommended\")\n",
    "else:\n",
    "    print(show + \" is not available\")"
   ]
  }
 ],
 "metadata": {
  "kernelspec": {
   "display_name": "base",
   "language": "python",
   "name": "python3"
  },
  "language_info": {
   "codemirror_mode": {
    "name": "ipython",
    "version": 3
   },
   "file_extension": ".py",
   "mimetype": "text/x-python",
   "name": "python",
   "nbconvert_exporter": "python",
   "pygments_lexer": "ipython3",
   "version": "3.9.12 (main, Apr  5 2022, 06:56:58) \n[GCC 7.5.0]"
  },
  "orig_nbformat": 4,
  "vscode": {
   "interpreter": {
    "hash": "40fb0cd5d44f051881184c5210ed52312dabb6d62ace68d9106c589b91788473"
   }
  }
 },
 "nbformat": 4,
 "nbformat_minor": 2
}
