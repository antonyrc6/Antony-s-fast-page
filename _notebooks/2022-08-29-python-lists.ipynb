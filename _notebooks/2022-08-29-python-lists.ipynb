{
 "cells": [
  {
   "cell_type": "markdown",
   "metadata": {},
   "source": [
    "# Lists, Dictionaries, Iteration\n",
    "> An introduction to Data Abstraction using Python Lists [] and Python Dictionaries {}.\n",
    "\n",
    "- title: Lists, Dictionaries, Iteration\n",
    "- toc: true\n",
    "- categories: [units]\n",
    "- permalink: /collegeboard/python_lists\n",
    "- image: /images/python_lists.png\n",
    "- categories: [collegeboard]\n",
    "- tags: [python]"
   ]
  },
  {
   "cell_type": "markdown",
   "metadata": {},
   "source": [
    "### Lists and Dictionaries\n",
    "As a quick review we used variables in the introduction last week.  <mark>Variables all have a type</mark>: String, Integer, Float, List and Dictionary are some key types.  In Python, variables are given a type at assignment,  Types are important to understand and will impact operations, as we saw when we were required to user str() function in concatenation.  \n",
    "\n",
    "1. Developers often think of variables as primitives or collections.  Look at this example and see if you can see hypothesize the difference between a primitive and a collection.  \n",
    "2. Take a minute and see if you can reference other elements in the list or other keys in the dictionary. Show output."
   ]
  },
  {
   "cell_type": "code",
   "execution_count": 4,
   "metadata": {
    "vscode": {
     "languageId": "shellscript"
    }
   },
   "outputs": [
    {
     "name": "stdout",
     "output_type": "stream",
     "text": [
      "What is the variable name/key? value? type? primitive or collection, why?\n",
      "name Antony Yu <class 'str'>\n",
      "\n",
      "What is the variable name/key? value? type? primitive or collection, why?\n",
      "age 16 <class 'int'>\n",
      "\n",
      "What is the variable name/key? value? type? primitive or collection, why?\n",
      "score 90.0 <class 'float'>\n",
      "\n",
      "What is variable name/key? value? type? primitive or collection?\n",
      "\n",
      "What is the variable name/key? value? type? primitive or collection, why?\n",
      "What is different about the dictionary output?\n",
      "person {'name': 'Antony Yu', 'age': 16, 'score': 90.0} <class 'dict'> length 3\n",
      "- person[\"name\"] Antony Yu <class 'str'>\n"
     ]
    }
   ],
   "source": [
    "# Sample of Python Variables\n",
    "\n",
    "# variable of type string\n",
    "print(\"What is the variable name/key?\", \"value?\", \"type?\", \"primitive or collection, why?\")\n",
    "name = \"Antony Yu\"\n",
    "print(\"name\", name, type(name))\n",
    "\n",
    "print()\n",
    "\n",
    "\n",
    "# variable of type integer\n",
    "print(\"What is the variable name/key?\", \"value?\", \"type?\", \"primitive or collection, why?\")\n",
    "age = 16\n",
    "print(\"age\", age, type(age))\n",
    "\n",
    "print()\n",
    "\n",
    "# variable of type float\n",
    "print(\"What is the variable name/key?\", \"value?\", \"type?\", \"primitive or collection, why?\")\n",
    "score = 90.0\n",
    "print(\"score\", score, type(score))\n",
    "\n",
    "print()\n",
    "\n",
    "# variable of type list (many values in one variable)\n",
    "print(\"What is variable name/key?\", \"value?\", \"type?\", \"primitive or collection?\") \n",
    "\n",
    "print()\n",
    "\n",
    "# variable of type dictionary (a group of keys and values)\n",
    "print(\"What is the variable name/key?\", \"value?\", \"type?\", \"primitive or collection, why?\")\n",
    "print(\"What is different about the dictionary output?\")\n",
    "person = {\n",
    "    \"name\": name,\n",
    "    \"age\": age,\n",
    "    \"score\": score,\n",
    "}\n",
    "print(\"person\", person, type(person), \"length\", len(person))\n",
    "print('- person[\"name\"]', person[\"name\"], type(person[\"name\"]))\n"
   ]
  },
  {
   "cell_type": "markdown",
   "metadata": {},
   "source": [
    "### List and Dictionary purpose\n",
    "Our society is being built on information.  <mark>List and Dictionaries are used to collect information</mark>.  Mostly, when information is collected it is formed into patterns.  As that pattern is established you will be able collect many instances of that pattern.\n",
    "- List is used to collect many instances of a pattern\n",
    "- Dictionary is used to define data patterns.\n",
    "- Iteration is often used to process through lists.\n",
    "\n",
    "To start exploring more deeply into List, Dictionary and Iteration this example will explore constructing a List of people and cars.\n",
    "- As we learned above, a List is a data type: class 'list'\n",
    "- A <mark>'list' data type has the method '.append(expression)'</mark> that allows you to add to the list.  A class usually has extra method to support working with its objects/instances.\n",
    "- In the example below,  the expression is appended to the 'list' is the data type: class 'dict'\n",
    "- At the end, you see a fairly complicated data structure.  This is a <mark>list of dictionaries</mark>, or a collection of many similar data patterns.  The output looks similar to JavaScript Object Notation (JSON), Jekyll/GitHub pages yml files, FastPages Front Matter. As discussed we will see this key/value patter often, you will be required to understand this data structure and understand the parts.  Just believe it is peasy ;) and it will become so."
   ]
  },
  {
   "cell_type": "code",
   "execution_count": 7,
   "metadata": {
    "vscode": {
     "languageId": "shellscript"
    }
   },
   "outputs": [
    {
     "name": "stdout",
     "output_type": "stream",
     "text": [
      "mylist {1, 2, 3, 4} <class 'set'> length 4\n"
     ]
    },
    {
     "ename": "TypeError",
     "evalue": "'set' object is not subscriptable",
     "output_type": "error",
     "traceback": [
      "\u001b[0;31m---------------------------------------------------------------------------\u001b[0m",
      "\u001b[0;31mTypeError\u001b[0m                                 Traceback (most recent call last)",
      "\u001b[0;32m/tmp/ipykernel_569/1539318579.py\u001b[0m in \u001b[0;36m<module>\u001b[0;34m\u001b[0m\n\u001b[1;32m      1\u001b[0m \u001b[0mmylist\u001b[0m \u001b[0;34m=\u001b[0m \u001b[0;34m{\u001b[0m\u001b[0;36m1\u001b[0m\u001b[0;34m,\u001b[0m \u001b[0;36m2\u001b[0m\u001b[0;34m,\u001b[0m \u001b[0;36m3\u001b[0m\u001b[0;34m,\u001b[0m \u001b[0;36m4\u001b[0m\u001b[0;34m}\u001b[0m\u001b[0;34m\u001b[0m\u001b[0;34m\u001b[0m\u001b[0m\n\u001b[1;32m      2\u001b[0m \u001b[0mprint\u001b[0m\u001b[0;34m(\u001b[0m\u001b[0;34m\"mylist\"\u001b[0m\u001b[0;34m,\u001b[0m \u001b[0mmylist\u001b[0m\u001b[0;34m,\u001b[0m \u001b[0mtype\u001b[0m\u001b[0;34m(\u001b[0m\u001b[0mmylist\u001b[0m\u001b[0;34m)\u001b[0m\u001b[0;34m,\u001b[0m \u001b[0;34m\"length\"\u001b[0m\u001b[0;34m,\u001b[0m \u001b[0mlen\u001b[0m\u001b[0;34m(\u001b[0m\u001b[0mmylist\u001b[0m\u001b[0;34m)\u001b[0m\u001b[0;34m)\u001b[0m\u001b[0;34m\u001b[0m\u001b[0;34m\u001b[0m\u001b[0m\n\u001b[0;32m----> 3\u001b[0;31m \u001b[0mprint\u001b[0m\u001b[0;34m(\u001b[0m\u001b[0;34m\"- mylist[0]\"\u001b[0m\u001b[0;34m,\u001b[0m \u001b[0mmylist\u001b[0m\u001b[0;34m[\u001b[0m\u001b[0;36m2\u001b[0m\u001b[0;34m]\u001b[0m\u001b[0;34m,\u001b[0m \u001b[0mtype\u001b[0m\u001b[0;34m(\u001b[0m\u001b[0mmylist\u001b[0m\u001b[0;34m[\u001b[0m\u001b[0;36m2\u001b[0m\u001b[0;34m]\u001b[0m\u001b[0;34m)\u001b[0m\u001b[0;34m)\u001b[0m\u001b[0;34m\u001b[0m\u001b[0;34m\u001b[0m\u001b[0m\n\u001b[0m",
      "\u001b[0;31mTypeError\u001b[0m: 'set' object is not subscriptable"
     ]
    }
   ],
   "source": [
    "mylist = {1, 2, 3, 4}\n",
    "print(\"mylist\", mylist, type(mylist), \"length\", len(mylist))\n",
    "print(\"- mylist[0]\", mylist[2], type(mylist[2]))"
   ]
  },
  {
   "cell_type": "code",
   "execution_count": 8,
   "metadata": {
    "vscode": {
     "languageId": "shellscript"
    }
   },
   "outputs": [
    {
     "name": "stdout",
     "output_type": "stream",
     "text": [
      "[{'FirstName': 'Antony', 'LastName': 'Yu', 'DOB': 'September 12', 'Residence': 'San Diego', 'Email': 'rany52837@powayusd.com', 'Hobby': ['rc plane'], 'Owns_Cars': ['rav4']}, {'FirstName': 'Antony', 'LastName': 'Yu', 'DOB': 'September 12', 'Residence': 'San Diego', 'Email': 'rany52837@powayusd.com', 'Hobby': ['rc plane'], 'Owns_Cars': ['rav4']}]\n"
     ]
    }
   ],
   "source": [
    "# Define an empty List called InfoDb\n",
    "InfoDb = []\n",
    "\n",
    "# InfoDB is a data structure with expected Keys and Values\n",
    "\n",
    "# Append to List a Dictionary of key/values related to a person and cars\n",
    "InfoDb.append({\n",
    "    \"FirstName\": \"Antony\",\n",
    "    \"LastName\": \"Yu\",\n",
    "    \"DOB\": \"September 12\",\n",
    "    \"Residence\": \"San Diego\",\n",
    "    \"Email\": \"rany52837@powayusd.com\",\n",
    "    \"Hobby\": [\"rc plane\"],\n",
    "    \"Owns_Cars\": [\"rav4\"]\n",
    "})\n",
    "\n",
    "# Append to List a 2nd Dictionary of key/values\n",
    "InfoDb.append({\n",
    "    \"FirstName\": \"Antony\",\n",
    "    \"LastName\": \"Yu\",\n",
    "    \"DOB\": \"September 12\",\n",
    "    \"Residence\": \"San Diego\",\n",
    "    \"Email\": \"rany52837@powayusd.com\",\n",
    "    \"Hobby\": [\"rc plane\"],\n",
    "    \"Owns_Cars\": [\"rav4\"]\n",
    "})\n",
    "\n",
    "# Print the data structure\n",
    "print(InfoDb)"
   ]
  },
  {
   "cell_type": "markdown",
   "metadata": {},
   "source": [
    "### Formatted output of List/Dictionary - for loop\n",
    "Managing data in Lists and Dictionaries is for the convenience of passing the data across the internet, to applications, or preparing it to be stored into a database.  It is a great way to exchange data between programs and programmers.  Exchange of data between programs includes the data type the method/function and the format of the data type.  These concepts are key to learning how to write functions, receive, and return data.  This process is often referred to as an <mark>Application Programming Interface (API)</mark>. \n",
    "\n",
    "Next, we will take the stored data and output it within our notebook.  There are multiple steps to this process...\n",
    "- <mark>Preparing a function to format the data</mark>, the print_data() function receives a parameter called \"d_rec\" short for dictionary record.  It then references different keys within [] square brackets.   \n",
    "- <mark>Preparing a function to iterate through the list</mark>, the for_loop() function uses an enhanced for loop that pull record by record out of InfoDb until the list is empty.  Each time through the loop it call print_data(record), which passes the dictionary record to that function.\n",
    "- Finally, you need to <mark>activate your function</mark> with the call to the defined function for_loop().  Functions are defined, not activated until they are called.  By placing for_loop() at the left margin the function is activated."
   ]
  },
  {
   "cell_type": "code",
   "execution_count": 9,
   "metadata": {
    "vscode": {
     "languageId": "shellscript"
    }
   },
   "outputs": [
    {
     "name": "stdout",
     "output_type": "stream",
     "text": [
      "For loop output\n",
      "\n",
      "Antony Yu\n",
      "\t Residence: San Diego\n",
      "\t Birth Day: September 12\n",
      "\t Hobby: ['rc plane']\n",
      "\t Cars: rav4\n",
      "\n",
      "Antony Yu\n",
      "\t Residence: San Diego\n",
      "\t Birth Day: September 12\n",
      "\t Hobby: ['rc plane']\n",
      "\t Cars: rav4\n",
      "\n"
     ]
    }
   ],
   "source": [
    "# This jupyter cell has dependencies on one or more cells above\n",
    "\n",
    "# print function: given a dictionary of InfoDb content\n",
    "def print_data(d_rec):\n",
    "    print(d_rec[\"FirstName\"], d_rec[\"LastName\"])  # using comma puts space between values\n",
    "    print(\"\\t\", \"Residence:\", d_rec[\"Residence\"]) # \\t is a tab indent\n",
    "    print(\"\\t\", \"Birth Day:\", d_rec[\"DOB\"])\n",
    "    print(\"\\t\", \"Hobby:\", d_rec[\"Hobby\"])\n",
    "    print(\"\\t\", \"Cars: \", end=\"\")  # end=\"\" make sure no return occurs\n",
    "    print(\", \".join(d_rec[\"Owns_Cars\"]))  # join allows printing a string list with separator\n",
    "    print()\n",
    "\n",
    "\n",
    "# for loop algorithm iterates on length of InfoDb\n",
    "def for_loop():\n",
    "    print(\"For loop output\\n\")\n",
    "    for record in InfoDb:\n",
    "        print_data(record)\n",
    "\n",
    "for_loop()"
   ]
  },
  {
   "cell_type": "markdown",
   "metadata": {},
   "source": [
    "### Alternate methods for iteration - while loop\n",
    "In coding, there are usually many ways to achieve the same result.  Defined are functions illustrating using index to reference records in a list, these methods are called a \"while\" loop and \"recursion\".\n",
    "- The while_loop() function contains a while loop, \"while i < len(InfoDb):\".  This counts through the elements in the list start at zero, and passes the record to print_data()"
   ]
  },
  {
   "cell_type": "code",
   "execution_count": 8,
   "metadata": {
    "vscode": {
     "languageId": "shellscript"
    }
   },
   "outputs": [
    {
     "name": "stdout",
     "output_type": "stream",
     "text": [
      "While loop output\n",
      "\n",
      "Antony Yu\n",
      "\t Residence: San Diego\n",
      "\t Birth Day: September 12\n",
      "\t Cars: rav4\n",
      "\n",
      "Antony Yu\n",
      "\t Residence: San Diego\n",
      "\t Birth Day: September 12\n",
      "\t Cars: rav4\n",
      "\n"
     ]
    }
   ],
   "source": [
    "# This jupyter cell has dependencies on one or more cells above\n",
    "\n",
    "# while loop algorithm contains an initial n and an index incrementing statement (n += 1)\n",
    "def while_loop():\n",
    "    print(\"While loop output\\n\")\n",
    "    i = 0\n",
    "    while i < len(InfoDb):\n",
    "        record = InfoDb[i]\n",
    "        print_data(record)\n",
    "        i += 1\n",
    "    return\n",
    "\n",
    "while_loop()"
   ]
  },
  {
   "cell_type": "markdown",
   "metadata": {},
   "source": [
    "### Calling a function repeatedly - recursion\n",
    "This final technique achieves looping by calling itself repeatedly.\n",
    "- recursive_loop(i) function is primed with the value 0 on its activation with \"recursive_loop(0)\"\n",
    "- the last statement indented inside the if statement \"recursive_loop(i + 1)\" activates another call to the recursive_loop(i) function, each time i is increasing\n",
    "- ultimately the \"if i < len(InfoDb):\" will evaluate to false and the program ends"
   ]
  },
  {
   "cell_type": "code",
   "execution_count": 23,
   "metadata": {
    "vscode": {
     "languageId": "shellscript"
    }
   },
   "outputs": [
    {
     "name": "stdout",
     "output_type": "stream",
     "text": [
      "Recursive loop output\n",
      "\n",
      "Antony Yu\n",
      "\t Residence: San Diego\n",
      "\t Birth Day: September 12\n",
      "\t Hobby: ['rc plane']\n",
      "\t Cars: rav4\n",
      "\n",
      "Antony Yu\n",
      "\t Residence: San Diego\n",
      "\t Birth Day: September 12\n",
      "\t Hobby: ['rc plane']\n",
      "\t Cars: rav4\n",
      "\n"
     ]
    }
   ],
   "source": [
    "# This jupyter cell has dependencies on one or more cells above\n",
    "\n",
    "# recursion algorithm loops incrementing on each call (n + 1) until exit condition is met\n",
    "def recursive_loop(i):\n",
    "    if i < len(InfoDb):\n",
    "        record = InfoDb[i]\n",
    "        print_data(record)\n",
    "        recursive_loop(i + 1)\n",
    "    return\n",
    "    \n",
    "print(\"Recursive loop output\\n\")\n",
    "recursive_loop(0)"
   ]
  },
  {
   "cell_type": "markdown",
   "metadata": {},
   "source": [
    "## Hacks\n",
    "- Add a couple of records to the InfoDb\n",
    "- Try to do a for loop with an index\n",
    "- Pair Share code somethings creative or unique, with loops and data. Hints...\n",
    "    - Would it be possible to output data in a reverse order?\n",
    "    - Are there other methods that can be performed on lists?\n",
    "    - Could you create new or add to dictionary data set?  Could you do it with input?\n",
    "    - Make a quiz that stores in a List of Dictionaries."
   ]
  }
 ],
 "metadata": {
  "kernelspec": {
   "display_name": "Python 3.10.4 64-bit",
   "language": "python",
   "name": "python3"
  },
  "language_info": {
   "codemirror_mode": {
    "name": "ipython",
    "version": 3
   },
   "file_extension": ".py",
   "mimetype": "text/x-python",
   "name": "python",
   "nbconvert_exporter": "python",
   "pygments_lexer": "ipython3",
   "version": "3.10.4"
  },
  "orig_nbformat": 4,
  "vscode": {
   "interpreter": {
    "hash": "916dbcbb3f70747c44a77c7bcd40155683ae19c65e1c03b4aa3499c5328201f1"
   }
  }
 },
 "nbformat": 4,
 "nbformat_minor": 2
}
