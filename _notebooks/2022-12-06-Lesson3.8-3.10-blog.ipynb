{
 "cells": [
  {
   "attachments": {},
   "cell_type": "markdown",
   "metadata": {},
   "source": [
    "# Lesson 3.8 3.10 blog\n",
    "- title: Lesson 3.8 & 3.10 blog\n",
    "- toc: true\n",
    "- categories: [notebook]\n",
    "- tags: [blog]\n",
    "- comments: true"
   ]
  },
  {
   "attachments": {},
   "cell_type": "markdown",
   "metadata": {},
   "source": [
    "### Vocabulary\n",
    "- Iteration: a repeating part of an algorithm, repeats a certain time until the condition is met.\n",
    "- Iteration Statement: change the sequence of control by repeating a statement until condition met.\n",
    "- Repeating Until: if the condition is evaluate true, then the repeat will stopped.\n",
    "- Iteration Statement - cause statements to be executed zero or more times, subject to some loop-termination criteria\n"
   ]
  },
  {
   "attachments": {},
   "cell_type": "markdown",
   "metadata": {},
   "source": [
    "1. An Iteration is a repeating portion of an algorithm, repeats a specified number of times or until a given condition is met\n",
    "2. We can use stopping conditions to stop an iteration if a condition is already met"
   ]
  },
  {
   "attachments": {},
   "cell_type": "markdown",
   "metadata": {},
   "source": [
    "### Iteration Steps\n",
    "Example:\n",
    "1. Suppose there are n rooms to search...\n",
    "number the rooms 1-n\n",
    "\n",
    "2. Start by searching in room number 1\n",
    "\n",
    "3. Search each room thoroughly for you item.\n",
    "\n",
    "4. Change the room number to the next highest number\n",
    "\n",
    "5. Repeat steps 3 and 4 until you have found your lost item.\n",
    "\n",
    "6. Enjoy the lost item.\n",
    "\n",
    "(Require a stopping statement for exit the loop)"
   ]
  },
  {
   "attachments": {},
   "cell_type": "markdown",
   "metadata": {},
   "source": [
    "### Function\n",
    "A range function will give a sum based on the input provided. We always use a variable(i) to represent range."
   ]
  }
 ],
 "metadata": {
  "kernelspec": {
   "display_name": "base",
   "language": "python",
   "name": "python3"
  },
  "language_info": {
   "name": "python",
   "version": "3.9.12 (main, Apr  5 2022, 06:56:58) \n[GCC 7.5.0]"
  },
  "orig_nbformat": 4,
  "vscode": {
   "interpreter": {
    "hash": "40fb0cd5d44f051881184c5210ed52312dabb6d62ace68d9106c589b91788473"
   }
  }
 },
 "nbformat": 4,
 "nbformat_minor": 2
}
