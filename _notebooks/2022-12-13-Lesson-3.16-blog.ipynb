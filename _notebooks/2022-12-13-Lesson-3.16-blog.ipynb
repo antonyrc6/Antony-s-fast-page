{
 "cells": [
  {
   "attachments": {},
   "cell_type": "markdown",
   "metadata": {},
   "source": [
    "# Lesson 3.16 Blog\n",
    "- title: Lesson 3.16 blog\n",
    "- toc: true\n",
    "- categories: [notebook]\n",
    "- tags: [hack]\n",
    "- comments: true"
   ]
  },
  {
   "attachments": {},
   "cell_type": "markdown",
   "metadata": {},
   "source": [
    "### Simulation\n",
    "- A simulation is an imitation of situation or process.(virtual experiment)\n",
    "- Simulation involve testing.\n",
    "- Simulation is more safer and efficient than experiment, however, some experiment can't be replace by simulation.\\\n",
    "Ex:\\\n",
    "- Test the safety of a car\n",
    "- Games\n",
    "- test the efficiency of a airport\n",
    "\n",
    "\n"
   ]
  },
  {
   "attachments": {},
   "cell_type": "markdown",
   "metadata": {},
   "source": [
    "### Simulation vs. Experiment\n",
    "\n",
    "- Advantages: \n",
    "    - Can be safer\n",
    "    - More cost-effective\n",
    "    - Take less time\n",
    "- Disadvantages:\n",
    "    - Not as accurate as experiments\n",
    "    - outside factors not included\n",
    "Not do simulation when a situation already has set a result.\n"
   ]
  },
  {
   "attachments": {},
   "cell_type": "markdown",
   "metadata": {},
   "source": [
    "### Experiment\n",
    "We did a four corner experiment in class. We create for corner in the classroom where student could stand and let the teacher randomly pick one corner which will will be terminated. This is the same principle as the random library in python."
   ]
  }
 ],
 "metadata": {
  "kernelspec": {
   "display_name": "base",
   "language": "python",
   "name": "python3"
  },
  "language_info": {
   "name": "python",
   "version": "3.9.12 (main, Apr  5 2022, 06:56:58) \n[GCC 7.5.0]"
  },
  "orig_nbformat": 4,
  "vscode": {
   "interpreter": {
    "hash": "40fb0cd5d44f051881184c5210ed52312dabb6d62ace68d9106c589b91788473"
   }
  }
 },
 "nbformat": 4,
 "nbformat_minor": 2
}
