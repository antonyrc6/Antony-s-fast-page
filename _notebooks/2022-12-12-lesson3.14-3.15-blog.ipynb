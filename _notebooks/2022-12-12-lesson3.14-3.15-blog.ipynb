{
 "cells": [
  {
   "attachments": {},
   "cell_type": "markdown",
   "metadata": {},
   "source": [
    "# Lesson 3.14 & 3.15 blog\n",
    "- title: Lesson 3.14 & 3.15 blog\n",
    "- toc: true\n",
    "- categories: [notebook]\n",
    "- tags: [blog]\n",
    "- comments: true"
   ]
  },
  {
   "attachments": {},
   "cell_type": "markdown",
   "metadata": {},
   "source": [
    "### Library\n",
    "- Library: a library is a collection of code from an external source that can be used to add functions to a program(It convenience writing programs). For example, math is a library that have function of math, one of the function is square root a number which is written in \"sqrt\".\n",
    "\n",
    "### Example of use of library"
   ]
  },
  {
   "cell_type": "code",
   "execution_count": 7,
   "metadata": {},
   "outputs": [
    {
     "data": {
      "text/plain": [
       "66"
      ]
     },
     "execution_count": 7,
     "metadata": {},
     "output_type": "execute_result"
    }
   ],
   "source": [
    "import math\n",
    "math.comb(12,10)"
   ]
  },
  {
   "attachments": {},
   "cell_type": "markdown",
   "metadata": {},
   "source": [
    "This code returns you the number of ways to choose k items from n items without repetition and without order."
   ]
  },
  {
   "attachments": {},
   "cell_type": "markdown",
   "metadata": {},
   "source": [
    "### Randomization\n",
    "-The random library allows you to get a random number from a list, like rolling a dice.\n",
    "\n",
    "For example, if you want to find a number from 1 to 10.\n",
    "```python\n",
    "import random\n",
    "random.randint(1,10)\n",
    "```"
   ]
  },
  {
   "attachments": {},
   "cell_type": "markdown",
   "metadata": {},
   "source": [
    "### Different method of library\n",
    "seed()\t          |  Initialize the random number generator\n",
    "\n",
    "getstate()\t      |  Returns the current internal state of the random number generator\n",
    "\n",
    "setstate()\t      |  Restores the internal state of the random number generator\n",
    "\n",
    "getrandbits()\t  |  Returns a number representing the random bits\n",
    "\n",
    "randrange()\t      |  Returns a random number between the given range\n",
    "\n",
    "randint()\t      |  Returns a random number between the given range\n",
    "\n",
    "choice()\t      |  Returns a random element from the given sequence\n",
    "\n",
    "choices()\t      |  Returns a list with a random selection from the given sequence\n",
    "\n",
    "shuffle()\t      |  Takes a sequence and returns the sequence in a random order\n",
    "\n",
    "sample()\t      |  Returns a given sample of a sequence\n",
    "\n",
    "random()\t      |  Returns a random float number between 0 and 1\n",
    "\n",
    "uniform()\t      |  Returns a random float number between two given parameters\n",
    "\n",
    "betavariate()\t  |  Returns a random float number between 0 and 1 based on the Beta distribution (used in statistics)\n",
    "\n",
    "expovariate()\t  |  Returns a random float number based on the Exponential distribution (used in statistics)\n",
    "\n",
    "gammavariate()\t  |  Returns a random float number based on the Gamma distribution (used in statistics)\n",
    "\n",
    "gauss()\t          |  Returns a random float number based on the Gaussian distribution (used in probability theories)\n",
    "\n",
    "lognormvariate()  |  Returns a random float number based on a log-normal distribution (used in probability theories)\n",
    "\n",
    "normalvariate()\t  |  Returns a random float number based on the normal distribution (used in probability theories)\n",
    "\n",
    "vonmisesvariate() |  Returns a random float number based on the von Mises distribution (used in directional statistics)\n",
    "\n",
    "paretovariate()\t  |  Returns a random float number based on the Pareto distribution (used in probability theories)\n",
    "\n",
    "weibullvariate()  |  Returns a random float number based on the Weibull distribution (used in statistics)"
   ]
  },
  {
   "attachments": {},
   "cell_type": "markdown",
   "metadata": {},
   "source": [
    "### 3.15.2\n",
    "- ran\n"
   ]
  }
 ],
 "metadata": {
  "kernelspec": {
   "display_name": "base",
   "language": "python",
   "name": "python3"
  },
  "language_info": {
   "codemirror_mode": {
    "name": "ipython",
    "version": 3
   },
   "file_extension": ".py",
   "mimetype": "text/x-python",
   "name": "python",
   "nbconvert_exporter": "python",
   "pygments_lexer": "ipython3",
   "version": "3.9.12"
  },
  "orig_nbformat": 4,
  "vscode": {
   "interpreter": {
    "hash": "40fb0cd5d44f051881184c5210ed52312dabb6d62ace68d9106c589b91788473"
   }
  }
 },
 "nbformat": 4,
 "nbformat_minor": 2
}
