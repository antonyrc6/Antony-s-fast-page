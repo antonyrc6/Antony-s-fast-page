{
 "cells": [
  {
   "cell_type": "markdown",
   "metadata": {},
   "source": [
    "# Lessons Hack 3.8\n",
    "\n",
    "- title: lesson hack 3.8\n",
    "- toc: true\n",
    "- categories: [notebook]\n",
    "- tags: [hack]\n",
    "- comments: true"
   ]
  },
  {
   "cell_type": "markdown",
   "metadata": {},
   "source": [
    "1. Define an Iteration\n",
    "Iteration is a sequence of code being repeated until a specific end result is achieved.\n",
    "2. Make your own example of an iteration with at least 4 steps and a stopping condition(Similar to mine that I did)\n",
    "When you are buying a flight ticket, you are gonna check if the price fit. If not, you will do the loop of continuous searching tickets until you find the best price. Then you are checking if the time fits, if not, search different flight until you find the best fit.\n",
    "3. Program a simple iteration."
   ]
  },
  {
   "cell_type": "code",
   "execution_count": 18,
   "metadata": {},
   "outputs": [
    {
     "name": "stdout",
     "output_type": "stream",
     "text": [
      "2 is not enought\n",
      "34 is not enought\n",
      "18 is not enought\n",
      "The amount 100 is enough\n"
     ]
    }
   ],
   "source": [
    "bid1 = int(input(\"What is your initial amount\"))\n",
    "while bid1 < 100:\n",
    "    print(bid1, \"is not enought\")\n",
    "    bid1 = int(input(\"try another amount\"))\n",
    "    if bid1 >= 100:\n",
    "        print(\"The amount\", bid1, \"is enough\")"
   ]
  },
  {
   "cell_type": "markdown",
   "metadata": {},
   "source": [
    "1. What is an iteration statement, in your own words?\n",
    "Iteration statement cause statement to run more times and break when it achieve the ideal result.\n",
    "2. Create a descending list of numbers using for loop\n",
    "\n",
    "3. Using while loop, make a list of numbers which will form an output of 3,16,29,42,55,68,81"
   ]
  },
  {
   "cell_type": "code",
   "execution_count": 62,
   "metadata": {},
   "outputs": [
    {
     "name": "stdout",
     "output_type": "stream",
     "text": [
      "[9, 7, 4, 3, 2, 0]\n"
     ]
    }
   ],
   "source": [
    "myList = [4, 2, 7, 3, 9, 0]\n",
    "myList.sort(reverse = True)\n",
    "print((myList))"
   ]
  },
  {
   "cell_type": "code",
   "execution_count": 68,
   "metadata": {},
   "outputs": [
    {
     "name": "stdout",
     "output_type": "stream",
     "text": [
      "3\n",
      "16\n",
      "29\n",
      "42\n",
      "55\n",
      "68\n",
      "81\n"
     ]
    }
   ],
   "source": [
    "i = 3\n",
    "while i <= 81:\n",
    "  print(i)\n",
    "  i += 13"
   ]
  },
  {
   "cell_type": "markdown",
   "metadata": {},
   "source": [
    "Find the minimum in a list"
   ]
  },
  {
   "cell_type": "code",
   "execution_count": 69,
   "metadata": {},
   "outputs": [
    {
     "name": "stdout",
     "output_type": "stream",
     "text": [
      "10\n"
     ]
    }
   ],
   "source": [
    "nums = [\"10\", \"15\", \"20\", \"25\", \"30\", \"35\"]\n",
    "print(min(nums))"
   ]
  },
  {
   "cell_type": "code",
   "execution_count": 72,
   "metadata": {},
   "outputs": [
    {
     "name": "stdout",
     "output_type": "stream",
     "text": [
      "What allows a value to be inserted into a list at index i?\n",
      "index()\n",
      "Correct!\n",
      "What allows a value to be added at the end of a list?\n",
      "append()\n",
      "Correct!\n",
      "What returns the number of elements currently in a specific list?\n",
      "length()\n",
      "Correct!\n",
      "What allows an element at index i to be deleted from a list?\n",
      "remove()\n",
      "Correct!\n",
      "100.00%\n",
      "Your total score is:  4 out of 4. Not too bad, keep on studying! \n"
     ]
    }
   ],
   "source": [
    "import getpass, sys\n",
    "import random\n",
    "\n",
    "def ask_question (question, answer):\n",
    "\n",
    "    print(question)\n",
    "    ans = input(question)\n",
    "    print(ans)\n",
    "   \n",
    "    if ans == answer:\n",
    "        print(\"Correct!\")\n",
    "        return 1\n",
    "\n",
    "    else:\n",
    "        print(\"Wrong\")\n",
    "        return 0\n",
    "\n",
    "question_list = [\"What allows a value to be inserted into a list at index i?\" , \"What allows an element at index i to be deleted from a list?\" , \"What returns the number of elements currently in a specific list?\" , \"What allows a value to be added at the end of a list?\"]\n",
    "answer_list = [\"index()\", \"remove()\", \"length()\" , \"append()\"]\n",
    "\n",
    "# Set points to 0 at the start of the quiz\n",
    "points = 0\n",
    "\n",
    "# If the length of the quiz is greater than 0, then random questions will be chosen from the \"question_list\" set\n",
    "while len(question_list) > 0:\n",
    "    index = random.randint(0, len(question_list) - 1)\n",
    "    \n",
    "# The points system where a point is rewarded for each correct answer    \n",
    "    points = points + ask_question(question_list[index], answer_list[index])\n",
    "    \n",
    "# If a question or answer has already been used, then it shall be deleted    \n",
    "    del question_list[index]\n",
    "    del answer_list[index]\n",
    "\n",
    "# Calculating score using the points system and dividing it by the total number of questions (6)\n",
    "score = (points / 4)\n",
    "\n",
    "# Calculating the percentage of correct answers by multiplying the score by 100\n",
    "percent = (score * 100)\n",
    "\n",
    "# Printing the percentage, and formatting the percentage in a way where two decimals can be shown (through \"{:.2f}\")\n",
    "print(\"{:.2f}\".format(percent) + \"%\")\n",
    "\n",
    "# Adding final remarks based upon the users given scores\n",
    "if points >= 5:\n",
    "         print(\"Your total score is: \", points, \"out of 4. Amazing job!\")\n",
    "\n",
    "elif points == 4:\n",
    "         print(\"Your total score is: \", points, \"out of 4. Not too bad, keep on studying! \" )\n",
    "\n",
    "else:\n",
    "         print(\"Your total score is: \", points, \"out of 4. Its alright, better luck next time!\")"
   ]
  }
 ],
 "metadata": {
  "kernelspec": {
   "display_name": "Python 3.9.12 ('base')",
   "language": "python",
   "name": "python3"
  },
  "language_info": {
   "codemirror_mode": {
    "name": "ipython",
    "version": 3
   },
   "file_extension": ".py",
   "mimetype": "text/x-python",
   "name": "python",
   "nbconvert_exporter": "python",
   "pygments_lexer": "ipython3",
   "version": "3.9.12"
  },
  "orig_nbformat": 4,
  "vscode": {
   "interpreter": {
    "hash": "40fb0cd5d44f051881184c5210ed52312dabb6d62ace68d9106c589b91788473"
   }
  }
 },
 "nbformat": 4,
 "nbformat_minor": 2
}
