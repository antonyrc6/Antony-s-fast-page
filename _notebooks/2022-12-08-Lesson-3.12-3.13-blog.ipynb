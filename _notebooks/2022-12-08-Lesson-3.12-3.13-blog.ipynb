{
 "cells": [
  {
   "attachments": {},
   "cell_type": "markdown",
   "metadata": {},
   "source": [
    "# Lesson 3.12 & 3.13 blog\n",
    "- title: Lesson 3.12 3.13 blog\n",
    "- toc: true\n",
    "- categories: [notebook]\n",
    "- tags: [hack]\n",
    "- comments: true"
   ]
  },
  {
   "attachments": {},
   "cell_type": "markdown",
   "metadata": {},
   "source": [
    "### Notes\n",
    "- A procedure is a set of instructions that can take in parameters and give values.\n",
    "\n",
    "### Quiz"
   ]
  },
  {
   "cell_type": "code",
   "execution_count": null,
   "metadata": {},
   "outputs": [],
   "source": [
    "questionNum = 3\n",
    "correct = 0\n",
    "questions = [\n",
    "    \"What is are correct names for a procedure? \\n A) Method \\n B) Function \\n C) Both\",\n",
    "    \"What is a procedure? \\n A) Sequencing \\n B) Selection \\n C) Iteration \\n D) All\",\n",
    "    \"Use this for following question: \\n def inchesToFeet(lengthInches): \\n\\t lengthFeet = lengthInches / 12 \\n\\t return lengthFeet \\n\\n What is the procedure name, the parameter, and what the procedure returns? \\n A) feetToInches, lengthInches, lengthMeters \\n B) inchesToFeet, lengthInches, lengthFeet \\n C) inchesToFeet, lengthFeet, lengthInches \\n D) lengthInches, inchesToFeet, lengthFeet\"]\n",
    "answers = [\"c\", \"d\", \"b\"]\n",
    "\n",
    "def qna(question, answer):\n",
    "    print(\"Question:\", question)\n",
    "    response = input()\n",
    "    print(\"Answer:\", response)\n",
    "    \n",
    "    if response.lower() == answer:\n",
    "        print(\"Correct :) \\n\")\n",
    "        global correct\n",
    "        correct += 1\n",
    "    else:\n",
    "        print(\"Incorrect :( \\n\")\n",
    "for x in range(questionNum):\n",
    "    qna(questions[x], answers[x])\n",
    "    \n",
    "print(\"Score:\", correct, \"/ 3\")"
   ]
  },
  {
   "attachments": {},
   "cell_type": "markdown",
   "metadata": {},
   "source": [
    "### Determining the Result of a Procedure\n",
    "- You can determine function parameters and value and statements with syntax.\n",
    "- A return statement will exit the function and allow python to execute the program.\n",
    "Example:\n",
    "   ```python\n",
    "   def divide(num1,num2):\n",
    "      x = num1/num2\n",
    "      return x\n",
    "   ```\n",
    "- Function parameter are used when calling function for a result.\n",
    "\n",
    "\n"
   ]
  },
  {
   "attachments": {},
   "cell_type": "markdown",
   "metadata": {},
   "source": [
    "### Keyword\n",
    "- **Modularity** - breaking a complex program into smaller, independent parts, modules.\n",
    "- **Abstraction** - hiding the details of how a system works and exposing only the essential features.\n",
    "- **Duplication** - having multiple duplicate codes, decreasing efficiency.\n",
    "- **Logic** - the sequence of steps a computer follows to execute a program.\n"
   ]
  },
  {
   "attachments": {},
   "cell_type": "markdown",
   "metadata": {},
   "source": [
    "### Parameter\n",
    "1. First define a function of variables. Ex: def add(x, y)\n",
    "2. Define the \"action\" you want for the variable. Ex: result = x + y\n",
    "3. For the rest of the program, you may use the \"action\" Ex: result = add(1, 2) returns you 3."
   ]
  },
  {
   "attachments": {},
   "cell_type": "markdown",
   "metadata": {},
   "source": [
    "### Modularity\n",
    "1. Define a function, same as in the parameter.\n",
    "2. Define the variable.\n",
    "3. return you answer by the imported math library."
   ]
  },
  {
   "attachments": {},
   "cell_type": "markdown",
   "metadata": {},
   "source": [
    "### Shared Features\n",
    "- Create a function that is shared by multiple variables.\n",
    "- Instead of do two separate functions to do similar action, you can make a function that do the same action for both variable."
   ]
  },
  {
   "attachments": {},
   "cell_type": "markdown",
   "metadata": {},
   "source": [
    "### Vocabulary:\n",
    "- **Procedure** - a module of code that is created to complete a task(a function).\n",
    "- **Procedure Name** - the name that is given to a function.\n",
    "- **Parameters** - a variable that is used in a function to import data.\n",
    "- **Arguments** - a way to provide information to a function, import with parameter."
   ]
  },
  {
   "attachments": {},
   "cell_type": "markdown",
   "metadata": {},
   "source": [
    "#### Collegeboard\n",
    "\n",
    "![collegeboard-format](https://user-images.githubusercontent.com/111480448/206083549-4380cd04-187d-4786-9e40-6f87968cd3de.png)\n",
    "\n",
    "Above, the function is defined as PROCEDURE. The function is then named with procName, the name of function as display. parameter1, parameter2,... are variables that can be predefined elsewhere and repeatedly used in the same function. Block of statements are just things that you would place inside a function to complete a certain task, such as print()."
   ]
  },
  {
   "attachments": {},
   "cell_type": "markdown",
   "metadata": {},
   "source": [
    "### Javascript vs. Python\n",
    "\n",
    "#### Python\n",
    "```python\n",
    "def function(a,b): # function is defined\n",
    "  print(a+b) # prints output of variables\n",
    "\n",
    "function(1,2) # one instance that it can be used\n",
    "function(2,3) # another instance\n",
    "```\n",
    "\n",
    "```\n",
    "3\n",
    "5\n",
    "```\n",
    "#### Javascript\n",
    "```javascript\n",
    "function Function(a,b) {\n",
    "  return a + b;\n",
    "}\n",
    "\n",
    "Function(1,2)\n",
    "Function(2,3)\n",
    "```\n",
    "\n",
    "```\n",
    "3\n",
    "5\n",
    "```"
   ]
  },
  {
   "attachments": {},
   "cell_type": "markdown",
   "metadata": {},
   "source": [
    "### Parameters\n"
   ]
  },
  {
   "attachments": {},
   "cell_type": "markdown",
   "metadata": {},
   "source": [
    "## Hacks\n",
    "### Topic 3.12 (3.A):\n",
    "1. Define **procedure** and **parameter** in your own words\n",
    "2. Paste a **screenshot** of completion of the quiz\n",
    "3. Define **Return Values** and **Output Parameters** in your own words\n",
    "4. Code a **procedure** that finds the square root of any given number. (make sure to call and return the function)"
   ]
  },
  {
   "attachments": {},
   "cell_type": "markdown",
   "metadata": {},
   "source": []
  },
  {
   "attachments": {},
   "cell_type": "markdown",
   "metadata": {},
   "source": [
    "### Topic 3.13 (3.B):\n",
    "1. Explain, in your own words, why abstracting away your program logic into separate, modular functions is effective\n",
    "2. Create a procedure that uses other sub-procedures (other functions) within it and explain why the abstraction was needed (conciseness, shared behavior, etc.)\n",
    "3. Add another layer of abstraction to the word counter program (HINT: create a function that can count the number of words starting with ANY character in a given string -- how can we leverage parameters for this?)"
   ]
  },
  {
   "cell_type": "markdown",
   "metadata": {},
   "source": []
  },
  {
   "attachments": {},
   "cell_type": "markdown",
   "metadata": {},
   "source": [
    "### Topic 3.13 (3.C):\n",
    "1. Define <font color=\"#ffffc2\" style=\"font-weight: bold\">procedure names</font> and <font color=\"#ffffc2\" style=\"font-weight: bold\">arguments</font> in your own words.\n",
    "2. Code some <font color=\"#ffffc2\" style=\"font-weight: bold\">procedures</font> that use <font color=\"#ffffc2\" style=\"font-weight: bold\">arguments</font> and <font color=\"#ffffc2\" style=\"font-weight: bold\">parameters</font> with Javascript and HTML (make sure they are interactive on your hacks page, allowing the user to input numbers and click a button to produce an output)\n",
    "  - Add two numbers\n",
    "  - Subtract two numbers\n",
    "  - Multiply two numbers\n",
    "  - Divide two numbers"
   ]
  },
  {
   "cell_type": "markdown",
   "metadata": {},
   "source": []
  }
 ],
 "metadata": {
  "kernelspec": {
   "display_name": "Python 3.9.12 ('base')",
   "language": "python",
   "name": "python3"
  },
  "language_info": {
   "name": "python",
   "version": "3.9.12 (main, Apr  5 2022, 06:56:58) \n[GCC 7.5.0]"
  },
  "orig_nbformat": 4,
  "vscode": {
   "interpreter": {
    "hash": "40fb0cd5d44f051881184c5210ed52312dabb6d62ace68d9106c589b91788473"
   }
  }
 },
 "nbformat": 4,
 "nbformat_minor": 2
}
