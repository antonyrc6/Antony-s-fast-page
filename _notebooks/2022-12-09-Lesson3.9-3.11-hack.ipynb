{
 "cells": [
  {
   "attachments": {},
   "cell_type": "markdown",
   "metadata": {},
   "source": [
    "# Lesson Hack 3.9 3.11\n",
    "\n",
    "- title: Lesson Hack 3.9 3.11\n",
    "- toc: true\n",
    "- categories: [notebook]\n",
    "- tags: [hack]\n",
    "- comments: true"
   ]
  },
  {
   "attachments": {},
   "cell_type": "markdown",
   "metadata": {},
   "source": [
    "### Hack 1\n",
    "\n",
    "- why is it important to know that algorithms that look different can do the same thing and that algorithms that look the same might have different results?\n",
    "- It is important to know that algorithms looks different is because there will be a difference can make it wrong, even they looks the same.\n",
    "- for the converted conditional to boolean conversion"
   ]
  },
  {
   "cell_type": "code",
   "execution_count": 4,
   "metadata": {},
   "outputs": [
    {
     "name": "stdout",
     "output_type": "stream",
     "text": [
      "Eat it\n"
     ]
    }
   ],
   "source": [
    "isSolid = False\n",
    "isSoft = True\n",
    "\n",
    "if isSolid == True:\n",
    "    print(\"Don't Eat it\")\n",
    "else:\n",
    "    if isLiquid == True:\n",
    "        print(\"Eat it\")\n",
    "    else:\n",
    "        print(\"Don't eat it\")"
   ]
  },
  {
   "cell_type": "code",
   "execution_count": 3,
   "metadata": {},
   "outputs": [
    {
     "name": "stdout",
     "output_type": "stream",
     "text": [
      "Eat it\n"
     ]
    }
   ],
   "source": [
    "isSolid = False\n",
    "isSoft = True\n",
    "\n",
    "eatTime = not(isSolid) and isSoft\n",
    "if eatTime == False:\n",
    "    print(\"Don't eat it\")\n",
    "if eatTime == True:\n",
    "    print(\"Eat it\")"
   ]
  }
 ],
 "metadata": {
  "kernelspec": {
   "display_name": "base",
   "language": "python",
   "name": "python3"
  },
  "language_info": {
   "codemirror_mode": {
    "name": "ipython",
    "version": 3
   },
   "file_extension": ".py",
   "mimetype": "text/x-python",
   "name": "python",
   "nbconvert_exporter": "python",
   "pygments_lexer": "ipython3",
   "version": "3.9.12"
  },
  "orig_nbformat": 4,
  "vscode": {
   "interpreter": {
    "hash": "40fb0cd5d44f051881184c5210ed52312dabb6d62ace68d9106c589b91788473"
   }
  }
 },
 "nbformat": 4,
 "nbformat_minor": 2
}
