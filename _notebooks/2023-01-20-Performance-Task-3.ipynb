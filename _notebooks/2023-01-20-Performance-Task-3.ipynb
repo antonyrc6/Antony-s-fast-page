{
 "cells": [
  {
   "attachments": {},
   "cell_type": "markdown",
   "metadata": {},
   "source": [
    "# Performance Task 3\n",
    "- title: Performance Task 3\n",
    "- toc: true\n",
    "- type: blog\n",
    "- week: 19"
   ]
  },
  {
   "attachments": {},
   "cell_type": "markdown",
   "metadata": {},
   "source": [
    "### Submission 1\n",
    "| Category                     | Requirements                                                                                                                                                                                                                                                                                                                                                    | Student Score | Collegeboard Score |\n",
    "|------------------------------|-----------------------------------------------------------------------------------------------------------------------------------------------------------------------------------------------------------------------------------------------------------------------------------------------------------------------------------------------------------------|:-------------:|--------------------|\n",
    "| Program Purpose and Function | ☑Input<br> Program functionality<br> ☑Output Describes the overall purpose of the program.<br> ☒Describes what functionality of the program is demonstrated in the video.<br> ☑Describes the input and output of the program demonstrated in the video.                                                                                                                             |        0       |           0         |\n",
    "| Data Abstraction             | ☑Program code segment that shows how data has been stored in this list.<br> ☑Program code segment that shows the data in this same list being used as part of fulfilling the program’s purpose.<br> ☑Identifies the name of the variable representing the list being used in this response.<br> ☑Describes what the data contained in this list is representing in the program. |       1        |           1         |\n",
    "| Managing Complexity          | ☒Includes a program code segment that shows a list being used to manage complexity in the program.<br> ☑explains how the named, selected list manages complexity in the program code by explaining why the program code could not be written, or how it would be written differently, without using this list                                                         |         0      |          0          |\n",
    "| Procedural Abstraction       | ☑Program code segment showing a student-developed procedure with at least one parameter that has an effect on the functionality of the procedure.<br> ☑Program code segment showing where the student-developed procedure is being called.<br> Describes what the identified procedure does and how it contributes to the overall functionality of the program.           |       1        |            1        |\n",
    "| Algorithm Implementation     | ☑Sequencing<br> ☒Selection<br> ☒Iteration<br> ☒Explains in detailed steps how the identified algorithm works in enough detail that someone else could recreate it.                                                                                                                                                                                                              |        0       |           0         |\n",
    "| Testing                      | ☑Describes two calls to the selected procedure identified in written response 3c.<br> ☑Each call must pass a different argument that causes a different segment of code in the algorithm to execute.<br> ☑Describes the condition being tested by each call to the procedure. Identifies the result of each call.                                                          |        1       |         0           |"
   ]
  },
  {
   "attachments": {},
   "cell_type": "markdown",
   "metadata": {},
   "source": [
    "#### Comment\n",
    "My scores are similar to the college board score except for the last one. I thought the student describe calls to the procedure in his code but he doesn't."
   ]
  },
  {
   "attachments": {},
   "cell_type": "markdown",
   "metadata": {},
   "source": [
    "### Submission 2\n",
    "| Category                     | Requirements                                                                                                                                                                                                                                                                                                                                                    | Student Score | Collegeboard Score |\n",
    "|------------------------------|-----------------------------------------------------------------------------------------------------------------------------------------------------------------------------------------------------------------------------------------------------------------------------------------------------------------------------------------------------------------|:-------------:|--------------------|\n",
    "| Program Purpose and Function | ☑Input<br> ☑Program functionality<br> ☑Output Describes the overall purpose of the program.<br> ☑Describes what functionality of the program is demonstrated in the video.<br> Describes the input and output of the program demonstrated in the video.                                                                                                                             |        1       |            1        |\n",
    "| Data Abstraction             | ☑Program code segment that shows how data has been stored in this list.<br> ☑Program code segment that shows the data in this same list being used as part of fulfilling the program’s purpose.<br> ☑Identifies the name of the variable representing the list being used in this response.<br> ☑Describes what the data contained in this list is representing in the program. |       1        |          1          |\n",
    "| Managing Complexity          | ☑Includes a program code segment that shows a list being used to manage complexity in the program.<br> ☑explains how the named, selected list manages complexity in the program code by explaining why the program code could not be written, or how it would be written differently, without using this list                                                         |        1       |            1        |\n",
    "| Procedural Abstraction       | ☑Program code segment showing a student-developed procedure with at least one parameter that has an effect on the functionality of the procedure.<br> ☑Program code segment showing where the student-developed procedure is being called.<br> ☑Describes what the identified procedure does and how it contributes to the overall functionality of the program.           |        1       |         1           |\n",
    "| Algorithm Implementation     | ☑Sequencing<br> ☑Selection<br> ☑Iteration<br> ☑Explains in detailed steps how the identified algorithm works in enough detail that someone else could recreate it.                                                                                                                                                                                                              |       1        |         1           |\n",
    "| Testing                      | ☑Describes two calls to the selected procedure identified in written response 3c.<br> ☑Each call must pass a different argument that causes a different segment of code in the algorithm to execute.<br> ☑Describes the condition being tested by each call to the procedure. ☑Identifies the result of each call.                                                          |        1       |         1           |"
   ]
  },
  {
   "attachments": {},
   "cell_type": "markdown",
   "metadata": {},
   "source": [
    "#### Comment\n",
    "All criteria met."
   ]
  },
  {
   "attachments": {},
   "cell_type": "markdown",
   "metadata": {},
   "source": [
    "### Submission 3\n",
    "| Category                     | Requirements                                                                                                                                                                                                                                                                                                                                                    | Student Score | Collegeboard Score |\n",
    "|------------------------------|-----------------------------------------------------------------------------------------------------------------------------------------------------------------------------------------------------------------------------------------------------------------------------------------------------------------------------------------------------------------|:-------------:|--------------------|\n",
    "| Program Purpose and Function | ☑Input<br> ☑Program functionality<br> ☑Output Describes the overall purpose of the program.<br> ☑Describes what functionality of the program is demonstrated in the video.<br> ☑Describes the input and output of the program demonstrated in the video.                                                                                                                             |        1       |           1         |\n",
    "| Data Abstraction             | ☑Program code segment that shows how data has been stored in this list.<br> ☑Program code segment that shows the data in this same list being used as part of fulfilling the program’s purpose.<br> ☑Identifies the name of the variable representing the list being used in this response.<br> ☑Describes what the data contained in this list is representing in the program. |       1        |           1         |\n",
    "| Managing Complexity          | ☑Includes a program code segment that shows a list being used to manage complexity in the program.<br> ☑explains how the named, selected list manages complexity in the program code by explaining why the program code could not be written, or how it would be written differently, without using this list                                                         |        1       |         1           |\n",
    "| Procedural Abstraction       | ☒Program code segment showing a student-developed procedure with at least one parameter that has an effect on the functionality of the procedure.<br> ☑Program code segment showing where the student-developed procedure is being called.<br> Describes what the identified procedure does and how it contributes to the overall functionality of the program.           |       0        |          1          |\n",
    "| Algorithm Implementation     | ☑Sequencing<br> ☑Selection<br> ☑Iteration<br> ☑Explains in detailed steps how the identified algorithm works in enough detail that someone else could recreate it.                                                                                                                                                                                                              |       1        |         1           |\n",
    "| Testing                      | ☑Describes two calls to the selected procedure identified in written response 3c.<br> ☑Each call must pass a different argument that causes a different segment of code in the algorithm to execute.<br> ☑Describes the condition being tested by each call to the procedure. Identifies the result of each call.                                                          |          1     |        1           |"
   ]
  },
  {
   "attachments": {},
   "cell_type": "markdown",
   "metadata": {},
   "source": [
    "#### Comment\n",
    "For the procedural abstraction, I didn't spotted any parameters in his response."
   ]
  },
  {
   "attachments": {},
   "cell_type": "markdown",
   "metadata": {},
   "source": [
    "### Submission 4\n",
    "| Category                     | Requirements                                                                                                                                                                                                                                                                                                                                                    | Student Score | Collegeboard Score |\n",
    "|------------------------------|-----------------------------------------------------------------------------------------------------------------------------------------------------------------------------------------------------------------------------------------------------------------------------------------------------------------------------------------------------------------|:-------------:|--------------------|\n",
    "| Program Purpose and Function | ☑Input<br> ☒Program functionality<br> Output Describes the overall purpose of the program.<br> ☑Describes what functionality of the program is demonstrated in the video.<br> ☑Describes the input and output of the program demonstrated in the video.                                                                                                                             |         0      |           0         |\n",
    "| Data Abstraction             | ☑Program code segment that shows how data has been stored in this list.<br> ☑Program code segment that shows the data in this same list being used as part of fulfilling the program’s purpose.<br> ☑Identifies the name of the variable representing the list being used in this response.<br> ☑Describes what the data contained in this list is representing in the program. |        1       |            1        |\n",
    "| Managing Complexity          | ☒Includes a program code segment that shows a list being used to manage complexity in the program.<br> ☑explains how the named, selected list manages complexity in the program code by explaining why the program code could not be written, or how it would be written differently, without using this list                                                         |        0       |           1         |\n",
    "| Procedural Abstraction       | ☑Program code segment showing a student-developed procedure with at least one parameter that has an effect on the functionality of the procedure.<br> ☑Program code segment showing where the student-developed procedure is being called.<br> ☑Describes what the identified procedure does and how it contributes to the overall functionality of the program.           |        1       |          1          |\n",
    "| Algorithm Implementation     | ☑Sequencing<br> ☑Selection<br> ☑Iteration<br> ☑Explains in detailed steps how the identified algorithm works in enough detail that someone else could recreate it.                                                                                                                                                                                                              |       1        |          1          |\n",
    "| Testing                      | ☑Describes two calls to the selected procedure identified in written response 3c.<br> ☑Each call must pass a different argument that causes a different segment of code in the algorithm to execute.<br> ☑Describes the condition being tested by each call to the procedure. Identifies the result of each call.                                                          |         1      |          1          |"
   ]
  },
  {
   "attachments": {},
   "cell_type": "markdown",
   "metadata": {},
   "source": [
    "#### Comment\n",
    "I didn't saw list used in his code."
   ]
  },
  {
   "attachments": {},
   "cell_type": "markdown",
   "metadata": {},
   "source": [
    "### Reflection\n",
    "My score and college score are very similar for most of the submissions. I need to improve my understanding to vocabularies like perimeter and implantation."
   ]
  }
 ],
 "metadata": {
  "kernelspec": {
   "display_name": "base",
   "language": "python",
   "name": "python3"
  },
  "language_info": {
   "name": "python",
   "version": "3.9.12 (main, Apr  5 2022, 06:56:58) \n[GCC 7.5.0]"
  },
  "orig_nbformat": 4,
  "vscode": {
   "interpreter": {
    "hash": "40fb0cd5d44f051881184c5210ed52312dabb6d62ace68d9106c589b91788473"
   }
  }
 },
 "nbformat": 4,
 "nbformat_minor": 2
}
