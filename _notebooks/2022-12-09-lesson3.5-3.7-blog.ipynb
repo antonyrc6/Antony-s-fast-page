{
 "cells": [
  {
   "attachments": {},
   "cell_type": "markdown",
   "metadata": {},
   "source": [
    "# Lesson 3.5 & 3.7 blog\n",
    "- title: Lesson 3.5 & 3.7 blog\n",
    "- toc: true\n",
    "- categories: [notebook]\n",
    "- tags: [blog]\n",
    "- comments: true"
   ]
  },
  {
   "attachments": {},
   "cell_type": "markdown",
   "metadata": {},
   "source": [
    "### Vocabulary\n",
    "\n",
    "- **Boolean**: A denoting system of algebraic notation for represent logical propositions.\n",
    "\n",
    "- **Relational Operators**: The mathematical relationship between two variables.\n",
    "\n",
    "- **Logical Operators**: For example, and, or, not.\n",
    "\n",
    "- **Selection**: The specific block of code that will execute.\n",
    "\n",
    "- **Algorithm**: A finite set of instructions that accomplish a task.\n",
    "\n",
    "\n",
    "- **Conditional Statement**: One of the conditional statement is if statement, it affect the sequence of control.\n",
    "\n",
    "##### And are used to display the opposite.\n",
    "##### Not are used to evaluate two condition at the same time.\n",
    "##### Or are used to check if one of two condition is met.\n",
    "\n",
    "\n"
   ]
  },
  {
   "attachments": {},
   "cell_type": "markdown",
   "metadata": {},
   "source": [
    "### Logical Operators example\n",
    "sequence: Not, And, Or"
   ]
  },
  {
   "cell_type": "code",
   "execution_count": 1,
   "metadata": {},
   "outputs": [
    {
     "name": "stdout",
     "output_type": "stream",
     "text": [
      "False\n"
     ]
    }
   ],
   "source": [
    "bootSuccess = True\n",
    "result = not(bootSuccess)\n",
    "print(result)"
   ]
  },
  {
   "cell_type": "code",
   "execution_count": 4,
   "metadata": {},
   "outputs": [
    {
     "name": "stdout",
     "output_type": "stream",
     "text": [
      "The number satisfy\n"
     ]
    }
   ],
   "source": [
    "num1 = 100\n",
    "if num1 >= 100 and num1 < 200:\n",
    "    print(\"The number satisfy\")"
   ]
  },
  {
   "cell_type": "code",
   "execution_count": 5,
   "metadata": {},
   "outputs": [
    {
     "name": "stdout",
     "output_type": "stream",
     "text": [
      "enough treats\n"
     ]
    }
   ],
   "source": [
    "candy = 80\n",
    "chocolate = 60\n",
    "if candy < 60 or chocolate > 50:\n",
    "    print(\"enough treats\")"
   ]
  },
  {
   "attachments": {},
   "cell_type": "markdown",
   "metadata": {},
   "source": [
    "### Nested Conditional\n",
    "- It consist of conditional statements within conditional statements.\n",
    "- They are nested or included one inside another.\n",
    "For example, a if in a if statement is a nested conditional statement.\n"
   ]
  }
 ],
 "metadata": {
  "kernelspec": {
   "display_name": "base",
   "language": "python",
   "name": "python3"
  },
  "language_info": {
   "codemirror_mode": {
    "name": "ipython",
    "version": 3
   },
   "file_extension": ".py",
   "mimetype": "text/x-python",
   "name": "python",
   "nbconvert_exporter": "python",
   "pygments_lexer": "ipython3",
   "version": "3.9.12 (main, Apr  5 2022, 06:56:58) \n[GCC 7.5.0]"
  },
  "orig_nbformat": 4,
  "vscode": {
   "interpreter": {
    "hash": "40fb0cd5d44f051881184c5210ed52312dabb6d62ace68d9106c589b91788473"
   }
  }
 },
 "nbformat": 4,
 "nbformat_minor": 2
}
