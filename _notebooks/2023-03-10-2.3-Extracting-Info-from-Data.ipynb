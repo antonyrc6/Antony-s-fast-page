{
 "cells": [
  {
   "attachments": {},
   "cell_type": "markdown",
   "metadata": {},
   "source": [
    "#  2.3 Extraction Information from Data\n",
    "- title: Extraction Info from Data\n",
    "- toc: true\n",
    "- week: 25\n",
    "- type: Blog"
   ]
  },
  {
   "attachments": {},
   "cell_type": "markdown",
   "metadata": {},
   "source": [
    "### Pandas and DataFrames\n",
    "Pandas is a python library. Pandas will help you to explore, clean, and process your data. In pandas, a data table is called a DataFrame. We use to import the library using \"import pandas as pd\".<br>\n",
    "When looking at a data set, check to see what data needs to be cleaned. Examples include:\n",
    "- Missing Data Points\n",
    "- Invalid Data\n",
    "- Inaccurate Data<br>\n",
    "Example below:"
   ]
  },
  {
   "cell_type": "code",
   "execution_count": 1,
   "metadata": {},
   "outputs": [
    {
     "name": "stdout",
     "output_type": "stream",
     "text": [
      "   Student ID Year in School   GPA\n",
      "0         123             12  3.57\n",
      "1         246             10  4.00\n",
      "2         578             12  2.78\n",
      "3         469             11  3.45\n",
      "4         324         Junior  4.75\n",
      "5         313             20  3.33\n",
      "6         145             12  2.95\n",
      "7         167             10  3.90\n",
      "8         235      9th Grade  3.15\n",
      "9         nil              9  2.80\n",
      "10        469             11  3.45\n",
      "11        456             10  2.75\n"
     ]
    }
   ],
   "source": [
    "import pandas as pd\n",
    "\n",
    "df = pd.read_json('files/grade.json')\n",
    "\n",
    "print(df)"
   ]
  },
  {
   "attachments": {},
   "cell_type": "markdown",
   "metadata": {},
   "source": [
    "For example, the grade of the students were not unity."
   ]
  },
  {
   "attachments": {},
   "cell_type": "markdown",
   "metadata": {},
   "source": [
    "### Titanic Hack"
   ]
  },
  {
   "cell_type": "code",
   "execution_count": 3,
   "metadata": {},
   "outputs": [
    {
     "name": "stdout",
     "output_type": "stream",
     "text": [
      "Titanic Data\n",
      "Index(['survived', 'pclass', 'sex', 'age', 'sibsp', 'parch', 'fare',\n",
      "       'embarked', 'class', 'who', 'adult_male', 'deck', 'embark_town',\n",
      "       'alive', 'alone'],\n",
      "      dtype='object')\n",
      "     survived  pclass     sex   age  sibsp  parch   class     fare  \\\n",
      "0           0       3    male  22.0      1      0   Third   7.2500   \n",
      "1           1       1  female  38.0      1      0   First  71.2833   \n",
      "2           1       3  female  26.0      0      0   Third   7.9250   \n",
      "3           1       1  female  35.0      1      0   First  53.1000   \n",
      "4           0       3    male  35.0      0      0   Third   8.0500   \n",
      "..        ...     ...     ...   ...    ...    ...     ...      ...   \n",
      "886         0       2    male  27.0      0      0  Second  13.0000   \n",
      "887         1       1  female  19.0      0      0   First  30.0000   \n",
      "888         0       3  female   NaN      1      2   Third  23.4500   \n",
      "889         1       1    male  26.0      0      0   First  30.0000   \n",
      "890         0       3    male  32.0      0      0   Third   7.7500   \n",
      "\n",
      "     embark_town  \n",
      "0    Southampton  \n",
      "1      Cherbourg  \n",
      "2    Southampton  \n",
      "3    Southampton  \n",
      "4    Southampton  \n",
      "..           ...  \n",
      "886  Southampton  \n",
      "887  Southampton  \n",
      "888  Southampton  \n",
      "889    Cherbourg  \n",
      "890   Queenstown  \n",
      "\n",
      "[891 rows x 9 columns]\n"
     ]
    }
   ],
   "source": [
    "import pandas as pd\n",
    "import seaborn as sns\n",
    "\n",
    "# Load the titanic dataset\n",
    "titanic_data = sns.load_dataset('titanic')\n",
    "\n",
    "print(\"Titanic Data\")\n",
    "\n",
    "\n",
    "print(titanic_data.columns) # titanic data set\n",
    "\n",
    "print(titanic_data[['survived','pclass', 'sex', 'age', 'sibsp', 'parch', 'class', 'fare', 'embark_town']])"
   ]
  },
  {
   "attachments": {},
   "cell_type": "markdown",
   "metadata": {},
   "source": [
    "### Dataset Hack"
   ]
  },
  {
   "cell_type": "code",
   "execution_count": 12,
   "metadata": {},
   "outputs": [
    {
     "name": "stdout",
     "output_type": "stream",
     "text": [
      "               name team  age  height\n",
      "0  PRECIOUS ACHIUWA  TOR   23    2.03\n",
      "1      STEVEN ADAMS  MEM   29    2.11\n",
      "2       BAM ADEBAYO  MIA   25    2.06\n",
      "3      OCHAI AGBAJI  UTA   22    1.96\n",
      "Oldest: 29\n",
      "Youngest: 22\n",
      "Tallest: 2.11\n",
      "Shortest: 1.96\n"
     ]
    }
   ],
   "source": [
    "import pandas as pd\n",
    "\n",
    "dataset = [\n",
    "  {\n",
    "    \"name\": \"PRECIOUS ACHIUWA\",\n",
    "    \"team\": \"TOR\",\n",
    "    \"age\": 23,\n",
    "    \"height\": 2.03,\n",
    "  },\n",
    "  {\n",
    "    \"name\": \"STEVEN ADAMS\",\n",
    "    \"team\": \"MEM\",\n",
    "    \"age\": 29,\n",
    "    \"height\": 2.11,\n",
    "  },\n",
    "  {\n",
    "    \"name\": \"BAM ADEBAYO\",\n",
    "    \"team\": \"MIA\",\n",
    "    \"age\": 25,\n",
    "    \"height\": 2.06,\n",
    "  },\n",
    "  {\n",
    "    \"name\": \"OCHAI AGBAJI\",\n",
    "    \"team\": \"UTA\",\n",
    "    \"age\": 22,\n",
    "    \"height\": 1.96,\n",
    "  }\n",
    "]\n",
    "\n",
    "df = pd.DataFrame(dataset)\n",
    "\n",
    "print(df)\n",
    "\n",
    "print(\"Oldest: \" +str(df[\"age\"].max()))\n",
    "print(\"Youngest: \" + str(df[\"age\"].min()))\n",
    "print(\"Tallest: \" + str(df[\"height\"].max()))\n",
    "print(\"Shortest: \" + str(df[\"height\"].min()))\n",
    "\n"
   ]
  },
  {
   "cell_type": "code",
   "execution_count": null,
   "metadata": {},
   "outputs": [],
   "source": []
  }
 ],
 "metadata": {
  "kernelspec": {
   "display_name": "base",
   "language": "python",
   "name": "python3"
  },
  "language_info": {
   "codemirror_mode": {
    "name": "ipython",
    "version": 3
   },
   "file_extension": ".py",
   "mimetype": "text/x-python",
   "name": "python",
   "nbconvert_exporter": "python",
   "pygments_lexer": "ipython3",
   "version": "3.9.13"
  },
  "orig_nbformat": 4
 },
 "nbformat": 4,
 "nbformat_minor": 2
}
