{
 "cells": [
  {
   "attachments": {},
   "cell_type": "markdown",
   "metadata": {},
   "source": [
    "# Performance Task Scoring 1\n",
    "> Jupyter Notebook for the rest of the class to follow along with.\n",
    "\n",
    "- title: Performance Task Scoring 1\n",
    "- toc: true\n",
    "- badges: true\n",
    "- comments: true\n"
   ]
  },
  {
   "attachments": {},
   "cell_type": "markdown",
   "metadata": {},
   "source": [
    "### Student 1 Grade\n",
    "\n",
    "| Category                     | Student Score | Collegeboard score | Comment                                                                  |\n",
    "|------------------------------|---------------|--------------------|--------------------------------------------------------------------------|\n",
    "| Program Purpose and Function | 1             | 0                  | I thought the program purpose was shown in the written response.         |\n",
    "| Data Abstraction             | 1             | 1                  | The data abstraction was shown in his code.                              |\n",
    "| Managing Complexity          | 1             | 0                  | I thought the complexity in his code is pretty good                      |\n",
    "| Procedural Abstraction       | 1             | 1                  | The process shown all the necessary item and no extra.                   |\n",
    "| Algorithm Implementation     | 1             | 1                  | The algorithm is efficient in their codes shown in the written response. |\n",
    "| Testing                      | 1             | 1                  | The testing is success and give all the result needed.                   |"
   ]
  },
  {
   "attachments": {},
   "cell_type": "markdown",
   "metadata": {},
   "source": [
    "### Student 2 Grade\n",
    "| Category                     | Student Score | Collegeboard score | Comment                                                               |\n",
    "|------------------------------|---------------|--------------------|-----------------------------------------------------------------------|\n",
    "| Program Purpose and Function | 1             | 1                  | The student describe the purpose in the written response.             |\n",
    "| Data Abstraction             | 1             | 1                  | The list is used in the student's datas in the written response.      |\n",
    "| Managing Complexity          | 0             | 1                  | I think the student's codes were long and complex.                    |\n",
    "| Procedural Abstraction       | 1             | 1                  | The process of the student's program is shown complete and simple.    |\n",
    "| Algorithm Implementation     | 1             | 1                  | The student describe how his algorithm works in the written response. |\n",
    "| Testing                      | 1             | 1                  | The student test many scenarios of how the program is going to work.  |"
   ]
  },
  {
   "attachments": {},
   "cell_type": "markdown",
   "metadata": {},
   "source": [
    "### Reflection\n",
    "My grading are slightly different from college board. The first student is missing some elements while the second student meet all the requirement and perform all the computer science knowledge."
   ]
  }
 ],
 "metadata": {
  "kernelspec": {
   "display_name": "base",
   "language": "python",
   "name": "python3"
  },
  "language_info": {
   "name": "python",
   "version": "3.9.12 (main, Apr  5 2022, 06:56:58) \n[GCC 7.5.0]"
  },
  "orig_nbformat": 4,
  "vscode": {
   "interpreter": {
    "hash": "40fb0cd5d44f051881184c5210ed52312dabb6d62ace68d9106c589b91788473"
   }
  }
 },
 "nbformat": 4,
 "nbformat_minor": 2
}
