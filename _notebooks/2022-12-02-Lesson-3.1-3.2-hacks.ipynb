{
 "cells": [
  {
   "cell_type": "markdown",
   "metadata": {},
   "source": [
    "# Unit 3.1-3.2 Hack\n",
    "> Jupyter Notebook for the assignment\n",
    "- toc: true\n",
    "- badges: true\n",
    "- comments: true\n",
    "- categories: [jupyter, python]"
   ]
  },
  {
   "cell_type": "markdown",
   "metadata": {},
   "source": [
    "## Recap:\n",
    "- We learned what is a assignment operator\n",
    "- We learned how to use the assignment operator\n",
    "- We learned how to store a value inside a variable using the assignment operator\n",
    "- We experimented with a few examples \n",
    "\n",
    "## Hacks: \n",
    "Answer these:\n",
    "- In your **own** words, briefly explain by writing down what an assignment operator is\n",
    "- Assignment operator assign values to variables.\n",
    "- In Collegeboard pseudocode, what symbol is used to assign values to variables?\n",
    "- Arrows like \"num1 → 3\"\n",
    "- A variable, x, is initially given a value of 15. Later on, the value for x is changed to 22. If you print x, would the command display 15 or 22?\n",
    "- 22\n",
    "\n",
    "## Hacks:\n",
    "Copy the all the html code into a markdown file and run your local server. You will then see a decimal to binary converter near the html code. The problem is that it is not converting the decimal to binary. This is because the variables are not defined properly and it is your job to use the information learned today to fix the converter. **Don't change the css**\n",
    "\n",
    "<body>\n",
    "<div class=\"container\">\n",
    "    <div class=\"calendar\">\n",
    "        <div class=\"month\">\n",
    "            <button class=\"prev\">Prev</button>\n",
    "            <button class=\"next\">Next</button>\n",
    "        </div>\n",
    "    </div>\n",
    "</div>\n",
    "\n",
    "\n",
    "<script>\n",
    "    // to make our lives a little easier, we can store the div next and prev into variables\n",
    "    // this way we don't need to type out as much \n",
    "    // Note: You CAN just add the event listener to document.querySelector(.next) or prev and get the same desired outcome \n",
    "    \n",
    "    nextButton = document.querySelector(.next)\n",
    "    prevButton = document.querySelector(.prev)\n",
    "\n",
    "    // we can go make the buttons functional by adding an addeventlistner to them\n",
    "\n",
    "</script>\n",
    "\n",
    "- Define variable\n",
    "- It's a placeholder in your program for a value\n",
    "- It's also a variable is a named unit of data that can be assigned a value"
   ]
  },
  {
   "cell_type": "markdown",
   "metadata": {},
   "source": [
    "## Hacks\n",
    "\n",
    "## Questions\n",
    "* What is a list?\n",
    "Lists are sequences of elements with each element being a variable.\n",
    "* What is an element?\n",
    "Elements are the strings that are going to print.\n",
    "* What is an easy way to reference the elements in a list or string?\n",
    "With a bracket\n",
    "* What is an example of a string?\n",
    "Name, id, anything that is a letter, number, or words.\n",
    "\n",
    "## Hacks\n",
    "* Create a list with indices \n",
    "* Index a part of the list that you created.\n",
    "* Try to index from the end \n",
    "\n"
   ]
  },
  {
   "cell_type": "code",
   "execution_count": 5,
   "metadata": {},
   "outputs": [
    {
     "name": "stdout",
     "output_type": "stream",
     "text": [
      "candy\n"
     ]
    }
   ],
   "source": [
    "shoppingList = [\"lemon\", \"vegetable\", \"candy\", \"chip\", \"meat\", \"rice\"]\n",
    "print(shoppingList[-4])"
   ]
  },
  {
   "cell_type": "markdown",
   "metadata": {},
   "source": [
    "## Hacks"
   ]
  },
  {
   "cell_type": "code",
   "execution_count": 21,
   "metadata": {},
   "outputs": [
    {
     "name": "stdout",
     "output_type": "stream",
     "text": [
      "[1, 2, 3]\n"
     ]
    }
   ],
   "source": [
    "num1=input(\"Input a number. \")\n",
    "num2=input(\"Input a number. \")\n",
    "num3=input(\"Input a number. \")\n",
    "add=input(\"How much would you like to add? \")\n",
    "\n",
    "# Add code in the space below\n",
    "numlist = [int(num1), int(num2), int(num3)]\n",
    "\n",
    "\n",
    "# The following is the code that adds the inputted addend to the other numbers. It is hidden from the user.\n",
    "\n",
    "for i in numlist:\n",
    "    numlist[i -1] += int(add)\n",
    "\n",
    "print(numlist)"
   ]
  },
  {
   "cell_type": "code",
   "execution_count": 20,
   "metadata": {},
   "outputs": [
    {
     "name": "stdout",
     "output_type": "stream",
     "text": [
      "Hello, antony running /home/antony/anaconda3/bin/python\n",
      "You will be asked 4 questions.\n",
      "Question: Are you ready to take a test?\n",
      "Question: The purpose of lists and dictionaries are to manage the ____ of a program\n",
      "complexity is correct!\n",
      "Question: Lists are a form of data ______\n",
      "abstraction is correct!\n",
      "Question: Which brackets are used to assign values to a variable to make a list?\n",
      "[] is correct!\n",
      "antony you scored 3/4\n"
     ]
    }
   ],
   "source": [
    "import getpass, sys\n",
    "\n",
    "def question_with_response(prompt):\n",
    "    print(\"Question: \" + prompt)\n",
    "    msg = input()\n",
    "    return msg\n",
    "\n",
    "questions = 4\n",
    "correct = 0\n",
    "\n",
    "print('Hello, ' + getpass.getuser() + \" running \" + sys.executable)\n",
    "print(\"You will be asked \" + str(questions) + \" questions.\")\n",
    "question_with_response(\"Are you ready to take a test?\")\n",
    "\n",
    "rsp = question_with_response(\"The purpose of lists and dictionaries are to manage the ____ of a program\")\n",
    "if rsp == \"complexity\":\n",
    "    print(rsp + \" is correct!\")\n",
    "    correct += 1\n",
    "else:\n",
    "    print(rsp + \" is incorrect!\")\n",
    "\n",
    "rsp = question_with_response(\"Lists are a form of data ______\")\n",
    "if rsp == \"abstraction\":\n",
    "    print(rsp + \" is correct!\")\n",
    "    correct += 1\n",
    "else:\n",
    "    print(rsp + \" is incorrect!\")\n",
    "\n",
    "rsp = question_with_response(\"Which brackets are used to assign values to a variable to make a list?\")\n",
    "if rsp == \"[]\":\n",
    "    print(rsp + \" is correct!\")\n",
    "    correct += 1\n",
    "else:\n",
    "    print(rsp + \" is incorrect!\") \n",
    "\n",
    "print(getpass.getuser() + \" you scored \" + str(correct) +\"/\" + str(questions))\n"
   ]
  },
  {
   "cell_type": "markdown",
   "metadata": {},
   "source": [
    "## Hacks\n",
    "- On a single markdown file:\n",
    "    - Insert a screenshot of your score on the python quiz\n",
    "    - Insert a screenshot of your simplifying of the food list\n",
    "    - Why are using lists better for a program, rather than writing out each line of code?\n",
    "    - Make your own list the \"long and slow way\" then manage the complexity of the list\n",
    "\n",
    "## Rubric\n",
    "- In ordere to earn a .20/.20 you must\n",
    "    - On a markdown post:\n",
    "    - make an attempt at the python quiz\n",
    "    - Successfully simplify the food list\n",
    "    - Answer the question in detail\n",
    "    - Provide evidence of your own list that you coded"
   ]
  }
 ],
 "metadata": {
  "kernelspec": {
   "display_name": "Python 3.9.12 ('base')",
   "language": "python",
   "name": "python3"
  },
  "language_info": {
   "codemirror_mode": {
    "name": "ipython",
    "version": 3
   },
   "file_extension": ".py",
   "mimetype": "text/x-python",
   "name": "python",
   "nbconvert_exporter": "python",
   "pygments_lexer": "ipython3",
   "version": "3.9.12"
  },
  "orig_nbformat": 4,
  "vscode": {
   "interpreter": {
    "hash": "40fb0cd5d44f051881184c5210ed52312dabb6d62ace68d9106c589b91788473"
   }
  }
 },
 "nbformat": 4,
 "nbformat_minor": 2
}
