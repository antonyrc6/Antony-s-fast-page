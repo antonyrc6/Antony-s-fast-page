{
 "cells": [
  {
   "cell_type": "markdown",
   "metadata": {},
   "source": [
    "# Unit 3.1-3.2 Hack\n",
    "> Jupyter Notebook for the assignment\n",
    "- toc: true\n",
    "- badges: true\n",
    "- comments: true\n",
    "- categories: [jupyter, python]"
   ]
  },
  {
   "cell_type": "markdown",
   "metadata": {},
   "source": [
    "## Recap:\n",
    "- We learned what is a assignment operator\n",
    "- We learned how to use the assignment operator\n",
    "- We learned how to store a value inside a variable using the assignment operator\n",
    "- We experimented with a few examples \n",
    "\n",
    "## Hacks: \n",
    "Answer these:\n",
    "- In your **own** words, briefly explain by writing down what an assignment operator is\n",
    "- Assignment operator assign values to variables.\n",
    "- In Collegeboard pseudocode, what symbol is used to assign values to variables?\n",
    "- Arrows like \"num1 → 3\"\n",
    "- A variable, x, is initially given a value of 15. Later on, the value for x is changed to 22. If you print x, would the command display 15 or 22?\n",
    "- 22\n",
    "\n",
    "## Hacks:\n",
    "Copy the all the html code into a markdown file and run your local server. You will then see a decimal to binary converter near the html code. The problem is that it is not converting the decimal to binary. This is because the variables are not defined properly and it is your job to use the information learned today to fix the converter. **Don't change the css**\n",
    "\n",
    "<body>\n",
    "<div class=\"container\">\n",
    "    <div class=\"calendar\">\n",
    "        <div class=\"month\">\n",
    "            <button class=\"prev\">Prev</button>\n",
    "            <button class=\"next\">Next</button>\n",
    "        </div>\n",
    "    </div>\n",
    "</div>\n",
    "\n",
    "\n",
    "<script>\n",
    "    // to make our lives a little easier, we can store the div next and prev into variables\n",
    "    // this way we don't need to type out as much \n",
    "    // Note: You CAN just add the event listener to document.querySelector(.next) or prev and get the same desired outcome \n",
    "    \n",
    "    nextButton = document.querySelector(.next)\n",
    "    prevButton = document.querySelector(.prev)\n",
    "\n",
    "    // we can go make the buttons functional by adding an addeventlistner to them\n",
    "\n",
    "</script>\n"
   ]
  },
  {
   "cell_type": "markdown",
   "metadata": {},
   "source": [
    "## Hacks\n",
    "\n",
    "## Questions\n",
    "* What is a list?\n",
    "Lists are sequences of elements with each element being a variable.\n",
    "* What is an element?\n",
    "Elements are the strings that are going to print.\n",
    "* What is an easy way to reference the elements in a list or string?\n",
    "* What is an example of a string?\n",
    "\n",
    "## Hacks\n",
    "* Create a list with indices \n",
    "* Index a part of the list that you created.\n",
    "* Try to index from the end \n",
    "\n",
    "### Create an index of your favorite foods\n",
    "Tips: Index starts at 1, Strings are ordered sequences of characters\n",
    "\n",
    "Extra work: Try to create an index that lists your favorite food and print the element at index 3.\n",
    "More work: Create a list of your favorite foods and create an index to access them.\n",
    "\n",
    "marks = [\"food1\"]\n",
    "\n",
    "### Rubric \n",
    "\n",
    "#### Creating a list\n",
    "- Shows great knowledge in creating lists\n",
    "\n",
    "#### Indexing\n",
    "- Is able to index both from the start and from the end"
   ]
  }
 ],
 "metadata": {
  "kernelspec": {
   "display_name": "Python 3.9.12 ('base')",
   "language": "python",
   "name": "python3"
  },
  "language_info": {
   "name": "python",
   "version": "3.9.12"
  },
  "orig_nbformat": 4,
  "vscode": {
   "interpreter": {
    "hash": "40fb0cd5d44f051881184c5210ed52312dabb6d62ace68d9106c589b91788473"
   }
  }
 },
 "nbformat": 4,
 "nbformat_minor": 2
}
