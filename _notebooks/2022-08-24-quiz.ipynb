{
 "cells": [
  {
   "cell_type": "code",
   "execution_count": 18,
   "metadata": {},
   "outputs": [
    {
     "name": "stdout",
     "output_type": "stream",
     "text": [
      "Hello, anton running c:\\Users\\anton\\AppData\\Local\\Programs\\Python\\Python310\\python.exe\n",
      "You will be asked 4 questions.\n",
      "Question: Are you ready to take a test?\n",
      "Question: What is the answer for x? 2x+5=7\n",
      "1 Your answer is correct\n",
      "Question: What is the shape of function, 6x² + 11x - 35?\n",
      "3 Your answer is incorrect\n",
      "Question: What is the y-intercept of this function? y=2x+3\n",
      "-3 Your answer is incorrect\n",
      "Question: What is the root of this function? y=2(x+3)\n",
      "3 Your answer is incorrect\n",
      "anton you scored 1/4\n"
     ]
    }
   ],
   "source": [
    "import getpass, sys\n",
    "\n",
    "def question_with_response(prompt):\n",
    "    print(\"Question: \" + prompt)\n",
    "    msg = input()\n",
    "    return msg\n",
    "\n",
    "questions = 4\n",
    "correct = 0\n",
    "\n",
    "print('Hello, ' + getpass.getuser() + \" running \" + sys.executable)\n",
    "print(\"You will be asked \" + str(questions) + \" questions.\")\n",
    "question_with_response(\"Are you ready to take a test?\")\n",
    "\n",
    "rsp = question_with_response(\"What is the answer for x? 2x+5=7\")\n",
    "if rsp == \"1\":\n",
    "    print(rsp + \" Your answer is correct\")\n",
    "    correct += 1\n",
    "else:\n",
    "    print(rsp + \" Your answer is incorrect\")\n",
    "\n",
    "rsp = question_with_response(\"What is the shape of function, 6x² + 11x - 35?\")\n",
    "if rsp == \"quadratic\":\n",
    "    print(rsp + \" Your answer is correct\")\n",
    "    correct += 1\n",
    "else:\n",
    "    print(rsp + \" Your answer is incorrect\")\n",
    "\n",
    "rsp = question_with_response(\"What is the y-intercept of this function? y=2x+3\")\n",
    "if rsp == \"3\":\n",
    "    print(rsp + \" Your answer is correct\")\n",
    "    correct += 1\n",
    "else:\n",
    "    print(rsp + \" Your answer is incorrect\")\n",
    "\n",
    "rsp = question_with_response(\"What is the root of this function? y=2(x+3)\")\n",
    "if rsp == \"-3\":\n",
    "    print(rsp + \" Your answer is correct\")\n",
    "    correct += 1\n",
    "else:\n",
    "    print(rsp + \" Your answer is incorrect\")\n",
    "\n",
    "print(getpass.getuser() + \" you scored \" + str(correct) +\"/\" + str(questions))\n"
   ]
  }
 ],
 "metadata": {
  "kernelspec": {
   "display_name": "Python 3.10.6 64-bit",
   "language": "python",
   "name": "python3"
  },
  "language_info": {
   "codemirror_mode": {
    "name": "ipython",
    "version": 3
   },
   "file_extension": ".py",
   "mimetype": "text/x-python",
   "name": "python",
   "nbconvert_exporter": "python",
   "pygments_lexer": "ipython3",
   "version": "3.10.6"
  },
  "orig_nbformat": 4,
  "vscode": {
   "interpreter": {
    "hash": "4604fddfbe3ec3d9d385c207fa0ddb9a05dfef66380401ad05b04bbd42d45367"
   }
  }
 },
 "nbformat": 4,
 "nbformat_minor": 2
}
