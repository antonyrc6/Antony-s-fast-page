{
 "cells": [
  {
   "attachments": {},
   "cell_type": "markdown",
   "metadata": {},
   "source": [
    "# Project cpt outline\n",
    "- title: Project cpt outline\n",
    "- toc: true\n",
    "- type: blog\n",
    "- week: 22"
   ]
  },
  {
   "attachments": {},
   "cell_type": "markdown",
   "metadata": {},
   "source": [
    "### Program purpose and function\n",
    "The purpose make users sign in to their own account to use our product. The program I was working on is the signup and login feature.\n",
    "### Data abstraction\n",
    "- For the frontend data abstraction, I only provide two signup input boxes which are the username and password, user does not need to provide any personal information.\n",
    "- For the backend data abstraction, I use a database to hold all the login credentials for the users and define functions like checking the account info and insert the account info.<br>\n",
    "I write all the code in main.py in order for it to work when the server run\n",
    "\n"
   ]
  },
  {
   "cell_type": "code",
   "execution_count": null,
   "metadata": {},
   "outputs": [],
   "source": [
    "# import \"packages\" from flask\n",
    "from flask import Flask, render_template, request, redirect, session  # import render_template from \"public\" flask libraries\n",
    "# import \"packages\" from \"this\" project\n",
    "from __init__ import app,db  # Definitions initialization\n",
    "from api import app_api # Blueprint import api definition\n",
    "from bp_projects.projects import app_projects # Blueprint directory import projects definition\n",
    "import sqlite3 #import sqlite library for database\n",
    "app.register_blueprint(app_api) # register api routes\n",
    "app.register_blueprint(app_projects) # register api routes\n",
    "\n",
    "def register_user(username, password):\n",
    "    conn = sqlite3.connect('GroupA/user.db')\n",
    "    c = conn.cursor()\n",
    "    c.execute('INSERT INTO users(username, password) values (?, ?)', (username, password))\n",
    "    conn.commit()\n",
    "    conn.close()\n",
    "\n",
    "def check_user(username, password):\n",
    "    conn = sqlite3.connect('GroupA/user.db')\n",
    "    c = conn.cursor()\n",
    "    c.execute('Select username, password FROM users WHERE username=? and password=?', (username, password))\n",
    "\n",
    "    result = c.fetchone()\n",
    "    if result:\n",
    "        return True\n",
    "    else:\n",
    "        return False\n",
    "\n",
    "app.secret_key = \"123456\"\n",
    "\n",
    "@app.errorhandler(404)  # catch for URL not found\n",
    "def page_not_found(e):\n",
    "    # note that we set the 404 status explicitly\n",
    "    return render_template('404.html'), 404\n",
    "\n",
    "@app.route('/')  # connects default URL to index() function\n",
    "def index():\n",
    "    return render_template(\"home.html\")\n",
    "\n",
    "@app.route('/stub/')  # connects /stub/ URL to stub() function\n",
    "def stub():\n",
    "    return render_template(\"stub.html\")\n",
    "\n",
    "@app.route('/registeri/')\n",
    "def registeri():\n",
    "    return render_template(\"register.html\")\n",
    "\n",
    "@app.route('/register', methods=[\"POST\", \"GET\"])\n",
    "def register():\n",
    "    if request.method == 'POST':\n",
    "        username = request.form['username']\n",
    "        password = request.form['password']\n",
    "        if check_user(username, password):\n",
    "            return \"user already exist\"\n",
    "        else:\n",
    "            register_user(username, password)\n",
    "            return redirect('/')\n",
    "    \n",
    "@app.route('/login', methods=[\"POST\", \"GET\"])\n",
    "def login():\n",
    "    if request.method == 'POST':\n",
    "        username = request.form['username']\n",
    "        password = request.form['password']\n",
    "        print(check_user(username, password))\n",
    "        if check_user(username, password):\n",
    "            session['username']=username\n",
    "\n",
    "            return redirect('/home')\n",
    "        else:\n",
    "            return \"Wrong Username or Password\"\n",
    "    \n",
    "@app.route('/home', methods=[\"POST\",\"GET\"])\n",
    "def home():\n",
    "    if 'username' in session:\n",
    "        return render_template(\"index.html\", username=session['username'])\n",
    "    else:\n",
    "        return \"Wrong Credentials\"\n",
    "    \n",
    "@app.route('/logout')\n",
    "def logout():\n",
    "    session.clear()\n",
    "    return redirect('/')   \n",
    "\n",
    "# this runs the application on the development server\n",
    "if __name__ == \"__main__\":\n",
    "    app.run(debug=True)"
   ]
  },
  {
   "attachments": {},
   "cell_type": "markdown",
   "metadata": {},
   "source": [
    "![](images/Capture11.png)"
   ]
  },
  {
   "attachments": {},
   "cell_type": "markdown",
   "metadata": {},
   "source": [
    "### Managing complexity\n",
    "I manage complexity by defining functions and app.route as action to do jobs"
   ]
  },
  {
   "attachments": {},
   "cell_type": "markdown",
   "metadata": {},
   "source": [
    "### Procedural abstraction\n",
    "This part calls back the function from before to use the checking user in database function to check if there were same account that was already registered."
   ]
  },
  {
   "cell_type": "code",
   "execution_count": null,
   "metadata": {},
   "outputs": [],
   "source": [
    "@app.route('/register', methods=[\"POST\", \"GET\"])\n",
    "def register():\n",
    "    if request.method == 'POST':\n",
    "        username = request.form['username']\n",
    "        password = request.form['password']\n",
    "        if check_user(username, password):\n",
    "            return \"user already exist\"\n",
    "        else:\n",
    "            register_user(username, password)\n",
    "            return redirect('/')"
   ]
  },
  {
   "attachments": {},
   "cell_type": "markdown",
   "metadata": {},
   "source": [
    "### Algorithm Implementation\n",
    "This include the action that is defined in the python file to complete the task of check user information and login."
   ]
  },
  {
   "cell_type": "code",
   "execution_count": null,
   "metadata": {
    "vscode": {
     "languageId": "html"
    }
   },
   "outputs": [],
   "source": [
    "<div class=\"container\">\n",
    "      <form action=\"/login\" method=\"post\">\n",
    "      <div class=\"mb-3\">\n",
    "        <label for=\"Username\" class=\"form-label\">Username</label>\n",
    "        <input type=\"text\" class=\"form-control\" id=\"Username\" name=\"username\">\n",
    "      </div>\n",
    "      <div class=\"mb-3\">\n",
    "        <label for=\"Password\" class=\"form-label\">Password</label>\n",
    "        <input type=\"password\" class=\"form-control\" id=\"Password\" name=\"password\">\n",
    "      </div>\n",
    "      <button type=\"submit\" class=\"btn btn-primary\">Login</button>\n",
    "    </form>"
   ]
  }
 ],
 "metadata": {
  "kernelspec": {
   "display_name": "base",
   "language": "python",
   "name": "python3"
  },
  "language_info": {
   "name": "python",
   "version": "3.9.12"
  },
  "orig_nbformat": 4,
  "vscode": {
   "interpreter": {
    "hash": "40fb0cd5d44f051881184c5210ed52312dabb6d62ace68d9106c589b91788473"
   }
  }
 },
 "nbformat": 4,
 "nbformat_minor": 2
}
