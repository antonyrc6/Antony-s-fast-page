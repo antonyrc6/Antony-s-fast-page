{
 "cells": [
  {
   "attachments": {},
   "cell_type": "markdown",
   "metadata": {},
   "source": [
    "# Data Compression\n",
    "- title: Data Compression\n",
    "- toc: true\n",
    "- type: blog\n",
    "- week: 25"
   ]
  },
  {
   "attachments": {},
   "cell_type": "markdown",
   "metadata": {},
   "source": [
    "![](images/Capture15.jpg)"
   ]
  },
  {
   "attachments": {},
   "cell_type": "markdown",
   "metadata": {},
   "source": [
    "### Lossy and Lossless\n",
    "- lossy data can reduce data but the original data is not recovered.\n",
    "- lossless data lets you restore and recover\n",
    "<br>\n",
    "For example, a image's size can be compress by reducing bits and loss some data"
   ]
  },
  {
   "attachments": {},
   "cell_type": "markdown",
   "metadata": {},
   "source": [
    "### Data Compression\n",
    "Data compression is the reduction of the number of bits needed to represent data and reduce the transmission time.<br>"
   ]
  },
  {
   "attachments": {},
   "cell_type": "markdown",
   "metadata": {},
   "source": [
    "### Describe some of the meta data and considerations when managing Image files. Describe how these relate to Data Compression\n",
    "Some meta datas when managing the image file are the file name and file type, file size, created data/time, etc. The file size will decrease when the file compres. Also different flle type will affect the size of data.\n"
   ]
  },
  {
   "attachments": {},
   "cell_type": "markdown",
   "metadata": {},
   "source": [
    "### Questions\n",
    "- What are commands you use in terminal to access files?<br>\n",
    "I use code to open a file in vs code terminal\n",
    "- What are the command you use in Windows terminal to access files?<br>\n",
    "I use dir to access file in windows terminal\n",
    "- What are some of the major differences?<br>\n",
    "The command is different.\n",
    "- Why is path a big deal when working with images?<br>\n",
    "The file can be hidden in subfolders inside subfolders so a path needs to be specified in order for the computer to find the file. Also, there can be file with the same name inside different subfolders inside a folder.\n",
    "- How does the meta data source and label relate to Unit 5 topics?<br>\n",
    "The license we mensioned in unit 5 topic is a type of meta data. Meta data also include informations that allows you to determine if a software or website is safe.\n",
    "- Look up IPython, describe why this is interesting in Jupyter Notebooks for both Pandas and Images?<br>\n",
    "Interative python is a shell for interactive computing"
   ]
  },
  {
   "cell_type": "code",
   "execution_count": 8,
   "metadata": {},
   "outputs": [
    {
     "data": {
      "image/jpeg": "[encoded data removed]",
      "text/plain": [
       "<IPython.core.display.Image object>"
      ]
     },
     "metadata": {},
     "output_type": "display_data"
    },
    {
     "data": {
      "image/jpeg": "[encoded data removed]",
      "text/plain": [
       "<IPython.core.display.Image object>"
      ]
     },
     "metadata": {},
     "output_type": "display_data"
    }
   ],
   "source": [
    "from IPython.display import Image, display # import the IPython library\n",
    "from pathlib import Path  # https://medium.com/@ageitgey/python-3-quick-tip-the-easy-way-to-deal-with-file-paths-on-windows-mac-and-linux-11a072b58d5f\n",
    "\n",
    "# prepares a series of images\n",
    "def image_data(path=Path(\"images/\"), images=None):  # path of static images is defaulted\n",
    "    if images is None:  # default image\n",
    "        images = [\n",
    "            {'source': \"Internet\", 'label': \"Smile face\", 'file': \"Capture15.jpg\"},\n",
    "\n",
    "        ]\n",
    "    for image in images:\n",
    "        # File to open\n",
    "        image['filename'] = path / image['file']  # file with path\n",
    "    return images\n",
    "\n",
    "def image_display(images):\n",
    "    for image in images:  \n",
    "        display(Image(filename=image['filename']))\n",
    "\n",
    "\n",
    "# Run this as standalone tester to see sample data printed in Jupyter terminal\n",
    "if __name__ == \"__main__\":\n",
    "    # print parameter supplied image\n",
    "    green_square = image_data(images=[{'source': \"Internet\", 'label': \"Green Square\", 'file': \"Capture15.jpg\"}])\n",
    "    image_display(green_square)\n",
    "    \n",
    "    # display default images from image_data()\n",
    "    default_images = image_data()\n",
    "    image_display(default_images)"
   ]
  }
 ],
 "metadata": {
  "kernelspec": {
   "display_name": "base",
   "language": "python",
   "name": "python3"
  },
  "language_info": {
   "codemirror_mode": {
    "name": "ipython",
    "version": 3
   },
   "file_extension": ".py",
   "mimetype": "text/x-python",
   "name": "python",
   "nbconvert_exporter": "python",
   "pygments_lexer": "ipython3",
   "version": "3.9.13"
  },
  "orig_nbformat": 4
 },
 "nbformat": 4,
 "nbformat_minor": 2
}
