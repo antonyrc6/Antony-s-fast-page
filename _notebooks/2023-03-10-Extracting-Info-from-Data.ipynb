{
 "cells": [
  {
   "attachments": {},
   "cell_type": "markdown",
   "metadata": {},
   "source": [
    "#  Extraction Information from Data\n",
    "- title: Extraction Info from Data\n",
    "- toc: true\n",
    "- week: 25\n",
    "- type: Blog"
   ]
  }
 ],
 "metadata": {
  "language_info": {
   "name": "python"
  },
  "orig_nbformat": 4
 },
 "nbformat": 4,
 "nbformat_minor": 2
}
