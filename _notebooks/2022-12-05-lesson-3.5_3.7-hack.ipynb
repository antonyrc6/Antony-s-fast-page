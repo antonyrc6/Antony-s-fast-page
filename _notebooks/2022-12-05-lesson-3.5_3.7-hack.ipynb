{
 "cells": [
  {
   "attachments": {},
   "cell_type": "markdown",
   "metadata": {},
   "source": [
    "# Lesson 3.5 3.7 hack\n",
    "- title: Lesson 3.5 3.7 hack\n",
    "- toc: true\n",
    "- categories: [notebook]\n",
    "- tags: [hack]\n",
    "- comments: true"
   ]
  },
  {
   "cell_type": "markdown",
   "metadata": {},
   "source": [
    "# Hacks\n",
    "- Explain in your own words what each logical operator does\n",
    "- Not displays the opposite of the input,and evaluate two conditions in the same range at the same time, or evaluate two conditions in the different range at the same time.\n",
    "- Code your own scenario that makes sense for each logical operator"
   ]
  },
  {
   "cell_type": "markdown",
   "metadata": {},
   "source": [
    "### Not"
   ]
  },
  {
   "cell_type": "code",
   "execution_count": 1,
   "metadata": {},
   "outputs": [
    {
     "name": "stdout",
     "output_type": "stream",
     "text": [
      "False\n"
     ]
    }
   ],
   "source": [
    "haveDinner = True\n",
    "result = not(haveDinner)\n",
    "print(result)"
   ]
  },
  {
   "cell_type": "markdown",
   "metadata": {},
   "source": [
    "### And"
   ]
  },
  {
   "cell_type": "code",
   "execution_count": 4,
   "metadata": {},
   "outputs": [
    {
     "name": "stdout",
     "output_type": "stream",
     "text": [
      "You have enough money\n"
     ]
    }
   ],
   "source": [
    "money = 163\n",
    "if money > 75 and money <= 170:\n",
    "    print(\"You have enough money\")"
   ]
  },
  {
   "cell_type": "markdown",
   "metadata": {},
   "source": [
    "### Or"
   ]
  },
  {
   "cell_type": "code",
   "execution_count": 5,
   "metadata": {},
   "outputs": [
    {
     "name": "stdout",
     "output_type": "stream",
     "text": [
      "you can afford it\n"
     ]
    }
   ],
   "source": [
    "item = 1\n",
    "money = 25\n",
    "if item <= 0 or money > 20:\n",
    "    print(\"you can afford it\")"
   ]
  },
  {
   "cell_type": "markdown",
   "metadata": {},
   "source": [
    "### Challenge Level 1"
   ]
  },
  {
   "cell_type": "code",
   "execution_count": 41,
   "metadata": {},
   "outputs": [
    {
     "name": "stdout",
     "output_type": "stream",
     "text": [
      "The lettter u is the 4 number\n"
     ]
    }
   ],
   "source": [
    "myList = ['a', 'e', 'i', 'o', 'u']\n",
    "letter1 = str(input(\"Which letter do you want to find?\"))\n",
    "index = myList.index(letter1)\n",
    "print(\"The lettter\", letter1, \"is the\", index, \"number\")"
   ]
  },
  {
   "cell_type": "markdown",
   "metadata": {},
   "source": [
    "### Question 1\n",
    "##### The output will be changed\n",
    "### Question 2\n",
    "##### Total will be 10. The price will be 15 after one year.\n"
   ]
  },
  {
   "cell_type": "markdown",
   "metadata": {},
   "source": [
    "## Hacks\n",
    "- Create 3 differnt flow charts representing nested statements and transfer them into code.\n",
    "![ImageOne](../images/nest.jpg)\n",
    "- Create a piece of code that displays four statements instead of three. Try to do more if you can.\n",
    "I don't know how to do this\n",
    "- Make piece of code that gives three different recommendations for possible classes to take at a scholl based on two different condtions. These conditions could be if the student likes STEM or not."
   ]
  }
 ],
 "metadata": {
  "kernelspec": {
   "display_name": "Python 3.9.12 ('base')",
   "language": "python",
   "name": "python3"
  },
  "language_info": {
   "codemirror_mode": {
    "name": "ipython",
    "version": 3
   },
   "file_extension": ".py",
   "mimetype": "text/x-python",
   "name": "python",
   "nbconvert_exporter": "python",
   "pygments_lexer": "ipython3",
   "version": "3.9.12 (main, Apr  5 2022, 06:56:58) \n[GCC 7.5.0]"
  },
  "orig_nbformat": 4,
  "vscode": {
   "interpreter": {
    "hash": "40fb0cd5d44f051881184c5210ed52312dabb6d62ace68d9106c589b91788473"
   }
  }
 },
 "nbformat": 4,
 "nbformat_minor": 2
}
