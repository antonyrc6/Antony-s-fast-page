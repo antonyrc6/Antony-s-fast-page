{
 "cells": [
  {
   "cell_type": "code",
   "execution_count": null,
   "metadata": {},
   "outputs": [],
   "source": [
    "# Lesson Hack 3.8 3.10\n",
    "##### the lesson hack for 3.8-3.10\n",
    "\n",
    "- title: LESSON HACK\n",
    "- toc: true\n",
    "- categories: [notebook]\n",
    "- permalink: /lesson\n",
    "- tags: [hack]"
   ]
  }
 ],
 "metadata": {
  "kernelspec": {
   "display_name": "Python 3.9.12 ('base')",
   "language": "python",
   "name": "python3"
  },
  "language_info": {
   "name": "python",
   "version": "3.9.12"
  },
  "orig_nbformat": 4,
  "vscode": {
   "interpreter": {
    "hash": "40fb0cd5d44f051881184c5210ed52312dabb6d62ace68d9106c589b91788473"
   }
  }
 },
 "nbformat": 4,
 "nbformat_minor": 2
}
