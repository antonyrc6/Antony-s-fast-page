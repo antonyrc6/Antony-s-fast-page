{
 "cells": [
  {
   "attachments": {},
   "cell_type": "markdown",
   "metadata": {},
   "source": [
    "# Night at the Museum Blog\n",
    "- title: Night at the Museum Blog\n",
    "- toc: true\n",
    "- type: blog\n",
    "- week: 22"
   ]
  },
  {
   "attachments": {},
   "cell_type": "markdown",
   "metadata": {},
   "source": [
    "### GET and POST for backend"
   ]
  },
  {
   "cell_type": "code",
   "execution_count": null,
   "metadata": {
    "vscode": {
     "languageId": "html"
    }
   },
   "outputs": [],
   "source": [
    "@app.route('/register', methods=[\"POST\", \"GET\"])\n",
    "def register():\n",
    "    if request.method == 'POST':\n",
    "        username = request.form['username']\n",
    "        password = request.form['password']\n",
    "        if check_user(username, password):\n",
    "            return \"user already exist\"\n",
    "        else:\n",
    "            register_user(username, password)\n",
    "            return redirect('/')\n",
    "    \n",
    "@app.route('/login', methods=[\"POST\", \"GET\"])\n",
    "def login():\n",
    "    if request.method == 'POST':\n",
    "        username = request.form['username']\n",
    "        password = request.form['password']\n",
    "        print(check_user(username, password))\n",
    "        if check_user(username, password):\n",
    "            session['username']=username\n",
    "\n",
    "            return redirect('/home')\n",
    "        else:\n",
    "            return \"Wrong Username or Password\"\n",
    "    \n",
    "@app.route('/home', methods=[\"POST\",\"GET\"])\n",
    "def home():\n",
    "    if 'username' in session:\n",
    "        return render_template(\"index.html\", username=session['username'])\n",
    "    else:\n",
    "        return \"Wrong Credentials\""
   ]
  },
  {
   "attachments": {},
   "cell_type": "markdown",
   "metadata": {},
   "source": [
    "### Table for create and read operation"
   ]
  },
  {
   "attachments": {},
   "cell_type": "markdown",
   "metadata": {},
   "source": [
    "![](images/Capture13.png)\n",
    "![](images/Capture14.png)"
   ]
  }
 ],
 "metadata": {
  "kernelspec": {
   "display_name": "base",
   "language": "python",
   "name": "python3"
  },
  "language_info": {
   "name": "python",
   "version": "3.9.12"
  },
  "orig_nbformat": 4,
  "vscode": {
   "interpreter": {
    "hash": "40fb0cd5d44f051881184c5210ed52312dabb6d62ace68d9106c589b91788473"
   }
  }
 },
 "nbformat": 4,
 "nbformat_minor": 2
}
