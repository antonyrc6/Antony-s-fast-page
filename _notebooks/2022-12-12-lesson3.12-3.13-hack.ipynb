{
 "cells": [
  {
   "attachments": {},
   "cell_type": "markdown",
   "metadata": {},
   "source": [
    "# Lesson Hack 3.12 3.13\n",
    "\n",
    "- title: Lesson Hack 3.12 3.13\n",
    "- toc: true\n",
    "- categories: [notebook]\n",
    "- tags: [hack]\n",
    "- comments: true"
   ]
  }
 ],
 "metadata": {
  "language_info": {
   "name": "python"
  },
  "orig_nbformat": 4
 },
 "nbformat": 4,
 "nbformat_minor": 2
}
