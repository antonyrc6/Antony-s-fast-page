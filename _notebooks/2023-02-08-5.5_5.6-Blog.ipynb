{
 "cells": [
  {
   "attachments": {},
   "cell_type": "markdown",
   "metadata": {},
   "source": [
    "# 5.5 5.6 Blog\n",
    "- title: 5.5 5.6 Blog\n",
    "- toc: true\n",
    "- type: blog\n",
    "- week: 22"
   ]
  },
  {
   "attachments": {},
   "cell_type": "markdown",
   "metadata": {},
   "source": [
    "#### GPL License\n",
    "For personal use only, can be use but cannot be distribute.\n",
    "### MIT License\n",
    "MIT License permits reuse within proprietary software, provided that all copies of the software or its substantial portions include a copy of the terms of the MIT License and also a copyright notice. It give user the right to use and develop software but user cannon claim as it's own.\n",
    "### License\n",
    "Example: MIT, BSD, GPL.\n",
    "License is the restrictions of using a code.\n",
    "We need to comply with the terms of licenses. We need to cite sources. \n",
    "### Digital right\n",
    "The copy right of digital device or codes. For example, no other company can use the name after the name \"app store\" is used by apple.\n",
    "\n"
   ]
  },
  {
   "attachments": {},
   "cell_type": "markdown",
   "metadata": {},
   "source": [
    "### Reflection\n",
    "1. I choose the MIT license because it grant people the right to study and use code.\n",
    "2. Software license make the developer to own the digital right and be able to share the code with other people without being plagiarize. It balance the right of user and publisher."
   ]
  }
 ],
 "metadata": {
  "kernelspec": {
   "display_name": "base",
   "language": "python",
   "name": "python3"
  },
  "language_info": {
   "name": "python",
   "version": "3.9.12"
  },
  "orig_nbformat": 4,
  "vscode": {
   "interpreter": {
    "hash": "40fb0cd5d44f051881184c5210ed52312dabb6d62ace68d9106c589b91788473"
   }
  }
 },
 "nbformat": 4,
 "nbformat_minor": 2
}
