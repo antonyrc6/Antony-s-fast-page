{
 "cells": [
  {
   "cell_type": "markdown",
   "metadata": {},
   "source": [
    "# API\n",
    "> API from rapid api\n",
    "\n",
    "- layout: default\n",
    "- categories: API\n",
    "- description: API from rapid api\n",
    "- title: API\n",
    "- permalink: /techtalk/rapidapi\n",
    "\n",
    "{% include nav_data.html %}"
   ]
  },
  {
   "cell_type": "code",
   "execution_count": 38,
   "metadata": {},
   "outputs": [
    {
     "name": "stdout",
     "output_type": "stream",
     "text": [
      "{\"lat\":35.5,\"timezone\":\"America\\/New_York\",\"data\":[{\"timestamp_utc\":\"2022-10-17T18:00:00\",\"pop\":0,\"ozone\":297,\"datetime\":\"2022-10-17:18\",\"ts\":1666029600,\"clouds_low\":6,\"clouds_mid\":0,\"dewpt\":13.4,\"uv\":4.8,\"snow\":0,\"wind_gust_spd\":13.15,\"solar_rad\":667.4472,\"wind_dir\":216,\"ghi\":692.61,\"dhi\":109.62,\"precip\":0,\"weather\":{\"code\":801,\"icon\":\"c02d\",\"description\":\"Few clouds\"},\"temp\":25.5,\"app_temp\":25.4,\"wind_cdir_full\":\"southwest\",\"wind_cdir\":\"SW\",\"rh\":47,\"pod\":\"d\",\"clouds_hi\":0,\"pres\":998,\"snow_depth\":0,\"slp\":1005.5,\"dni\":871.52,\"clouds\":6,\"vis\":40.672,\"timestamp_local\":\"2022-10-17T14:00:00\",\"wind_spd\":6.58},{\"timestamp_utc\":\"2022-10-17T21:00:00\",\"pop\":0,\"ozone\":297.3,\"datetime\":\"2022-10-17:21\",\"ts\":1666040400,\"clouds_low\":66,\"clouds_mid\":5,\"dewpt\":12.7,\"uv\":1,\"snow\":0,\"wind_gust_spd\":10.38,\"solar_rad\":191.87717,\"wind_dir\":210,\"ghi\":257.09,\"dhi\":72.58,\"precip\":0,\"weather\":{\"code\":803,\"icon\":\"c03d\",\"description\":\"Broken clouds\"},\"temp\":25.1,\"app_temp\":24.9,\"wind_cdir_full\":\"south-southwest\",\"wind_cdir\":\"SSW\",\"rh\":46,\"pod\":\"d\",\"clouds_hi\":0,\"pres\":996,\"snow_depth\":0,\"slp\":1003,\"dni\":639.38,\"clouds\":66,\"vis\":42.592,\"timestamp_local\":\"2022-10-17T17:00:00\",\"wind_spd\":5.75},{\"timestamp_utc\":\"2022-10-18T00:00:00\",\"pop\":20,\"ozone\":294.8,\"datetime\":\"2022-10-18:00\",\"ts\":1666051200,\"clouds_low\":57,\"clouds_mid\":0,\"dewpt\":10.9,\"uv\":0,\"snow\":0,\"wind_gust_spd\":10.73,\"solar_rad\":0,\"wind_dir\":210,\"ghi\":0,\"dhi\":0,\"precip\":0.005996704,\"weather\":{\"code\":803,\"icon\":\"c03n\",\"description\":\"Broken clouds\"},\"temp\":21.8,\"app_temp\":21.4,\"wind_cdir_full\":\"south-southwest\",\"wind_cdir\":\"SSW\",\"rh\":50,\"pod\":\"n\",\"clouds_hi\":0,\"pres\":996.5,\"snow_depth\":0,\"slp\":1004.5,\"dni\":0,\"clouds\":57,\"vis\":37.984,\"timestamp_local\":\"2022-10-17T20:00:00\",\"wind_spd\":6.44},{\"timestamp_utc\":\"2022-10-18T03:00:00\",\"pop\":0,\"ozone\":294.5,\"datetime\":\"2022-10-18:03\",\"ts\":1666062000,\"clouds_low\":7,\"clouds_mid\":0,\"dewpt\":9.3,\"uv\":0,\"snow\":0,\"wind_gust_spd\":11.52,\"solar_rad\":0,\"wind_dir\":306,\"ghi\":0,\"dhi\":0,\"precip\":0,\"weather\":{\"code\":801,\"icon\":\"c02n\",\"description\":\"Few clouds\"},\"temp\":16.4,\"app_temp\":16.4,\"wind_cdir_full\":\"northwest\",\"wind_cdir\":\"NW\",\"rh\":63,\"pod\":\"n\",\"clouds_hi\":3,\"pres\":998,\"snow_depth\":0,\"slp\":1005.5,\"dni\":0,\"clouds\":7,\"vis\":28.688,\"timestamp_local\":\"2022-10-17T23:00:00\",\"wind_spd\":4.22},{\"timestamp_utc\":\"2022-10-18T06:00:00\",\"pop\":0,\"ozone\":294,\"datetime\":\"2022-10-18:06\",\"ts\":1666072800,\"clouds_low\":80,\"clouds_mid\":0,\"dewpt\":4.4,\"uv\":0,\"snow\":0,\"wind_gust_spd\":10.23,\"solar_rad\":0,\"wind_dir\":336,\"ghi\":0,\"dhi\":0,\"precip\":0,\"weather\":{\"code\":804,\"icon\":\"c04n\",\"description\":\"Overcast clouds\"},\"temp\":12.7,\"app_temp\":12.7,\"wind_cdir_full\":\"north-northwest\",\"wind_cdir\":\"NNW\",\"rh\":57,\"pod\":\"n\",\"clouds_hi\":0,\"pres\":999,\"snow_depth\":0,\"slp\":1006.5,\"dni\":0,\"clouds\":80,\"vis\":33.184,\"timestamp_local\":\"2022-10-18T02:00:00\",\"wind_spd\":5.12},{\"timestamp_utc\":\"2022-10-18T09:00:00\",\"pop\":0,\"ozone\":299.3,\"datetime\":\"2022-10-18:09\",\"ts\":1666083600,\"clouds_low\":0,\"clouds_mid\":0,\"dewpt\":-1,\"uv\":0,\"snow\":0,\"wind_gust_spd\":11.84,\"solar_rad\":0,\"wind_dir\":330,\"ghi\":0,\"dhi\":0,\"precip\":0,\"weather\":{\"code\":800,\"icon\":\"c01n\",\"description\":\"Clear Sky\"},\"temp\":8.3,\"app_temp\":8.3,\"wind_cdir_full\":\"north-northwest\",\"wind_cdir\":\"NNW\",\"rh\":52,\"pod\":\"n\",\"clouds_hi\":0,\"pres\":1000,\"snow_depth\":0,\"slp\":1007,\"dni\":0,\"clouds\":0,\"vis\":36.8,\"timestamp_local\":\"2022-10-18T05:00:00\",\"wind_spd\":4.49},{\"timestamp_utc\":\"2022-10-18T12:00:00\",\"pop\":0,\"ozone\":301.3,\"datetime\":\"2022-10-18:12\",\"ts\":1666094400,\"clouds_low\":0,\"clouds_mid\":0,\"dewpt\":-5.3,\"uv\":1.5,\"snow\":0,\"wind_gust_spd\":12.09,\"solar_rad\":72.29,\"wind_dir\":326,\"ghi\":72.29,\"dhi\":40.99,\"precip\":0,\"weather\":{\"code\":800,\"icon\":\"c01d\",\"description\":\"Clear Sky\"},\"temp\":7.8,\"app_temp\":7.8,\"wind_cdir_full\":\"northwest\",\"wind_cdir\":\"NW\",\"rh\":39,\"pod\":\"d\",\"clouds_hi\":0,\"pres\":1001.5,\"snow_depth\":0,\"slp\":1009.5,\"dni\":360.32,\"clouds\":0,\"vis\":0.499,\"timestamp_local\":\"2022-10-18T08:00:00\",\"wind_spd\":5.24},{\"timestamp_utc\":\"2022-10-18T15:00:00\",\"pop\":0,\"ozone\":301.8,\"datetime\":\"2022-10-18:15\",\"ts\":1666105200,\"clouds_low\":0,\"clouds_mid\":0,\"dewpt\":-4.6,\"uv\":4,\"snow\":0,\"wind_gust_spd\":7.04,\"solar_rad\":596.21,\"wind_dir\":314,\"ghi\":596.21,\"dhi\":103.26,\"precip\":0,\"weather\":{\"code\":800,\"icon\":\"c01d\",\"description\":\"Clear Sky\"},\"temp\":11,\"app_temp\":11,\"wind_cdir_full\":\"northwest\",\"wind_cdir\":\"NW\",\"rh\":33,\"pod\":\"d\",\"clouds_hi\":0,\"pres\":1002,\"snow_depth\":0,\"slp\":1010,\"dni\":837.54,\"clouds\":0,\"vis\":0.575,\"timestamp_local\":\"2022-10-18T11:00:00\",\"wind_spd\":5.32},{\"timestamp_utc\":\"2022-10-18T18:00:00\",\"pop\":0,\"ozone\":302.5,\"datetime\":\"2022-10-18:18\",\"ts\":1666116000,\"clouds_low\":0,\"clouds_mid\":0,\"dewpt\":-5.6,\"uv\":4.9,\"snow\":0,\"wind_gust_spd\":7.65,\"solar_rad\":687.38,\"wind_dir\":281,\"ghi\":687.38,\"dhi\":109.32,\"precip\":0,\"weather\":{\"code\":800,\"icon\":\"c01d\",\"description\":\"Clear Sky\"},\"temp\":13,\"app_temp\":13,\"wind_cdir_full\":\"west\",\"wind_cdir\":\"W\",\"rh\":27,\"pod\":\"d\",\"clouds_hi\":0,\"pres\":1001,\"snow_depth\":0,\"slp\":1009.5,\"dni\":870.16,\"clouds\":0,\"vis\":0.668,\"timestamp_local\":\"2022-10-18T14:00:00\",\"wind_spd\":5.71},{\"timestamp_utc\":\"2022-10-18T21:00:00\",\"pop\":0,\"ozone\":300.8,\"datetime\":\"2022-10-18:21\",\"ts\":1666126800,\"clouds_low\":3,\"clouds_mid\":0,\"dewpt\":-3.9,\"uv\":1.8,\"snow\":0,\"wind_gust_spd\":7.7,\"solar_rad\":252.2685,\"wind_dir\":293,\"ghi\":252.27,\"dhi\":72.02,\"precip\":0,\"weather\":{\"code\":801,\"icon\":\"c02d\",\"description\":\"Few clouds\"},\"temp\":12.3,\"app_temp\":12.3,\"wind_cdir_full\":\"west-northwest\",\"wind_cdir\":\"WNW\",\"rh\":32,\"pod\":\"d\",\"clouds_hi\":0,\"pres\":1002,\"snow_depth\":0,\"slp\":1009,\"dni\":635.16,\"clouds\":3,\"vis\":0.594,\"timestamp_local\":\"2022-10-18T17:00:00\",\"wind_spd\":5.59},{\"timestamp_utc\":\"2022-10-19T00:00:00\",\"pop\":0,\"ozone\":302.3,\"datetime\":\"2022-10-19:00\",\"ts\":1666137600,\"clouds_low\":0,\"clouds_mid\":0,\"dewpt\":-3.1,\"uv\":0,\"snow\":0,\"wind_gust_spd\":5.68,\"solar_rad\":0,\"wind_dir\":294,\"ghi\":0,\"dhi\":0,\"precip\":0,\"weather\":{\"code\":800,\"icon\":\"c01n\",\"description\":\"Clear Sky\"},\"temp\":9.1,\"app_temp\":9.1,\"wind_cdir_full\":\"west-northwest\",\"wind_cdir\":\"WNW\",\"rh\":42,\"pod\":\"n\",\"clouds_hi\":0,\"pres\":1004.5,\"snow_depth\":0,\"slp\":1011,\"dni\":0,\"clouds\":0,\"vis\":0.463,\"timestamp_local\":\"2022-10-18T20:00:00\",\"wind_spd\":2.8},{\"timestamp_utc\":\"2022-10-19T03:00:00\",\"pop\":0,\"ozone\":302,\"datetime\":\"2022-10-19:03\",\"ts\":1666148400,\"clouds_low\":0,\"clouds_mid\":0,\"dewpt\":-3.7,\"uv\":0,\"snow\":0,\"wind_gust_spd\":6.75,\"solar_rad\":0,\"wind_dir\":298,\"ghi\":0,\"dhi\":0,\"precip\":0,\"weather\":{\"code\":800,\"icon\":\"c01n\",\"description\":\"Clear Sky\"},\"temp\":7.1,\"app_temp\":4.5,\"wind_cdir_full\":\"west-northwest\",\"wind_cdir\":\"WNW\",\"rh\":46,\"pod\":\"n\",\"clouds_hi\":0,\"pres\":1006.5,\"snow_depth\":0,\"slp\":1013,\"dni\":0,\"clouds\":0,\"vis\":41.888,\"timestamp_local\":\"2022-10-18T23:00:00\",\"wind_spd\":3.75},{\"timestamp_utc\":\"2022-10-19T06:00:00\",\"pop\":0,\"ozone\":300.8,\"datetime\":\"2022-10-19:06\",\"ts\":1666159200,\"clouds_low\":0,\"clouds_mid\":0,\"dewpt\":-3.6,\"uv\":0,\"snow\":0,\"wind_gust_spd\":5.75,\"solar_rad\":0,\"wind_dir\":276,\"ghi\":0,\"dhi\":0,\"precip\":0,\"weather\":{\"code\":800,\"icon\":\"c01n\",\"description\":\"Clear Sky\"},\"temp\":5.2,\"app_temp\":3,\"wind_cdir_full\":\"west\",\"wind_cdir\":\"W\",\"rh\":53,\"pod\":\"n\",\"clouds_hi\":0,\"pres\":1007,\"snow_depth\":0,\"slp\":1013.5,\"dni\":0,\"clouds\":0,\"vis\":34.592,\"timestamp_local\":\"2022-10-19T02:00:00\",\"wind_spd\":2.61},{\"timestamp_utc\":\"2022-10-19T09:00:00\",\"pop\":0,\"ozone\":304.8,\"datetime\":\"2022-10-19:09\",\"ts\":1666170000,\"clouds_low\":0,\"clouds_mid\":0,\"dewpt\":-3,\"uv\":0,\"snow\":0,\"wind_gust_spd\":6.42,\"solar_rad\":0,\"wind_dir\":251,\"ghi\":0,\"dhi\":0,\"precip\":0,\"weather\":{\"code\":800,\"icon\":\"c01n\",\"description\":\"Clear Sky\"},\"temp\":3.6,\"app_temp\":0.9,\"wind_cdir_full\":\"west-southwest\",\"wind_cdir\":\"WSW\",\"rh\":62,\"pod\":\"n\",\"clouds_hi\":0,\"pres\":1007.5,\"snow_depth\":0,\"slp\":1014.5,\"dni\":0,\"clouds\":0,\"vis\":28.096,\"timestamp_local\":\"2022-10-19T05:00:00\",\"wind_spd\":2.98},{\"timestamp_utc\":\"2022-10-19T12:00:00\",\"pop\":0,\"ozone\":308.8,\"datetime\":\"2022-10-19:12\",\"ts\":1666180800,\"clouds_low\":0,\"clouds_mid\":0,\"dewpt\":-3.9,\"uv\":1.5,\"snow\":0,\"wind_gust_spd\":6.68,\"solar_rad\":69.58,\"wind_dir\":262,\"ghi\":69.58,\"dhi\":40.28,\"precip\":0,\"weather\":{\"code\":800,\"icon\":\"c01d\",\"description\":\"Clear Sky\"},\"temp\":3.1,\"app_temp\":0.3,\"wind_cdir_full\":\"west\",\"wind_cdir\":\"W\",\"rh\":60,\"pod\":\"d\",\"clouds_hi\":0,\"pres\":1010,\"snow_depth\":0,\"slp\":1016,\"dni\":352.99,\"clouds\":0,\"vis\":29.296,\"timestamp_local\":\"2022-10-19T08:00:00\",\"wind_spd\":2.88},{\"timestamp_utc\":\"2022-10-19T15:00:00\",\"pop\":0,\"ozone\":305.8,\"datetime\":\"2022-10-19:15\",\"ts\":1666191600,\"clouds_low\":0,\"clouds_mid\":0,\"dewpt\":0.1,\"uv\":3.9,\"snow\":0,\"wind_gust_spd\":8.4,\"solar_rad\":591.7,\"wind_dir\":256,\"ghi\":591.7,\"dhi\":102.98,\"precip\":0,\"weather\":{\"code\":800,\"icon\":\"c01d\",\"description\":\"Clear Sky\"},\"temp\":10,\"app_temp\":10,\"wind_cdir_full\":\"west-southwest\",\"wind_cdir\":\"WSW\",\"rh\":50,\"pod\":\"d\",\"clouds_hi\":0,\"pres\":1009.5,\"snow_depth\":0,\"slp\":1017,\"dni\":836.13,\"clouds\":0,\"vis\":24.096,\"timestamp_local\":\"2022-10-19T11:00:00\",\"wind_spd\":5.31},{\"timestamp_utc\":\"2022-10-19T18:00:00\",\"pop\":0,\"ozone\":304.3,\"datetime\":\"2022-10-19:18\",\"ts\":1666202400,\"clouds_low\":0,\"clouds_mid\":0,\"dewpt\":1.3,\"uv\":4.9,\"snow\":0,\"wind_gust_spd\":5.9,\"solar_rad\":682.16,\"wind_dir\":253,\"ghi\":682.16,\"dhi\":109.03,\"precip\":0,\"weather\":{\"code\":800,\"icon\":\"c01d\",\"description\":\"Clear Sky\"},\"temp\":13,\"app_temp\":13,\"wind_cdir_full\":\"west-southwest\",\"wind_cdir\":\"WSW\",\"rh\":45,\"pod\":\"d\",\"clouds_hi\":0,\"pres\":1008,\"snow_depth\":0,\"slp\":1015.5,\"dni\":868.8,\"clouds\":0,\"vis\":24.096,\"timestamp_local\":\"2022-10-19T14:00:00\",\"wind_spd\":5.01},{\"timestamp_utc\":\"2022-10-19T21:00:00\",\"pop\":0,\"ozone\":304,\"datetime\":\"2022-10-19:21\",\"ts\":1666213200,\"clouds_low\":0,\"clouds_mid\":0,\"dewpt\":1.6,\"uv\":1.8,\"snow\":0,\"wind_gust_spd\":5.6,\"solar_rad\":247.52,\"wind_dir\":260,\"ghi\":247.52,\"dhi\":71.45,\"precip\":0,\"weather\":{\"code\":800,\"icon\":\"c01d\",\"description\":\"Clear Sky\"},\"temp\":13.3,\"app_temp\":13.3,\"wind_cdir_full\":\"west\",\"wind_cdir\":\"W\",\"rh\":45,\"pod\":\"d\",\"clouds_hi\":0,\"pres\":1007.5,\"snow_depth\":0,\"slp\":1015.5,\"dni\":630.91,\"clouds\":0,\"vis\":24.096,\"timestamp_local\":\"2022-10-19T17:00:00\",\"wind_spd\":4.43},{\"timestamp_utc\":\"2022-10-20T00:00:00\",\"pop\":0,\"ozone\":305.5,\"datetime\":\"2022-10-20:00\",\"ts\":1666224000,\"clouds_low\":0,\"clouds_mid\":0,\"dewpt\":1.6,\"uv\":0,\"snow\":0,\"wind_gust_spd\":2.2,\"solar_rad\":0,\"wind_dir\":271,\"ghi\":0,\"dhi\":0,\"precip\":0,\"weather\":{\"code\":800,\"icon\":\"c01n\",\"description\":\"Clear Sky\"},\"temp\":10.2,\"app_temp\":10.2,\"wind_cdir_full\":\"west\",\"wind_cdir\":\"W\",\"rh\":55,\"pod\":\"n\",\"clouds_hi\":0,\"pres\":1009.5,\"snow_depth\":0,\"slp\":1017,\"dni\":0,\"clouds\":0,\"vis\":24.096,\"timestamp_local\":\"2022-10-19T20:00:00\",\"wind_spd\":1.87},{\"timestamp_utc\":\"2022-10-20T03:00:00\",\"pop\":0,\"ozone\":307.8,\"datetime\":\"2022-10-20:03\",\"ts\":1666234800,\"clouds_low\":0,\"clouds_mid\":0,\"dewpt\":-3.6,\"uv\":0,\"snow\":0,\"wind_gust_spd\":3.21,\"solar_rad\":0,\"wind_dir\":266,\"ghi\":0,\"dhi\":0,\"precip\":0,\"weather\":{\"code\":800,\"icon\":\"c01n\",\"description\":\"Clear Sky\"},\"temp\":8.2,\"app_temp\":8.2,\"wind_cdir_full\":\"west\",\"wind_cdir\":\"W\",\"rh\":43,\"pod\":\"n\",\"clouds_hi\":0,\"pres\":1011,\"snow_depth\":0,\"slp\":1019,\"dni\":0,\"clouds\":0,\"vis\":24.128,\"timestamp_local\":\"2022-10-19T23:00:00\",\"wind_spd\":2.81},{\"timestamp_utc\":\"2022-10-20T06:00:00\",\"pop\":0,\"ozone\":305,\"datetime\":\"2022-10-20:06\",\"ts\":1666245600,\"clouds_low\":0,\"clouds_mid\":0,\"dewpt\":-3.8,\"uv\":0,\"snow\":0,\"wind_gust_spd\":2.94,\"solar_rad\":0,\"wind_dir\":303,\"ghi\":0,\"dhi\":0,\"precip\":0,\"weather\":{\"code\":800,\"icon\":\"c01n\",\"description\":\"Clear Sky\"},\"temp\":6.1,\"app_temp\":4.2,\"wind_cdir_full\":\"west-northwest\",\"wind_cdir\":\"WNW\",\"rh\":49,\"pod\":\"n\",\"clouds_hi\":0,\"pres\":1011,\"snow_depth\":0,\"slp\":1019.5,\"dni\":0,\"clouds\":0,\"vis\":24.128,\"timestamp_local\":\"2022-10-20T02:00:00\",\"wind_spd\":2.57},{\"timestamp_utc\":\"2022-10-20T09:00:00\",\"pop\":0,\"ozone\":304.8,\"datetime\":\"2022-10-20:09\",\"ts\":1666256400,\"clouds_low\":0,\"clouds_mid\":0,\"dewpt\":-4.4,\"uv\":0,\"snow\":0,\"wind_gust_spd\":1.9,\"solar_rad\":0,\"wind_dir\":301,\"ghi\":0,\"dhi\":0,\"precip\":0,\"weather\":{\"code\":801,\"icon\":\"c02n\",\"description\":\"Few clouds\"},\"temp\":4.9,\"app_temp\":3.3,\"wind_cdir_full\":\"west-northwest\",\"wind_cdir\":\"WNW\",\"rh\":51,\"pod\":\"n\",\"clouds_hi\":5,\"pres\":1011,\"snow_depth\":0,\"slp\":1019,\"dni\":0,\"clouds\":1,\"vis\":24.128,\"timestamp_local\":\"2022-10-20T05:00:00\",\"wind_spd\":1.92},{\"timestamp_utc\":\"2022-10-20T12:00:00\",\"pop\":0,\"ozone\":304,\"datetime\":\"2022-10-20:12\",\"ts\":1666267200,\"clouds_low\":0,\"clouds_mid\":24,\"dewpt\":-3.6,\"uv\":1.3,\"snow\":0,\"wind_gust_spd\":0.21,\"solar_rad\":66.41707,\"wind_dir\":66,\"ghi\":66.88,\"dhi\":39.55,\"precip\":0,\"weather\":{\"code\":802,\"icon\":\"c02d\",\"description\":\"Scattered clouds\"},\"temp\":5.2,\"app_temp\":7.4,\"wind_cdir_full\":\"east-northeast\",\"wind_cdir\":\"ENE\",\"rh\":53,\"pod\":\"d\",\"clouds_hi\":81,\"pres\":1011,\"snow_depth\":0,\"slp\":1019,\"dni\":345.45,\"clouds\":24,\"vis\":24.128,\"timestamp_local\":\"2022-10-20T08:00:00\",\"wind_spd\":0.21},{\"timestamp_utc\":\"2022-10-20T15:00:00\",\"pop\":0,\"ozone\":304,\"datetime\":\"2022-10-20:15\",\"ts\":1666278000,\"clouds_low\":0,\"clouds_mid\":5,\"dewpt\":-3.1,\"uv\":3.7,\"snow\":0,\"wind_gust_spd\":3.33,\"solar_rad\":587.155,\"wind_dir\":182,\"ghi\":587.17,\"dhi\":102.69,\"precip\":0,\"weather\":{\"code\":801,\"icon\":\"c02d\",\"description\":\"Few clouds\"},\"temp\":13.2,\"app_temp\":13.2,\"wind_cdir_full\":\"south\",\"wind_cdir\":\"S\",\"rh\":32,\"pod\":\"d\",\"clouds_hi\":0,\"pres\":1011,\"snow_depth\":0,\"slp\":1019.5,\"dni\":834.71,\"clouds\":5,\"vis\":24.128,\"timestamp_local\":\"2022-10-20T11:00:00\",\"wind_spd\":2.37},{\"timestamp_utc\":\"2022-10-20T18:00:00\",\"pop\":0,\"ozone\":304.8,\"datetime\":\"2022-10-20:18\",\"ts\":1666288800,\"clouds_low\":0,\"clouds_mid\":2,\"dewpt\":-2.1,\"uv\":4.7,\"snow\":0,\"wind_gust_spd\":6.52,\"solar_rad\":676.9578,\"wind_dir\":215,\"ghi\":676.96,\"dhi\":108.73,\"precip\":0,\"weather\":{\"code\":801,\"icon\":\"c02d\",\"description\":\"Few clouds\"},\"temp\":17.7,\"app_temp\":17.7,\"wind_cdir_full\":\"southwest\",\"wind_cdir\":\"SW\",\"rh\":26,\"pod\":\"d\",\"clouds_hi\":5,\"pres\":1008,\"snow_depth\":0,\"slp\":1016,\"dni\":867.42,\"clouds\":2,\"vis\":24.128,\"timestamp_local\":\"2022-10-20T14:00:00\",\"wind_spd\":4.43},{\"timestamp_utc\":\"2022-10-20T21:00:00\",\"pop\":0,\"ozone\":307.5,\"datetime\":\"2022-10-20:21\",\"ts\":1666299600,\"clouds_low\":0,\"clouds_mid\":0,\"dewpt\":-1.1,\"uv\":1.8,\"snow\":0,\"wind_gust_spd\":6.71,\"solar_rad\":242.81993,\"wind_dir\":220,\"ghi\":242.82,\"dhi\":70.88,\"precip\":0,\"weather\":{\"code\":801,\"icon\":\"c02d\",\"description\":\"Few clouds\"},\"temp\":17.6,\"app_temp\":17.6,\"wind_cdir_full\":\"southwest\",\"wind_cdir\":\"SW\",\"rh\":28,\"pod\":\"d\",\"clouds_hi\":5,\"pres\":1006.5,\"snow_depth\":0,\"slp\":1014,\"dni\":626.63,\"clouds\":1,\"vis\":24.128,\"timestamp_local\":\"2022-10-20T17:00:00\",\"wind_spd\":4.52},{\"timestamp_utc\":\"2022-10-21T00:00:00\",\"pop\":0,\"ozone\":311.8,\"datetime\":\"2022-10-21:00\",\"ts\":1666310400,\"clouds_low\":0,\"clouds_mid\":89,\"dewpt\":-2.8,\"uv\":0,\"snow\":0,\"wind_gust_spd\":4.4,\"solar_rad\":0,\"wind_dir\":228,\"ghi\":0,\"dhi\":0,\"precip\":0,\"weather\":{\"code\":804,\"icon\":\"c04n\",\"description\":\"Overcast clouds\"},\"temp\":11,\"app_temp\":11,\"wind_cdir_full\":\"southwest\",\"wind_cdir\":\"SW\",\"rh\":38,\"pod\":\"n\",\"clouds_hi\":0,\"pres\":1007.5,\"snow_depth\":0,\"slp\":1015.5,\"dni\":0,\"clouds\":89,\"vis\":24.128,\"timestamp_local\":\"2022-10-20T20:00:00\",\"wind_spd\":3.01},{\"timestamp_utc\":\"2022-10-21T03:00:00\",\"pop\":0,\"ozone\":307,\"datetime\":\"2022-10-21:03\",\"ts\":1666321200,\"clouds_low\":0,\"clouds_mid\":5,\"dewpt\":-3.6,\"uv\":0,\"snow\":0,\"wind_gust_spd\":3.71,\"solar_rad\":0,\"wind_dir\":218,\"ghi\":0,\"dhi\":0,\"precip\":0,\"weather\":{\"code\":801,\"icon\":\"c02n\",\"description\":\"Few clouds\"},\"temp\":8.9,\"app_temp\":8.9,\"wind_cdir_full\":\"southwest\",\"wind_cdir\":\"SW\",\"rh\":41,\"pod\":\"n\",\"clouds_hi\":5,\"pres\":1008.5,\"snow_depth\":0,\"slp\":1016.5,\"dni\":0,\"clouds\":5,\"vis\":24.128,\"timestamp_local\":\"2022-10-20T23:00:00\",\"wind_spd\":2.81},{\"timestamp_utc\":\"2022-10-21T06:00:00\",\"pop\":0,\"ozone\":303.8,\"datetime\":\"2022-10-21:06\",\"ts\":1666332000,\"clouds_low\":0,\"clouds_mid\":0,\"dewpt\":-3.2,\"uv\":0,\"snow\":0,\"wind_gust_spd\":2.31,\"solar_rad\":0,\"wind_dir\":233,\"ghi\":0,\"dhi\":0,\"precip\":0,\"weather\":{\"code\":800,\"icon\":\"c01n\",\"description\":\"Clear Sky\"},\"temp\":7.3,\"app_temp\":7.3,\"wind_cdir_full\":\"southwest\",\"wind_cdir\":\"SW\",\"rh\":47,\"pod\":\"n\",\"clouds_hi\":0,\"pres\":1008.5,\"snow_depth\":0,\"slp\":1016.5,\"dni\":0,\"clouds\":0,\"vis\":24.128,\"timestamp_local\":\"2022-10-21T02:00:00\",\"wind_spd\":2.29},{\"timestamp_utc\":\"2022-10-21T09:00:00\",\"pop\":0,\"ozone\":305.3,\"datetime\":\"2022-10-21:09\",\"ts\":1666342800,\"clouds_low\":0,\"clouds_mid\":0,\"dewpt\":-4.1,\"uv\":0,\"snow\":0,\"wind_gust_spd\":2.11,\"solar_rad\":0,\"wind_dir\":279,\"ghi\":0,\"dhi\":0,\"precip\":0,\"weather\":{\"code\":800,\"icon\":\"c01n\",\"description\":\"Clear Sky\"},\"temp\":6.4,\"app_temp\":4.9,\"wind_cdir_full\":\"west\",\"wind_cdir\":\"W\",\"rh\":47,\"pod\":\"n\",\"clouds_hi\":0,\"pres\":1008,\"snow_depth\":0,\"slp\":1016.5,\"dni\":0,\"clouds\":0,\"vis\":24.128,\"timestamp_local\":\"2022-10-21T05:00:00\",\"wind_spd\":2.05},{\"timestamp_utc\":\"2022-10-21T12:00:00\",\"pop\":0,\"ozone\":308.5,\"datetime\":\"2022-10-21:12\",\"ts\":1666353600,\"clouds_low\":0,\"clouds_mid\":0,\"dewpt\":-4.8,\"uv\":1.5,\"snow\":0,\"wind_gust_spd\":1.7,\"solar_rad\":64.19,\"wind_dir\":314,\"ghi\":64.19,\"dhi\":38.81,\"precip\":0,\"weather\":{\"code\":800,\"icon\":\"c01d\",\"description\":\"Clear Sky\"},\"temp\":6.6,\"app_temp\":5.5,\"wind_cdir_full\":\"northwest\",\"wind_cdir\":\"NW\",\"rh\":44,\"pod\":\"d\",\"clouds_hi\":0,\"pres\":1009.5,\"snow_depth\":0,\"slp\":1017.5,\"dni\":337.71,\"clouds\":0,\"vis\":24.128,\"timestamp_local\":\"2022-10-21T08:00:00\",\"wind_spd\":1.74},{\"timestamp_utc\":\"2022-10-21T15:00:00\",\"pop\":0,\"ozone\":304.5,\"datetime\":\"2022-10-21:15\",\"ts\":1666364400,\"clouds_low\":0,\"clouds_mid\":0,\"dewpt\":-2.9,\"uv\":3.8,\"snow\":0,\"wind_gust_spd\":0.71,\"solar_rad\":582.63,\"wind_dir\":283,\"ghi\":582.63,\"dhi\":102.4,\"precip\":0,\"weather\":{\"code\":800,\"icon\":\"c01d\",\"description\":\"Clear Sky\"},\"temp\":15.5,\"app_temp\":15.5,\"wind_cdir_full\":\"west-northwest\",\"wind_cdir\":\"WNW\",\"rh\":28,\"pod\":\"d\",\"clouds_hi\":0,\"pres\":1011,\"snow_depth\":0,\"slp\":1019,\"dni\":833.25,\"clouds\":0,\"vis\":24.128,\"timestamp_local\":\"2022-10-21T11:00:00\",\"wind_spd\":0.65},{\"timestamp_utc\":\"2022-10-21T18:00:00\",\"pop\":0,\"ozone\":301.5,\"datetime\":\"2022-10-21:18\",\"ts\":1666375200,\"clouds_low\":0,\"clouds_mid\":0,\"dewpt\":-2.9,\"uv\":4.8,\"snow\":0,\"wind_gust_spd\":1.71,\"solar_rad\":671.78,\"wind_dir\":218,\"ghi\":671.78,\"dhi\":108.44,\"precip\":0,\"weather\":{\"code\":800,\"icon\":\"c01d\",\"description\":\"Clear Sky\"},\"temp\":19.4,\"app_temp\":17.9,\"wind_cdir_full\":\"southwest\",\"wind_cdir\":\"SW\",\"rh\":22,\"pod\":\"d\",\"clouds_hi\":0,\"pres\":1009.5,\"snow_depth\":0,\"slp\":1017.5,\"dni\":866.03,\"clouds\":0,\"vis\":24.128,\"timestamp_local\":\"2022-10-21T14:00:00\",\"wind_spd\":1.7},{\"timestamp_utc\":\"2022-10-21T21:00:00\",\"pop\":0,\"ozone\":299.5,\"datetime\":\"2022-10-21:21\",\"ts\":1666386000,\"clouds_low\":0,\"clouds_mid\":0,\"dewpt\":-1.9,\"uv\":1.5,\"snow\":0,\"wind_gust_spd\":1.13,\"solar_rad\":236.27611,\"wind_dir\":227,\"ghi\":238.2,\"dhi\":70.31,\"precip\":0,\"weather\":{\"code\":802,\"icon\":\"c02d\",\"description\":\"Scattered clouds\"},\"temp\":19.1,\"app_temp\":17.6,\"wind_cdir_full\":\"southwest\",\"wind_cdir\":\"SW\",\"rh\":24,\"pod\":\"d\",\"clouds_hi\":100,\"pres\":1009,\"snow_depth\":0,\"slp\":1017,\"dni\":622.32,\"clouds\":25,\"vis\":24.128,\"timestamp_local\":\"2022-10-21T17:00:00\",\"wind_spd\":1.03},{\"timestamp_utc\":\"2022-10-22T00:00:00\",\"pop\":0,\"ozone\":296.8,\"datetime\":\"2022-10-22:00\",\"ts\":1666396800,\"clouds_low\":0,\"clouds_mid\":0,\"dewpt\":-3,\"uv\":0,\"snow\":0,\"wind_gust_spd\":1.21,\"solar_rad\":0,\"wind_dir\":143,\"ghi\":0,\"dhi\":0,\"precip\":0,\"weather\":{\"code\":801,\"icon\":\"c02n\",\"description\":\"Few clouds\"},\"temp\":13.3,\"app_temp\":13.3,\"wind_cdir_full\":\"southeast\",\"wind_cdir\":\"SE\",\"rh\":32,\"pod\":\"n\",\"clouds_hi\":18,\"pres\":1010.5,\"snow_depth\":0,\"slp\":1018.5,\"dni\":0,\"clouds\":4,\"vis\":24.128,\"timestamp_local\":\"2022-10-21T20:00:00\",\"wind_spd\":1.15},{\"timestamp_utc\":\"2022-10-22T03:00:00\",\"pop\":0,\"ozone\":294.5,\"datetime\":\"2022-10-22:03\",\"ts\":1666407600,\"clouds_low\":0,\"clouds_mid\":0,\"dewpt\":-2.6,\"uv\":0,\"snow\":0,\"wind_gust_spd\":1.7,\"solar_rad\":0,\"wind_dir\":156,\"ghi\":0,\"dhi\":0,\"precip\":0,\"weather\":{\"code\":801,\"icon\":\"c02n\",\"description\":\"Few clouds\"},\"temp\":11.2,\"app_temp\":11.2,\"wind_cdir_full\":\"south-southeast\",\"wind_cdir\":\"SSE\",\"rh\":38,\"pod\":\"n\",\"clouds_hi\":68,\"pres\":1012,\"snow_depth\":0,\"slp\":1020,\"dni\":0,\"clouds\":17,\"vis\":24.128,\"timestamp_local\":\"2022-10-21T23:00:00\",\"wind_spd\":1.75},{\"timestamp_utc\":\"2022-10-22T06:00:00\",\"pop\":0,\"ozone\":291.5,\"datetime\":\"2022-10-22:06\",\"ts\":1666418400,\"clouds_low\":0,\"clouds_mid\":0,\"dewpt\":-2.7,\"uv\":0,\"snow\":0,\"wind_gust_spd\":1,\"solar_rad\":0,\"wind_dir\":148,\"ghi\":0,\"dhi\":0,\"precip\":0,\"weather\":{\"code\":801,\"icon\":\"c02n\",\"description\":\"Few clouds\"},\"temp\":9.6,\"app_temp\":9.6,\"wind_cdir_full\":\"south-southeast\",\"wind_cdir\":\"SSE\",\"rh\":42,\"pod\":\"n\",\"clouds_hi\":69,\"pres\":1012.5,\"snow_depth\":0,\"slp\":1020.5,\"dni\":0,\"clouds\":17,\"vis\":24.128,\"timestamp_local\":\"2022-10-22T02:00:00\",\"wind_spd\":1},{\"timestamp_utc\":\"2022-10-22T09:00:00\",\"pop\":0,\"ozone\":287.8,\"datetime\":\"2022-10-22:09\",\"ts\":1666429200,\"clouds_low\":0,\"clouds_mid\":0,\"dewpt\":-2.7,\"uv\":0,\"snow\":0,\"wind_gust_spd\":1.1,\"solar_rad\":0,\"wind_dir\":31,\"ghi\":0,\"dhi\":0,\"precip\":0,\"weather\":{\"code\":801,\"icon\":\"c02n\",\"description\":\"Few clouds\"},\"temp\":8.8,\"app_temp\":8.8,\"wind_cdir_full\":\"north-northeast\",\"wind_cdir\":\"NNE\",\"rh\":44,\"pod\":\"n\",\"clouds_hi\":6,\"pres\":1013,\"snow_depth\":0,\"slp\":1021.5,\"dni\":0,\"clouds\":1,\"vis\":24.128,\"timestamp_local\":\"2022-10-22T05:00:00\",\"wind_spd\":1.05},{\"timestamp_utc\":\"2022-10-22T12:00:00\",\"pop\":0,\"ozone\":287.8,\"datetime\":\"2022-10-22:12\",\"ts\":1666440000,\"clouds_low\":0,\"clouds_mid\":4,\"dewpt\":-1.9,\"uv\":1.5,\"snow\":0,\"wind_gust_spd\":2.11,\"solar_rad\":61.508648,\"wind_dir\":22,\"ghi\":61.51,\"dhi\":38.05,\"precip\":0,\"weather\":{\"code\":801,\"icon\":\"c02d\",\"description\":\"Few clouds\"},\"temp\":8.8,\"app_temp\":8.8,\"wind_cdir_full\":\"north-northeast\",\"wind_cdir\":\"NNE\",\"rh\":47,\"pod\":\"d\",\"clouds_hi\":5,\"pres\":1014,\"snow_depth\":0,\"slp\":1022.5,\"dni\":329.76,\"clouds\":4,\"vis\":24.128,\"timestamp_local\":\"2022-10-22T08:00:00\",\"wind_spd\":2.16},{\"timestamp_utc\":\"2022-10-22T15:00:00\",\"pop\":0,\"ozone\":285,\"datetime\":\"2022-10-22:15\",\"ts\":1666450800,\"clouds_low\":0,\"clouds_mid\":0,\"dewpt\":0.9,\"uv\":3.8,\"snow\":0,\"wind_gust_spd\":3.3,\"solar_rad\":578.07983,\"wind_dir\":58,\"ghi\":578.08,\"dhi\":102.11,\"precip\":0,\"weather\":{\"code\":801,\"icon\":\"c02d\",\"description\":\"Few clouds\"},\"temp\":17.8,\"app_temp\":17.8,\"wind_cdir_full\":\"east-northeast\",\"wind_cdir\":\"ENE\",\"rh\":32,\"pod\":\"d\",\"clouds_hi\":5,\"pres\":1015,\"snow_depth\":0,\"slp\":1023,\"dni\":831.77,\"clouds\":1,\"vis\":24.128,\"timestamp_local\":\"2022-10-22T11:00:00\",\"wind_spd\":2.76}],\"city_name\":\"Four Oaks\",\"state_code\":\"NC\",\"country_code\":\"US\",\"lon\":-78.5}\n",
      "\n"
     ]
    }
   ],
   "source": [
    "import requests\n",
    "\n",
    "url = \"https://weatherbit-v1-mashape.p.rapidapi.com/forecast/3hourly\"\n",
    "\n",
    "querystring = {\"lat\":\"35.5\",\"lon\":\"-78.5\"}\n",
    "\n",
    "headers = {\n",
    "\t\"X-RapidAPI-Key\": \"abbfe3759emsh2b005c6f0664e48p143368jsna2d7e6d7bfa7\",\n",
    "\t\"X-RapidAPI-Host\": \"weatherbit-v1-mashape.p.rapidapi.com\"\n",
    "}\n",
    "\n",
    "response = requests.request(\"GET\", url, headers=headers, params=querystring)\n",
    "\n",
    "print(response.text)\n",
    "\n",
    "\n"
   ]
  },
  {
   "cell_type": "code",
   "execution_count": 39,
   "metadata": {},
   "outputs": [
    {
     "name": "stdout",
     "output_type": "stream",
     "text": [
      "done\n"
     ]
    }
   ],
   "source": [
    "from requests.api import head\n",
    "\n",
    "url = 'http://api.coincap.io/v2/assets'\n",
    "\n",
    "headers = {\n",
    "\t'Accept': 'applocation/json',\n",
    "\t'Content-Type': 'application/json'\n",
    "}\n",
    "response = requests.request(\"GET\", url,headers=headers,data=[])\n",
    "myjson = response.json()\n",
    "ourdata =[]\n",
    "csvheader = ['SYMBOL','NAME','PRICE(USD)']\n",
    "\n",
    "for x in myjson['data']:\n",
    "\tlisting = [x['symbol'],x['name'],x['priceUsd']]\n",
    "\tourdata.append(listing)\n",
    "\n",
    "with open('crypto.csv','w',encoding='UTF8', newline='') as f:\n",
    "\twriter = csv.writer(f)\n",
    "\t\n",
    "\twriter.writerow(csvheader)\n",
    "\twriter.writerows(ourdata)\n",
    "\n",
    "\n",
    "print('done')"
   ]
  },
  {
   "cell_type": "markdown",
   "metadata": {},
   "source": [
    "### Printing Result\n",
    "> BTC,Bitcoin,19551.7573349886725385\n",
    "ETH,Ethereum,1327.4250215458156583\n",
    "USDT,Tether,1.0007231159173512\n",
    "BNB,BNB,275.2378103405078029\n",
    "USDC,USD Coin,1.0004014724499830\n",
    "BUSD,Binance USD,1.0010039270109153\n",
    "XRP,XRP,0.4738101150422375\n",
    "ADA,Cardano,0.3714413273866222\n",
    "SOL,Solana,30.8296108226191153\n",
    "LUNA,Terra,2.6286894240676789\n",
    "DOGE,Dogecoin,0.0596404400247591\n",
    "MATIC,Polygon,0.8361919692770591\n",
    "DOT,Polkadot,6.2257071658147368\n",
    "DAI,Multi Collateral DAI,1.0006931981104363\n",
    "TRX,TRON,0.0628542143560065\n",
    "SHIB,Shiba Inu,0.0000103240441570\n",
    "UNI,Uniswap,6.4005054806676390\n",
    "WBTC,Wrapped Bitcoin,19556.9959822061050022\n",
    "AVAX,Avalanche,16.0685426804361827\n",
    "STETH,Lido Staked ETH,1295.9467656263442015\n",
    "LEO,UNUS SED LEO,4.4934788161355942\n",
    "LTC,Litecoin,51.7899841877158520\n",
    "LINK,Chainlink,7.2402999572646960\n",
    "ETC,Ethereum Classic,23.7263318896015916\n",
    "FTT,FTX Token,24.0904869708050457\n",
    "ATOM,Cosmos,12.3389480594481796\n",
    "XLM,Stellar,0.1140403600790443\n",
    "CRO,Crypto.com Coin,0.1100610507066726\n",
    "XMR,Monero,144.4595680742639079\n",
    "NEAR,NEAR Protocol,3.0317821357336188\n",
    "ALGO,Algorand,0.3297882383766017\n",
    "QNT,Quant,191.5792263451579018\n",
    "BCH,Bitcoin Cash,110.1531719025812279\n",
    "BTCB,Bitcoin BEP2,19538.2153141506836598\n",
    "VET,VeChain,0.0231503881215050\n",
    "FLOW,Flow,1.5314519915407031\n",
    "FIL,Filecoin,5.2460645355906141\n",
    "FRAX,Frax,1.0016813087078886\n",
    "ICP,Internet Computer,5.0676655340722020\n",
    "EGLD,Elrond,56.3533574256806574\n",
    "XTZ,Tezos,1.3837369233719541\n",
    "HT,Huobi Token,7.9252897815741030\n",
    "MANA,Decentraland,0.6447337858273898\n",
    "SAND,The Sandbox,0.7844414580172317\n",
    "AAVE,Aave,79.2623914308692159\n",
    "CHZ,Chiliz,0.1849152959131848\n",
    "MKR,Maker,1110.4230585081890419\n",
    "EOS,EOS,1.0534582247747812\n",
    "THETA,THETA,1.0073344077338211\n",
    "OKB,OKB,16.7357871105948642\n",
    "KCS,KuCoin Token,9.8745082237806356\n",
    "BSV,Bitcoin SV,48.8058995848742793\n",
    "USDP,Pax Dollar,0.9863126517384367\n",
    "AXS,Axie Infinity,11.1501312547382343\n",
    "HBAR,Hedera Hashgraph,0.0619954334197640\n",
    "TUSD,TrueUSD,1.0009177275940238\n",
    "ZEC,Zcash,53.2831658048112177\n",
    "XEC,eCash,0.0000379777516647\n",
    "MIOTA,IOTA,0.2553373684816746\n",
    "CAKE,PancakeSwap,4.6261673533285196\n",
    "GRT,The Graph,0.0866282006835812\n",
    "HNT,Helium,4.5442970290155652\n",
    "NEO,Neo,8.0021900156653787\n",
    "SNX,Synthetix,2.3228864183497292\n",
    "FTM,Fantom,0.2102246384493305\n",
    "PAXG,PAX Gold,1644.4094733083955492\n",
    "RUNE,THORChain,1.5282435243374619\n",
    "CSPR,Casper,0.0476674556879436\n",
    "NEXO,Nexo,0.8832896052083875\n",
    "GT,GateToken,4.4557623764754065\n",
    "CRV,Curve DAO Token,0.8921825633649859\n",
    "LDO,Lido DAO,1.4772088170539759\n",
    "DASH,Dash,41.8343708638219334\n",
    "TWT,Trust Wallet Token,1.0933760810847815\n",
    "KLAY,Klaytn,0.1431735645306835\n",
    "ENJ,Enjin Coin,0.4354700786242877\n",
    "BAT,Basic Attention Token,0.2878496845537534\n",
    "ZIL,Zilliqa,0.0311437068099592\n",
    "STX,Stacks,0.3102923018272279\n",
    "MINA,Mina,0.5673835124604605\n",
    "KAVA,Kava,1.4136802712115050\n",
    "COMP,Compound,54.5009088022327804\n",
    "FEI,Fei Protocol,0.9283069925471570\n",
    "DCR,Decred,27.1466698320543600\n",
    "WAVES,Waves,3.5083690076320213\n",
    "CVX,Convex Finance,5.5986986092061085\n",
    "USTC,TerraClassicUSD,0.0382145299775303\n",
    "XDC,XinFin Network,0.0302876969401718\n",
    "RVN,Ravencoin,0.0311956315613949\n",
    "1INCH,1inch Network,0.5734060742808990\n",
    "CELO,Celo,0.7520419817182903\n",
    "XEM,NEM,0.0389918604697539\n",
    "LRC,Loopring,0.2625339752287427\n",
    "HOT,Holo,0.0020048162148176\n",
    "AR,Arweave,10.0088639233514767\n",
    "BTG,Bitcoin Gold,18.4848350653923686\n",
    "KSM,Kusama,37.7614911731186198\n",
    "BNX,BinaryX,149.4011303545838540\n",
    "GUSD,Gemini Dollar,0.9988280593811273\n",
    "DFI,DeFiChain,0.5870285501330909\n",
    "\n"
   ]
  }
 ],
 "metadata": {
  "kernelspec": {
   "display_name": "Python 3.9.12 ('base')",
   "language": "python",
   "name": "python3"
  },
  "language_info": {
   "codemirror_mode": {
    "name": "ipython",
    "version": 3
   },
   "file_extension": ".py",
   "mimetype": "text/x-python",
   "name": "python",
   "nbconvert_exporter": "python",
   "pygments_lexer": "ipython3",
   "version": "3.9.12"
  },
  "orig_nbformat": 4,
  "vscode": {
   "interpreter": {
    "hash": "40fb0cd5d44f051881184c5210ed52312dabb6d62ace68d9106c589b91788473"
   }
  }
 },
 "nbformat": 4,
 "nbformat_minor": 2
}
