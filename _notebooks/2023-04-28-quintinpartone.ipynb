{
 "cells": [
  {
   "attachments": {},
   "cell_type": "markdown",
   "metadata": {},
   "source": [
    "# Developing with Frontend & Backend\n",
    "> To get started with development, you need tools. You'll learn how to get the necessary tools here using Conda scripts.\n",
    "\n",
    "- toc: true\n",
    "- badges: false\n",
    "- comments: true\n",
    "- author: Paaras Purohit, Chinmay Ramamurthy, Raunak Mondal, Tanay Patel, Qais Jamili\n",
    "- categories: [student]\n",
    "- type: ap\n",
    "- week: 30\n",
    "- permalink: /quintinpartone"
   ]
  },
  {
   "attachments": {},
   "cell_type": "markdown",
   "metadata": {},
   "source": [
    "# Setting up Machines with Conda Scripts "
   ]
  },
  {
   "attachments": {},
   "cell_type": "markdown",
   "metadata": {},
   "source": [
    "## GitHub\n",
    "\n",
    "- What is GitHub?<br>\n",
    "Github is a digital portfolio for storing collaboration.\n",
    "- Why do we use GitHub? Why not Google Drive or messages?<br>\n",
    "Github is built specificly for coding.\n",
    "- What's the difference between Git and GitHub?<br>\n",
    "Git is a tool that manage multiple version of source code and github is a application.\n",
    "- Name as many Git commands as you can:<br>\n",
    "Push, pull, sync, and merge."
   ]
  },
  {
   "attachments": {},
   "cell_type": "markdown",
   "metadata": {},
   "source": [
    "## Two Main Machines\n",
    "- Which is better, MacOS or Windows?<br>\n",
    "Windows is better because it's compatiable with more extensions.\n",
    "- Give some differences between MacOS and Windows in terms of the development we use in APCSP:<br>\n",
    "They have different command in command prompt.\n",
    "- If you are on Windows, you want to skip the MacOS Setup instructions."
   ]
  },
  {
   "attachments": {},
   "cell_type": "markdown",
   "metadata": {},
   "source": [
    "## Our Tools:\n",
    "\n",
    "- What is the first tool you remember installing?<br>\n",
    "Vs code\n",
    "- Why was installations so hard the first time?<br>\n",
    "Because the machine was not setup for programming and there were some incompatibility.\n",
    "- Without looking back at previous notes, name three tools you remember installing. This can be kernels, extensions, any installation for APCSP, and also write why it is needed.<br>\n",
    "jupyter, python, javascript, bash."
   ]
  },
  {
   "attachments": {},
   "cell_type": "markdown",
   "metadata": {},
   "source": [
    "## Actual Installations:\n",
    "\n",
    "Tool setup is a week 0 thing. You should already have the knowledge to set up your machine. There is also a high chance you had to remove your environments and set up your machine again due to errors. If, for some reason, these don't apply to you, go [here](https://nighthawkcoders.github.io/APCSP//techtalk/tools) to set up your machine, [here](https://nighthawkcoders.github.io/APCSP//techtalk/bash) to check everything working with Bash, and [here](https://nighthawkcoders.github.io/APCSP//c7.1/2022/09/12/PBL-fastpages-docker.html) for Docker setup, which are the main tools on our machine needed to develop in APCSP."
   ]
  },
  {
   "attachments": {},
   "cell_type": "markdown",
   "metadata": {},
   "source": [
    "### MacOS Conda Scripts\n",
    "\n",
    "After installing Homebrew, VSCode, and Python2, you'll need to run these Homebrew commands:"
   ]
  },
  {
   "cell_type": "code",
   "execution_count": null,
   "metadata": {
    "vscode": {
     "languageId": "shellscript"
    }
   },
   "outputs": [],
   "source": [
    "brew list # list packages\n",
    "brew update # update package list\n",
    "brew upgrade # upgrade packages\n",
    "brew install git  # install latest git\n",
    "brew install python # install python3 for development\n",
    "python --version # version of python3 installed\n",
    "brew install java # openjdk install"
   ]
  },
  {
   "attachments": {},
   "cell_type": "markdown",
   "metadata": {},
   "source": [
    "### Windows Conda Scripts\n",
    "\n",
    "To get set up, run these commands:"
   ]
  },
  {
   "cell_type": "code",
   "execution_count": null,
   "metadata": {
    "vscode": {
     "languageId": "shellscript"
    }
   },
   "outputs": [],
   "source": [
    "wsl --install\n",
    "wsl --list\n",
    "wsl --install -d Ubuntu-20.04\n",
    "# restart machine\n",
    "wsl\n",
    "cd ~\n",
    "mkdir vscode\n",
    "ls\n",
    "cd ~/vscode  # changes the directory to path for vscode files\n",
    "git clone https://github.com/nighthawkcoders/APCSP.git # clone repo\n",
    "cd APCSP  # changes the directory to path for APCSP repos assets\n",
    "code .  # opens APCSP in VSCode\n",
    "cd ..    # changes the directory to the previous/parent directory\n",
    "git config --global user.email mygmail@gmail.com  # tell git your email\n",
    "git config --global user.name mygithub   # tell git your github id\n",
    "shay@MSI:/mnt/c/Users/ShayM$ git config --global user.email your@email.here\n",
    "shay@MSI:/mnt/c/Users/ShayM$ git config --global user.name yourusernamehere\n",
    "# restart machine\n",
    "PS C:\\Users\\UserName> wsl  # Windows prompt to WSL command\n",
    "cd /tmp\n",
    "wget https://repo.anaconda.com/archive/Anaconda3-2022.05-Linux-x86_64.sh\n",
    "chmod +x Anaconda3-2022.05-Linux-x86_64.sh\n",
    "# Answer yes to all the prompts\n",
    "./Anaconda3-2022.05-Linux-x86_64.sh\n",
    "# run apt package commands now\n",
    "sudo apt list # list packages\n",
    "sudo apt update # update package list\n",
    "sudo apt upgrade # upgrade packages\n",
    "sudo apt install python2 # install python2 for package dependencies\n",
    "sudo apt install python3 python3-pip # install python3 and pip3 for development\n",
    "python --version  # version of python3 should be shown\n",
    "sudo apt install default-jdk default-jre  # java install\n",
    "java --version  # java runtime version\n",
    "javac --version # java compiler version\n",
    "sudo apt install unzip  # unzip utility"
   ]
  },
  {
   "attachments": {},
   "cell_type": "markdown",
   "metadata": {},
   "source": [
    "### Setting Up Kernels\n",
    "\n",
    "Now that you have everything installed on MacOS/Windows, we need to get kernels installed so that we can develop inside Fastpages notebooks. To do that, run these commands on both MacOS and Windows:"
   ]
  },
  {
   "cell_type": "code",
   "execution_count": null,
   "metadata": {
    "vscode": {
     "languageId": "shellscript"
    }
   },
   "outputs": [],
   "source": [
    "(base) id:~$ conda --version \n",
    "(base) id:~$ conda install jupyter # install jupyter\n",
    "(base) id:~$ jupyter kernelspec list # list installed kernels\n",
    "Available kernels:\n",
    "  python3    /home/shay/.local/share/jupyter/kernels/python3\n",
    "\n",
    "(base) id:~$ # start in home directory\n",
    "(base) id:~$ pip install bash_kernel # download bash kernel\n",
    "Collecting bash_kernel\n",
    "  Downloading bash_kernel-0.7.2-py2.py3-none-any.whl (15 kB)\n",
    "Requirement already satisfied: pexpect>=4.0 in ./anaconda3/lib/python3.9/site-packages (from bash_kernel) (4.8.0)\n",
    "Requirement already satisfied: ptyprocess>=0.5 in ./anaconda3/lib/python3.9/site-packages (from pexpect>=4.0->bash_kernel) (0.7.0)\n",
    "Installing collected packages: bash-kernel\n",
    "Successfully installed bash-kernel-0.7.2\n",
    "(base) id:~$ python -m bash_kernel.install # install kernel\n",
    "Installing IPython kernel spec\n",
    "(base) id:~$ jupyter kernelspec list # list kernels\n",
    "Available kernels:\n",
    "  bash       /home/shay/.local/share/jupyter/kernels/bash\n",
    "  python3    /home/shay/.local/share/jupyter/kernels/python3\n",
    "\n",
    "(base) id:~$ conda install nodejs # node is framework for JavaScript kernel\n",
    "(base) id:~$ npm -version  # node package manager comes with nodejs\n",
    "(base) id:~$ npm install -g ijavascript  # get the kernel\n",
    "(base) id:~$ ijsinstall # install javascript kernel\n",
    "(base) id:~$ jupyter kernelspec list # list kernels\n",
    "Available kernels:\n",
    "  bash          /home/shay/.local/share/jupyter/kernels/bash\n",
    "  javascript    /home/shay/.local/share/jupyter/kernels/javascript\n",
    "  python3       /home/shay/.local/share/jupyter/kernels/python3"
   ]
  },
  {
   "attachments": {},
   "cell_type": "markdown",
   "metadata": {},
   "source": [
    "By now, you should already know how to clone Git repositories into your VSCode directory. Once you do that, you're all set for developing with GitHub Pages and Fastpages!"
   ]
  },
  {
   "attachments": {},
   "cell_type": "markdown",
   "metadata": {},
   "source": [
    "## Before We Set Up Pages, A Guide to Git\n",
    "\n",
    "As we've discussed, Git is different from GitHub. Because GitHub is merely the place where we store Git repos, we use Git's commands to help us get, open, and configure these repositories. Here are some of the Git commands you should be using a lot (In the comments, tell what each Git command does):"
   ]
  },
  {
   "cell_type": "code",
   "execution_count": null,
   "metadata": {
    "vscode": {
     "languageId": "shellscript"
    }
   },
   "outputs": [],
   "source": [
    "git clone {repos-name-here.git} # what does it do?\n",
    "# it clone a github repository to vscode so you can commit.\n",
    "git checkout [branch] # what does it do?\n",
    "# Switch branches or restore working tree files\n",
    "git fork {repos-name-here.git} # what does it do?\n",
    "# a copy of an existing repository in which the new owner disconnects the codebase from previous committers. \n",
    "git commit -m {\"commit-msg\"} # what does it do?\n",
    "# It commit the changes so you can sync it\n",
    "git pull # what does it do?\n",
    "# It pull the updated data frem github\n",
    "git push # what does it do?\n",
    "# It push your change to github\n",
    "\n",
    "# After this line, name other commands that you can use and what they do. This should be easy, as you've already answered the qeue\n",
    "# We could also use git merge that merge branches and changes."
   ]
  },
  {
   "attachments": {},
   "cell_type": "markdown",
   "metadata": {},
   "source": [
    "## Setting Up GitHub Pages\n",
    "\n",
    "Some of you may have come to know that GitHub Pages is starting to become outdated. So why do we still use it? The answer is that we are in a class, and following a curriculum with something like GitHub Pages is much easier than creating portfolio content from scratch, which becomes quite unecessary. Therefore, we can use GitHub Pages to create this content instead. On the topic of unecessary vs necessary coding, we don't need to make GitHub Pages from scratch as opposed to using a template that our very own Mr. Mortensen created for us. To do that, we can go to the [Leuck Reunion](https://github.com/jm1021/leuck_reunion) repository and use the template to make our own GitHub Pages. Then, in Ubuntu, we can ```git clone``` our repository and open it in VSCode. After we have it open, the last thing we want to do is set up local hosting for this website, so that we can preview it and make changes in real time. To do that, head [here](https://jekyllrb.com/docs/installation/ubuntu/) to install Jekyll for Ubuntu, [here](https://www.ruby-lang.org/en/documentation/installation/) to install Ruby next, and [here](https://bundler.io/) to finalize the process by installing Bundler."
   ]
  },
  {
   "attachments": {},
   "cell_type": "markdown",
   "metadata": {},
   "source": [
    "## Setting Up FastPages\n",
    "\n",
    "In Setting Up Github Pages, we talked about how it is easier to use a template to create portfolio content. It is also easier to use a template when creating the portfolio itself. To do that, we can use Fastpages, which is what we have been using to show our blogs, code, and projects. However, Fastpages has been deprecated for some time now, so the instructions in Week 0 won't be effective. So, we need to fork the APCSP Fastpages. To do that, follow [this]() video to get started developing with Fastpages."
   ]
  },
  {
   "attachments": {},
   "cell_type": "markdown",
   "metadata": {},
   "source": [
    "# Hacks\n",
    "\n",
    "- Show how you incorporate three tools that we have installed into your project. 0.1 points for each feature. (0.3). This can include code, but definitely blog about it.\n",
    "- frontend hack goes here\n",
    "- backend hack goes here"
   ]
  },
  {
   "cell_type": "code",
   "execution_count": null,
   "metadata": {},
   "outputs": [],
   "source": [
    "import sqlite3\n",
    "\n",
    "conn = sqlite3.connect('books.db')\n",
    "c = conn.cursor()\n",
    "\n",
    "c.execute('''CREATE TABLE books\n",
    "             (id INTEGER PRIMARY KEY,\n",
    "              title TEXT,\n",
    "              author TEXT)''')\n",
    "\n",
    "books = [\n",
    "    {\"id\": 1, \"title\": \"Intro to EE\", \"author\": \"John Smith\"},\n",
    "    {\"id\": 2, \"title\": \"Advance coding\", \"author\": \"John Doe\"},\n",
    "    {\"id\": 3, \"title\": \"Airplanes\", \"author\": \"Bob Johnson\"}\n",
    "]\n",
    "\n",
    "for book in books:\n",
    "    c.execute(\"INSERT INTO books VALUES (?, ?, ?)\", (book[\"id\"], book[\"title\"], book[\"author\"]))\n",
    "\n",
    "conn.commit()\n",
    "conn.close()"
   ]
  },
  {
   "cell_type": "code",
   "execution_count": null,
   "metadata": {},
   "outputs": [],
   "source": [
    "from flask import Flask, jsonify, request\n",
    "\n",
    "app = Flask(__name__)\n",
    "\n",
    "# Sample data to be used in the API\n",
    "books = [\n",
    "    {\"id\": 1, \"title\": \"Intro to EE\", \"author\": \"John Smith\"},\n",
    "    {\"id\": 2, \"title\": \"Advance coding\", \"author\": \"John Doe\"},\n",
    "    {\"id\": 3, \"title\": \"Airplanes\", \"author\": \"Bob Johnson\"}\n",
    "]\n",
    "\n",
    "# Create endpoint\n",
    "@app.route('/books', methods=['POST'])\n",
    "def create_book():\n",
    "    book = request.get_json()\n",
    "    books.append(book)\n",
    "    return jsonify({\"message\": \"Book created successfully\"}), 201\n",
    "\n",
    "# Read all books endpoint\n",
    "@app.route('/books', methods=['GET'])\n",
    "def read_books():\n",
    "    return jsonify(books), 200\n",
    "\n",
    "# Read single book endpoint\n",
    "@app.route('/books/<int:id>', methods=['GET'])\n",
    "def read_book(id):\n",
    "    for book in books:\n",
    "        if book[\"id\"] == id:\n",
    "            return jsonify(book), 200\n",
    "    return jsonify({\"message\": \"Book not found\"}), 404\n",
    "\n",
    "# Update endpoint\n",
    "@app.route('/books/<int:id>', methods=['PUT'])\n",
    "def update_book(id):\n",
    "    for book in books:\n",
    "        if book[\"id\"] == id:\n",
    "            updated_book = request.get_json()\n",
    "            book.update(updated_book)\n",
    "            return jsonify({\"message\": \"Book updated successfully\"}), 200\n",
    "    return jsonify({\"message\": \"Book not found\"}), 404\n",
    "\n",
    "# Delete endpoint\n",
    "@app.route('/books/<int:id>', methods=['DELETE'])\n",
    "def delete_book(id):\n",
    "    for index, book in enumerate(books):\n",
    "        if book[\"id\"] == id:\n",
    "            books.pop(index)\n",
    "            return jsonify({\"message\": \"Book deleted successfully\"}), 200\n",
    "    return jsonify({\"message\": \"Book not found\"}), 404\n",
    "\n",
    "if __name__ == '__main__':\n",
    "    app.run(debug=True)"
   ]
  },
  {
   "attachments": {},
   "cell_type": "markdown",
   "metadata": {},
   "source": [
    "### Fetch"
   ]
  },
  {
   "cell_type": "code",
   "execution_count": null,
   "metadata": {
    "vscode": {
     "languageId": "html"
    }
   },
   "outputs": [],
   "source": [
    "<!DOCTYPE html>\n",
    "<html>\n",
    "<head>\n",
    "    <title>Book List</title>\n",
    "    <style>\n",
    "        /* Add some basic styles for the book list */\n",
    "        body {\n",
    "            font-family: Arial, sans-serif;\n",
    "        }\n",
    "        h1 {\n",
    "            text-align: center;\n",
    "        }\n",
    "        ul {\n",
    "            list-style-type: none;\n",
    "            margin: 0;\n",
    "            padding: 0;\n",
    "        }\n",
    "        li {\n",
    "            margin: 10px;\n",
    "            padding: 10px;\n",
    "            border: 1px solid #ccc;\n",
    "        }\n",
    "    </style>\n",
    "</head>\n",
    "<body>\n",
    "    <h1>Book List</h1>\n",
    "    <ul id=\"book-list\"></ul>\n",
    "\n",
    "    <!-- Load the JavaScript file -->\n",
    "    <script src=\"script.js\"></script>\n",
    "</body>\n",
    "</html>"
   ]
  },
  {
   "cell_type": "code",
   "execution_count": null,
   "metadata": {
    "vscode": {
     "languageId": "javascript"
    }
   },
   "outputs": [],
   "source": [
    "\n",
    "const apiUrl = 'http://localhost:5000/books';\n",
    "\n",
    "const bookList = document.getElementById('book-list');\n",
    "\n",
    "// Fetch the book data from the API\n",
    "fetch(apiUrl)\n",
    "    .then(response => response.json())\n",
    "    .then(data => {\n",
    "        // Loop through the book data and create a list item for each book\n",
    "        data.forEach(book => {\n",
    "            const li = document.createElement('li');\n",
    "            li.innerText = `${book.title} by ${book.author}`;\n",
    "            bookList.appendChild(li);\n",
    "        });\n",
    "    })\n",
    "    .catch(error => console.error(error));\n"
   ]
  }
 ],
 "metadata": {
  "kernelspec": {
   "display_name": "base",
   "language": "python",
   "name": "python3"
  },
  "language_info": {
   "codemirror_mode": {
    "name": "ipython",
    "version": 3
   },
   "file_extension": ".py",
   "mimetype": "text/x-python",
   "name": "python",
   "nbconvert_exporter": "python",
   "pygments_lexer": "ipython3",
   "version": "3.9.13"
  },
  "orig_nbformat": 4
 },
 "nbformat": 4,
 "nbformat_minor": 2
}
