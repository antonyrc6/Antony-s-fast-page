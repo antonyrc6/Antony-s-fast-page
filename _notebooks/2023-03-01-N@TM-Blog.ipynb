{
 "cells": [
  {
   "attachments": {},
   "cell_type": "markdown",
   "metadata": {},
   "source": [
    "# Night at the Museum Blog\n",
    "- title: Night at the Museum Blog\n",
    "- toc: true\n",
    "- type: blog\n",
    "- week: 22"
   ]
  },
  {
   "attachments": {},
   "cell_type": "markdown",
   "metadata": {},
   "source": [
    "### Presentation reflection\n",
    "I didn't finish my feature and our group project was incomplete. However, Quinn present the feature that we already has, for example, the stock searching feature that allows user to search the status stock by its name, and the stock graph feature that show the trend of each stock."
   ]
  },
  {
   "attachments": {},
   "cell_type": "markdown",
   "metadata": {},
   "source": [
    "### Other projects I saw\n",
    "- They have clean and creative ui\n",
    "- The text inputs and imageries are really organized\n",
    "- The background color make user interested to use their product\n",
    "![](images/Capture12.jpeg)"
   ]
  },
  {
   "attachments": {},
   "cell_type": "markdown",
   "metadata": {},
   "source": [
    "The other group I notice in APCSA has a really good login page where user can signup with goggle. After sign in, the user can have a dashboard with all the posts and users are able to comment in posts or create posts."
   ]
  }
 ],
 "metadata": {
  "kernelspec": {
   "display_name": "base",
   "language": "python",
   "name": "python3"
  },
  "language_info": {
   "name": "python",
   "version": "3.9.12"
  },
  "orig_nbformat": 4,
  "vscode": {
   "interpreter": {
    "hash": "40fb0cd5d44f051881184c5210ed52312dabb6d62ace68d9106c589b91788473"
   }
  }
 },
 "nbformat": 4,
 "nbformat_minor": 2
}
