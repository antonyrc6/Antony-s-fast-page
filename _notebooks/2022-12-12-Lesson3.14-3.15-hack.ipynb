{
 "cells": [
  {
   "attachments": {},
   "cell_type": "markdown",
   "metadata": {},
   "source": [
    "# Lesson 3.14 & 3.15 hack\n",
    "- title: Lesson 3.14 & 3.15 hack\n",
    "- toc: true\n",
    "- categories: [notebook]\n",
    "- tags: [blog]\n",
    "- comments: true"
   ]
  },
  {
   "attachments": {},
   "cell_type": "markdown",
   "metadata": {},
   "source": [
    "### Hack 3.14.1\n",
    "This code returns you the number of ways to choose k items from n items without repetition and without order."
   ]
  },
  {
   "cell_type": "code",
   "execution_count": 1,
   "metadata": {},
   "outputs": [
    {
     "data": {
      "text/plain": [
       "66"
      ]
     },
     "execution_count": 1,
     "metadata": {},
     "output_type": "execute_result"
    }
   ],
   "source": [
    "import math\n",
    "math.comb(12,10)"
   ]
  },
  {
   "attachments": {},
   "cell_type": "markdown",
   "metadata": {},
   "source": [
    "### Hack 3.15.1\n",
    "* Write a few lines of code that implements the import function\n",
    "* Define what an import random function do\n",
    "- It allows you to pick a random integer from a range.\n",
    "* List a few other things that we can import other than random\n",
    "- You can also import flask, NumPy, and TensorFlow"
   ]
  },
  {
   "cell_type": "code",
   "execution_count": 5,
   "metadata": {},
   "outputs": [
    {
     "name": "stdout",
     "output_type": "stream",
     "text": [
      "The root of 4 is 2.0\n"
     ]
    }
   ],
   "source": [
    "import math\n",
    "num = input(\"what number do you want to square root?\")\n",
    "squart = math.sqrt(int(num))\n",
    "print(\"The root of\",num,\"is\",squart)"
   ]
  },
  {
   "attachments": {},
   "cell_type": "markdown",
   "metadata": {},
   "source": [
    "### Hack 3.15.2\n",
    "- For your hacks you need to create a random number generator that will simulate this situation:\n",
    "- There is a spinner divided into eight equal parts. 3 parts of the spinner are green, two parts are blue, one part is purple, one part is red, and one part is orange. How can you simulate this situation using a random number generator.\n",
    " \n",
    "- Also answer this question: What numbers can be outputted from RANDOM(12,20) and what numbers are excluded?\n",
    "- It's any number greater than or equal to 12 and less than or equal to 20."
   ]
  },
  {
   "cell_type": "code",
   "execution_count": 11,
   "metadata": {},
   "outputs": [
    {
     "name": "stdout",
     "output_type": "stream",
     "text": [
      "The food is pizza\n"
     ]
    }
   ],
   "source": [
    "import random\n",
    "landed_on = random.randint(1,10)\n",
    "if landed_on <= 4:\n",
    "    color = \"rice\"\n",
    "elif 4<= landed_on <= 6:\n",
    "    color = \"noodle\"\n",
    "elif landed_on == 7:\n",
    "    color = \"fruit\"\n",
    "elif landed_on == 10:\n",
    "    color = \"pizza\"\n",
    "\n",
    "print(\"The food is\", color)"
   ]
  }
 ],
 "metadata": {
  "kernelspec": {
   "display_name": "base",
   "language": "python",
   "name": "python3"
  },
  "language_info": {
   "codemirror_mode": {
    "name": "ipython",
    "version": 3
   },
   "file_extension": ".py",
   "mimetype": "text/x-python",
   "name": "python",
   "nbconvert_exporter": "python",
   "pygments_lexer": "ipython3",
   "version": "3.9.12"
  },
  "orig_nbformat": 4,
  "vscode": {
   "interpreter": {
    "hash": "40fb0cd5d44f051881184c5210ed52312dabb6d62ace68d9106c589b91788473"
   }
  }
 },
 "nbformat": 4,
 "nbformat_minor": 2
}
