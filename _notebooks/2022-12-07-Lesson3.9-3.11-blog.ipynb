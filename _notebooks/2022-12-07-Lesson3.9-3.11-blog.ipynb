{
 "cells": [
  {
   "cell_type": "markdown",
   "metadata": {},
   "source": [
    "# Lesson 3.9 3.11 blog\n",
    "- title: Lesson 3.9 3.11 blog\n",
    "- toc: true\n",
    "- categories: [notebook]\n",
    "- tags: [hack]\n",
    "- comments: true"
   ]
  },
  {
   "attachments": {},
   "cell_type": "markdown",
   "metadata": {},
   "source": [
    "### Algorithms\n",
    "What are the component of algorithm\n",
    "- Selection\n",
    "- Sequence\n",
    "- Iteration\n"
   ]
  },
  {
   "attachments": {},
   "cell_type": "markdown",
   "metadata": {},
   "source": [
    "When collaborating or working on group projects, two people might come up with two different ways to solve a problem, and that happens a lot."
   ]
  },
  {
   "attachments": {},
   "cell_type": "markdown",
   "metadata": {},
   "source": [
    "### Developing Algorithms\n",
    "- When creating an algorithm, its good to outline its process before coding\n",
    "    - This ensures that it is **sequenced** correctly\n",
    "- You should represent the algorithm using a flowchart or natural language\n",
    "    - Visualization can help you better see the flow of the whole algorithm\n",
    "    - This may allow for the coding process to be more efficient and effective\n",
    "\n",
    "- simple existing algorithms can include\n",
    "    - determining min or max of two or more numbers\n",
    "    - computing the sum or average\n",
    "    - identifying if an integer is even or odd\n",
    "- Using existing correct algorithms can help as building blocks to reduce development time, testing, and identification of errors"
   ]
  }
 ],
 "metadata": {
  "kernelspec": {
   "display_name": "base",
   "language": "python",
   "name": "python3"
  },
  "language_info": {
   "name": "python",
   "version": "3.9.12 (main, Apr  5 2022, 06:56:58) \n[GCC 7.5.0]"
  },
  "orig_nbformat": 4,
  "vscode": {
   "interpreter": {
    "hash": "40fb0cd5d44f051881184c5210ed52312dabb6d62ace68d9106c589b91788473"
   }
  }
 },
 "nbformat": 4,
 "nbformat_minor": 2
}
