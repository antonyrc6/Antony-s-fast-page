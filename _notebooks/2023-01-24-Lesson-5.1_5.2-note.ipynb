{
 "cells": [
  {
   "attachments": {},
   "cell_type": "markdown",
   "metadata": {},
   "source": [
    "# Lesson 5.1 5.2 note\n",
    "- title: Performance Task 3\n",
    "- toc: true\n",
    "- type: blog\n",
    "- week: 19"
   ]
  },
  {
   "attachments": {},
   "cell_type": "markdown",
   "metadata": {},
   "source": [
    "### Digital Divide\n",
    "Deals with “To Have and Have Not” in relation to Computers, Internet, or Technology in general.<br>\n",
    "Poorer or rural areas in America and other countries may have less or little access to Technology<br>\n",
    "Some countries may have different or restricted access, for instance China and USA may have divide in service allowed in their countries.<br>\n",
    "Contributing factors to divide are socioeconomic (money), geographic (location), demographic (education, nationality, religion, and ethnicity)<br>\n",
    "Individual may have less access to latest updates, thus may be working on older generations of computers"
   ]
  }
 ],
 "metadata": {
  "kernelspec": {
   "display_name": "base",
   "language": "python",
   "name": "python3"
  },
  "language_info": {
   "name": "python",
   "version": "3.9.12 (main, Apr  5 2022, 06:56:58) \n[GCC 7.5.0]"
  },
  "orig_nbformat": 4,
  "vscode": {
   "interpreter": {
    "hash": "40fb0cd5d44f051881184c5210ed52312dabb6d62ace68d9106c589b91788473"
   }
  }
 },
 "nbformat": 4,
 "nbformat_minor": 2
}
