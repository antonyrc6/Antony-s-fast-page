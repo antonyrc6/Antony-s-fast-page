{
 "cells": [
  {
   "attachments": {},
   "cell_type": "markdown",
   "metadata": {},
   "source": [
    "# Lesson 5.1 5.2 note\n",
    "- title: Lesson 5.1 5.2 note\n",
    "- toc: true\n",
    "- type: blog\n",
    "- week: 20"
   ]
  },
  {
   "attachments": {},
   "cell_type": "markdown",
   "metadata": {},
   "source": [
    "### Digital Divide\n",
    "Deals with “To Have and Have Not” in relation to Computers, Internet, or Technology in general.<br>\n",
    "Poorer or rural areas in America and other countries may have less or little access to Technology<br>\n",
    "Some countries may have different or restricted access, for instance China and USA may have divide in service allowed in their countries.<br>\n",
    "Contributing factors to divide are socioeconomic (money), geographic (location), demographic (education, nationality, religion, and ethnicity)<br>\n",
    "Individual may have less access to latest updates, thus may be working on older generations of computers"
   ]
  },
  {
   "attachments": {},
   "cell_type": "markdown",
   "metadata": {},
   "source": [
    "### Reflection\n",
    "3 benefit of our project:\n",
    "1. Improve peoples knowledge of stock.\n",
    "2. Provide fun as a game.\n",
    "3. People can know how stock will change before they get into the stock market.<br>\n",
    "\n",
    "A possible harmful effect of our project:<br>\n",
    "People can get addicted with our game."
   ]
  },
  {
   "attachments": {},
   "cell_type": "markdown",
   "metadata": {},
   "source": [
    "### What are pros/cons on internet blockers at router and lack of admin password on lab machines at school?\n",
    "Pros: Student will be guarantees visiting safe websites.\n",
    "Cons: Student will not be able to visit some websites that are mis-blocked.\n",
    "The lack of admin password will give student more access to the lab machines but student can make changes on the lab machines.\n"
   ]
  },
  {
   "attachments": {},
   "cell_type": "markdown",
   "metadata": {},
   "source": [
    "### What concerns do you have personally about the digital divide?  For yourself or for others.\n",
    "The digital divide can separate people to different classes since some people were lack of access to information. Digital divide people by different knowledge they have."
   ]
  }
 ],
 "metadata": {
  "kernelspec": {
   "display_name": "base",
   "language": "python",
   "name": "python3"
  },
  "language_info": {
   "name": "python",
   "version": "3.9.12 (main, Apr  5 2022, 06:56:58) \n[GCC 7.5.0]"
  },
  "orig_nbformat": 4,
  "vscode": {
   "interpreter": {
    "hash": "40fb0cd5d44f051881184c5210ed52312dabb6d62ace68d9106c589b91788473"
   }
  }
 },
 "nbformat": 4,
 "nbformat_minor": 2
}
