{
 "cells": [
  {
   "attachments": {},
   "cell_type": "markdown",
   "metadata": {},
   "source": [
    "# Project Blog\n",
    "- title: Project Blog\n",
    "- toc: true\n",
    "- type: blog\n",
    "- week: 21"
   ]
  },
  {
   "attachments": {},
   "cell_type": "markdown",
   "metadata": {},
   "source": [
    "### Create Account Feature\n",
    "I am working on the login and create account feature in our group. I am doing research based on the database example on the APCSP page. Instead of using javascript container in the example, I decided to replace it with a python file using SQLite database. The database will be storing users id(uid), user's name(name), and user's password(password).\n"
   ]
  },
  {
   "attachments": {},
   "cell_type": "markdown",
   "metadata": {},
   "source": [
    "### Login purpose\n",
    "The user will be guided to the game page that my other group members are working on. In this way, instead of starting the stock game all over again, each user can save their progress in the last game and keep working on it."
   ]
  }
 ],
 "metadata": {
  "kernelspec": {
   "display_name": "base",
   "language": "python",
   "name": "python3"
  },
  "language_info": {
   "name": "python",
   "version": "3.9.12"
  },
  "orig_nbformat": 4,
  "vscode": {
   "interpreter": {
    "hash": "40fb0cd5d44f051881184c5210ed52312dabb6d62ace68d9106c589b91788473"
   }
  }
 },
 "nbformat": 4,
 "nbformat_minor": 2
}
