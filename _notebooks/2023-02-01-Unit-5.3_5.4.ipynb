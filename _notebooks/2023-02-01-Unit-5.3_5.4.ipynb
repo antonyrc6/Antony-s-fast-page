{
 "cells": [
  {
   "attachments": {},
   "cell_type": "markdown",
   "metadata": {},
   "source": [
    "# Lesson 5.3 5.4\n",
    "- title: College board lesson 5.3 5.4\n",
    "- toc: true\n",
    "- type: blog\n",
    "- week: 21"
   ]
  },
  {
   "attachments": {},
   "cell_type": "markdown",
   "metadata": {},
   "source": [
    "### Google “What age groups use Facebook” vs “… TikTok”? What does the data say? Is there purposeful exclusion in these platforms? Is it harmful? Should it be corrected? Is it good business?\n",
    "Facebook is for age 25 to 34 and tictok is for age 13 to 17. There are no exclusion since who have a electronic device can access the app. It is somehow harmful for kids since some videos have bad effects and children tends to became addicted to tictok by the way video slide and the content of the videos. It should be not corrected since the businesses are making a lots of money with it."
   ]
  },
  {
   "attachments": {},
   "cell_type": "markdown",
   "metadata": {},
   "source": [
    "### Why do virtual assistants have female voices? Amazon, Alexa Google, Apple Siri. Was this purposeful? Is it harmful? Should it be corrected? Is it good business?\n",
    "Female voice can usually being trusted by human and humans have preference in voice. It is not harmful since very less people became addicted to virtual assistants. It should be not corrected and it is good for business since people relies on these tools."
   ]
  },
  {
   "attachments": {},
   "cell_type": "markdown",
   "metadata": {},
   "source": [
    "### Talk about an algorithm that influences your decisions, think about these companies (ie FAANG - Facebook, Amazon, Apple,Netflix, Google)\n"
   ]
  },
  {
   "attachments": {},
   "cell_type": "markdown",
   "metadata": {},
   "source": [
    "### Does the owner of the computer think this was intentional?\n",
    "Yes, he think this is intentional because he think it's racist.\n",
    "### How do you think this happened?\n",
    "The company didn't run enough test to test this function.\n",
    "### Is this harmful? Was it intended to be harmful or exclude?\n",
    "Yes, because black people will not be able to use this function in some necessary situation. It is mainly exclude than harmful.\n",
    "### Should it be corrected?\n",
    "Yes, this should be corrected.\n",
    "### What would you or should you do to produce a better outcome?\n",
    "Add more samples to give black people access to use this function.\n"
   ]
  },
  {
   "attachments": {},
   "cell_type": "markdown",
   "metadata": {},
   "source": [
    "### We have all experienced Crowdsourcing by using external data through API’s, namely RapidAPI. This data has influenced how we code and shown possibilities in obtaining and analyzing data. Discuss APIs you have used.\n",
    "We used a stock api to import stock data.\n"
   ]
  },
  {
   "attachments": {},
   "cell_type": "markdown",
   "metadata": {},
   "source": [
    "### Describe a crowdsource idea and how you might initiate it in our environment?\n",
    "People can contribute idea through question asking.\n",
    "### What about Del Norte crowdsourcing? Could your project be better with crowdsourcing?\n",
    "Yes, the crowdsourcing can give more ideas on how to improve your project and how the project will have all the function working well.\n",
    "### What kind of data could you capture at N@tM to make evening interesting? Perhaps use this data to impress Teachers during finals week.\n",
    "We can capture the data of how many people are interested in one of our specific feature.\n",
    "\n"
   ]
  }
 ],
 "metadata": {
  "kernelspec": {
   "display_name": "base",
   "language": "python",
   "name": "python3"
  },
  "language_info": {
   "name": "python",
   "version": "3.9.12"
  },
  "orig_nbformat": 4,
  "vscode": {
   "interpreter": {
    "hash": "40fb0cd5d44f051881184c5210ed52312dabb6d62ace68d9106c589b91788473"
   }
  }
 },
 "nbformat": 4,
 "nbformat_minor": 2
}
